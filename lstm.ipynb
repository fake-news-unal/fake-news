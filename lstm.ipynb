{
 "cells": [
  {
   "cell_type": "markdown",
   "id": "7c6c8941-6393-46e3-a82e-6bfc1a698ba8",
   "metadata": {},
   "source": [
    "# Modelo LSTM"
   ]
  },
  {
   "cell_type": "markdown",
   "id": "22144207-f3bf-4404-ba25-fad3b4138dfd",
   "metadata": {},
   "source": [
    "## Lectura de datos"
   ]
  },
  {
   "cell_type": "code",
   "execution_count": 3,
   "id": "b6eb81dc-bb2e-48f4-ade6-8e8c2928bc0d",
   "metadata": {},
   "outputs": [],
   "source": [
    "import pandas as pd\n",
    "import nltk\n",
    "import gensim\n",
    "\n",
    "df = pd.read_pickle(\"./dataset/final.pkl\")"
   ]
  },
  {
   "cell_type": "markdown",
   "id": "8036384f-c3df-462c-8e50-6e8a1b1d3b09",
   "metadata": {
    "tags": []
   },
   "source": [
    "#### Total de palabras en el Dataset"
   ]
  },
  {
   "cell_type": "code",
   "execution_count": 4,
   "id": "eb27146a-26cf-4167-8b96-efc95db28e62",
   "metadata": {
    "tags": []
   },
   "outputs": [
    {
     "name": "stdout",
     "output_type": "stream",
     "text": [
      "Total words:8844981 unique_words:96148\n"
     ]
    }
   ],
   "source": [
    "list_of_words = []\n",
    "unique_words = set()\n",
    "for document in df.clean:\n",
    "    for word in document:\n",
    "        list_of_words.append(word)\n",
    "        unique_words.add(word)\n",
    "        \n",
    "total_words = len(list_of_words)  # total words\n",
    "unique_words = len(unique_words)   # total unique words\n",
    "print(\"Total words:\" + str(total_words) + \" unique_words:\" + str(unique_words))"
   ]
  },
  {
   "cell_type": "markdown",
   "id": "babeb2e6-6494-4974-86df-c32fb2b31f3c",
   "metadata": {},
   "source": [
    "## Partición del dataset"
   ]
  },
  {
   "cell_type": "code",
   "execution_count": 5,
   "id": "23007318-5aa2-433a-a7c5-b820ee32e691",
   "metadata": {},
   "outputs": [],
   "source": [
    "from sklearn.model_selection import train_test_split\n",
    "x_train, x_test, y_train, y_test = train_test_split(df.clean_joined, df.isfake, test_size = 0.2)"
   ]
  },
  {
   "cell_type": "code",
   "execution_count": 6,
   "id": "aef1ab42-77b5-4f09-afe6-808e71f4a067",
   "metadata": {},
   "outputs": [],
   "source": [
    "from sklearn.feature_extraction.text import TfidfVectorizer\n",
    "\n",
    "vectorization = TfidfVectorizer()\n",
    "xv_train = vectorization.fit_transform(x_train)\n",
    "xv_test = vectorization.transform(x_test)"
   ]
  },
  {
   "cell_type": "code",
   "execution_count": 7,
   "id": "7cccb2a8-3e21-437a-badf-0b033286a90f",
   "metadata": {},
   "outputs": [
    {
     "data": {
      "text/plain": [
       "<1x87349 sparse matrix of type '<class 'numpy.float64'>'\n",
       "\twith 187 stored elements in Compressed Sparse Row format>"
      ]
     },
     "execution_count": 7,
     "metadata": {},
     "output_type": "execute_result"
    }
   ],
   "source": [
    "xv_train[0]"
   ]
  },
  {
   "cell_type": "code",
   "execution_count": 8,
   "id": "2ec4f187-5c96-4693-95f2-ada3a313b761",
   "metadata": {},
   "outputs": [],
   "source": [
    "from nltk import word_tokenize\n",
    "from keras.preprocessing import text,sequence\n",
    "from tensorflow.keras.preprocessing.text import one_hot, Tokenizer\n",
    "\n",
    "tokenizer = Tokenizer(num_words = total_words)\n",
    "tokenizer.fit_on_texts(x_train)\n",
    "train_sequences = tokenizer.texts_to_sequences(x_train)\n",
    "test_sequences = tokenizer.texts_to_sequences(x_test)\n",
    "# train_sequences = tokenizer.texts_to_sequences(x_train)\n",
    "# X_test = sequence.pad_sequences(train_sequences, maxlen=300)\n",
    "# X_test[0]"
   ]
  },
  {
   "cell_type": "code",
   "execution_count": 9,
   "id": "c66d2806-2ad4-419b-8e35-15f9a8d3825d",
   "metadata": {},
   "outputs": [],
   "source": [
    "from tensorflow.keras.preprocessing.sequence import pad_sequences\n",
    "padded_train = pad_sequences(train_sequences,maxlen = 40, padding = 'post', truncating = 'post')\n",
    "padded_test = pad_sequences(test_sequences,maxlen = 40, truncating = 'post') "
   ]
  },
  {
   "cell_type": "code",
   "execution_count": 10,
   "id": "840bf499-9b4f-4b35-8010-4a90bfb40f09",
   "metadata": {},
   "outputs": [
    {
     "name": "stdout",
     "output_type": "stream",
     "text": [
      "Model: \"sequential\"\n",
      "_________________________________________________________________\n",
      "Layer (type)                 Output Shape              Param #   \n",
      "=================================================================\n",
      "embedding (Embedding)        (None, None, 128)         1132157568\n",
      "_________________________________________________________________\n",
      "bidirectional (Bidirectional (None, 256)               263168    \n",
      "_________________________________________________________________\n",
      "dense (Dense)                (None, 128)               32896     \n",
      "_________________________________________________________________\n",
      "dense_1 (Dense)              (None, 1)                 129       \n",
      "=================================================================\n",
      "Total params: 1,132,453,761\n",
      "Trainable params: 1,132,453,761\n",
      "Non-trainable params: 0\n",
      "_________________________________________________________________\n"
     ]
    }
   ],
   "source": [
    "from tensorflow.keras.models import Sequential\n",
    "from tensorflow.keras.layers import Dense, Flatten, Embedding, Input, LSTM, Conv1D, MaxPool1D, Bidirectional\n",
    "# Sequential Model\n",
    "model = Sequential()\n",
    "\n",
    "# embeddidng layer\n",
    "model.add(Embedding(total_words, output_dim = 128))\n",
    "# model.add(Embedding(total_words, output_dim = 240))\n",
    "\n",
    " \n",
    "# Bi-Directional RNN and LSTM\n",
    "model.add(Bidirectional(LSTM(128)))\n",
    "\n",
    "# Dense layers\n",
    "model.add(Dense(128, activation = 'relu'))\n",
    "model.add(Dense(1,activation= 'sigmoid'))\n",
    "model.compile(optimizer='adam', loss='binary_crossentropy', metrics=['acc'])\n",
    "model.summary()"
   ]
  },
  {
   "cell_type": "code",
   "execution_count": 11,
   "id": "56fe1a97-cd18-4c72-ad60-dd669eb1b1a2",
   "metadata": {},
   "outputs": [
    {
     "name": "stdout",
     "output_type": "stream",
     "text": [
      "[name: \"/device:CPU:0\"\n",
      "device_type: \"CPU\"\n",
      "memory_limit: 268435456\n",
      "locality {\n",
      "}\n",
      "incarnation: 12132530205585418116\n",
      "]\n",
      "Num GPUs Available:  0\n"
     ]
    }
   ],
   "source": [
    "from tensorflow.python.client import device_lib \n",
    "import tensorflow as tf\n",
    "print(device_lib.list_local_devices())\n",
    "print(\"Num GPUs Available: \", len(tf.config.list_physical_devices('GPU')))"
   ]
  },
  {
   "cell_type": "code",
   "execution_count": 12,
   "id": "97c7abe6-72e0-4d5b-976c-cfd5067b5c76",
   "metadata": {},
   "outputs": [
    {
     "data": {
      "text/plain": [
       "8844981"
      ]
     },
     "execution_count": 12,
     "metadata": {},
     "output_type": "execute_result"
    }
   ],
   "source": [
    "padded_train = pad_sequences(train_sequences,maxlen = 40, padding = 'post', truncating = 'post')\n",
    "padded_test = pad_sequences(test_sequences,maxlen = 40, truncating = 'post') \n",
    "total_words"
   ]
  },
  {
   "cell_type": "code",
   "execution_count": 13,
   "id": "d212981f-b721-45a5-ab91-a3f10cc28bd4",
   "metadata": {},
   "outputs": [
    {
     "name": "stdout",
     "output_type": "stream",
     "text": [
      "Epoch 1/2\n",
      "506/506 [==============================] - 4168s 8s/step - loss: 0.0443 - acc: 0.9825 - val_loss: 0.0072 - val_acc: 0.9981\n",
      "Epoch 2/2\n",
      "506/506 [==============================] - 4157s 8s/step - loss: 0.0026 - acc: 0.9994 - val_loss: 0.0056 - val_acc: 0.9983\n"
     ]
    },
    {
     "data": {
      "text/plain": [
       "<tensorflow.python.keras.callbacks.History at 0x7fa750197280>"
      ]
     },
     "execution_count": 13,
     "metadata": {},
     "output_type": "execute_result"
    }
   ],
   "source": [
    "import numpy as np\n",
    "y_train = np.asarray(y_train)\n",
    "\n",
    "model.fit(padded_train, y_train, batch_size = 64, validation_split = 0.1, epochs = 2)"
   ]
  },
  {
   "cell_type": "markdown",
   "id": "4ec5fe65-6edd-4479-800c-6e0f5d8e9e05",
   "metadata": {},
   "source": [
    "## Evaluación"
   ]
  },
  {
   "cell_type": "code",
   "execution_count": 14,
   "id": "2509956d-1e61-48e5-b133-0963977eecd9",
   "metadata": {},
   "outputs": [],
   "source": [
    "prediction = model.predict(padded_test)"
   ]
  },
  {
   "cell_type": "code",
   "execution_count": 15,
   "id": "d203ccd3-9ad7-4d68-847d-b92c7bc52ba4",
   "metadata": {},
   "outputs": [],
   "source": [
    "prediction_list = []\n",
    "for i in range(len(prediction)):\n",
    "    if prediction[i].item() > 0.5:\n",
    "        prediction_list.append(1)\n",
    "    else:\n",
    "        prediction_list.append(0)"
   ]
  },
  {
   "cell_type": "code",
   "execution_count": 17,
   "id": "fc3e8c21-eb6a-4835-b3fc-ca8466214648",
   "metadata": {},
   "outputs": [
    {
     "name": "stdout",
     "output_type": "stream",
     "text": [
      "Model Accuracy :  0.9976614699331848\n"
     ]
    }
   ],
   "source": [
    "from sklearn.metrics import accuracy_score\n",
    "\n",
    "accuracy = accuracy_score(list(y_test), prediction_list)\n",
    "\n",
    "print(\"Model Accuracy : \", accuracy)"
   ]
  },
  {
   "cell_type": "code",
   "execution_count": 26,
   "id": "420eceb0-bcbb-44de-ab36-af707da13a59",
   "metadata": {},
   "outputs": [
    {
     "data": {
      "image/png": "[encoded data removed]",
      "text/plain": [
       "<Figure size 1080x1080 with 2 Axes>"
      ]
     },
     "metadata": {
      "needs_background": "light"
     },
     "output_type": "display_data"
    }
   ],
   "source": [
    "from sklearn.metrics import confusion_matrix\n",
    "import matplotlib.pyplot as plt\n",
    "import seaborn as sns\n",
    "\n",
    "cm = confusion_matrix(list(y_test), prediction_list)\n",
    "plt.figure(figsize = (15, 15))\n",
    "sns.heatmap(cm, annot = True)\n",
    "plt.show()\n",
    "\n",
    "\n",
    "\n",
    "ax= plt.subplot()\n",
    "sns.heatmap(cm, annot=True, ax = ax); #annot=True to annotate cells\n",
    "\n",
    "# labels, title and ticks\n",
    "ax.set_xlabel('Predicted labels');ax.set_ylabel('True labels'); \n",
    "ax.set_title('Matriz de confusión'); \n",
    "ax.xaxis.set_ticklabels(['business', 'health']); ax.yaxis.set_ticklabels(['health', 'business']);"
   ]
  },
  {
   "cell_type": "code",
   "execution_count": 50,
   "id": "caaa2cad-1d26-44eb-b77b-7bdc41b564f3",
   "metadata": {},
   "outputs": [
    {
     "data": {
      "text/plain": [
       "[Text(0, 0.5, 'Reales'), Text(0, 1.5, 'Falsas')]"
      ]
     },
     "execution_count": 50,
     "metadata": {},
     "output_type": "execute_result"
    },
    {
     "data": {
      "image/png": "[encoded data removed]",
      "text/plain": [
       "<Figure size 432x288 with 2 Axes>"
      ]
     },
     "metadata": {
      "needs_background": "light"
     },
     "output_type": "display_data"
    }
   ],
   "source": [
    "from sklearn.metrics import confusion_matrix\n",
    "import matplotlib.pyplot as plt\n",
    "import seaborn as sns\n",
    "\n",
    "cm = confusion_matrix(list(y_test), prediction_list)\n",
    "\n",
    "group_names = ['True Neg','False Pos','False Neg','True Pos']\n",
    "group_counts = [\"{0:0.0f}\".format(value) for value in\n",
    "                cm.flatten()]\n",
    "group_percentages = [\"{0:.2%}\".format(value) for value in\n",
    "                     cm.flatten()/np.sum(cm)]\n",
    "labels = [f\"{v1}\\n{v2}\\n{v3}\" for v1, v2, v3 in\n",
    "          zip(group_names,group_counts,group_percentages)]\n",
    "labels = np.asarray(labels).reshape(2,2)\n",
    "\n",
    "precision = cm[1,1] / sum(cm[:,1])\n",
    "recall    = cm[1,1] / sum(cm[1,:])\n",
    "f1_score  = 2*precision*recall / (precision + recall)\n",
    "stats_text = \"\\nAccuracy={:0.3f}\\nPrecision={:0.3f}\\nRecall={:0.3f}\\nF1 Score={:0.3f}\".format(accuracy,precision,recall,f1_score)\n",
    "\n",
    "ax= plt.subplot()\n",
    "sns.heatmap(cm, annot=labels, fmt='', cmap='Blues', ax = ax); #annot=True to annotate cells\n",
    "\n",
    "ax.set_xlabel('Predicted label' + stats_text)\n",
    "\n",
    "# labels, title and ticks\n",
    "ax.set_xlabel(\"Valores predicción \\n\\n Métricas\" + stats_text)\n",
    "ax.set_ylabel('Valores Reales')\n",
    "ax.set_title('Matriz de confusión')\n",
    "ax.xaxis.set_ticklabels(['Reales', 'Falsas'])\n",
    "ax.yaxis.set_ticklabels(['Reales', 'Falsas'])"
   ]
  }
 ],
 "metadata": {
  "kernelspec": {
   "display_name": "Python 3",
   "language": "python",
   "name": "python3"
  },
  "language_info": {
   "codemirror_mode": {
    "name": "ipython",
    "version": 3
   },
   "file_extension": ".py",
   "mimetype": "text/x-python",
   "name": "python",
   "nbconvert_exporter": "python",
   "pygments_lexer": "ipython3",
   "version": "3.8.8"
  }
 },
 "nbformat": 4,
 "nbformat_minor": 5
}
