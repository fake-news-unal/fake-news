{
 "cells": [
  {
   "cell_type": "markdown",
   "id": "7c6c8941-6393-46e3-a82e-6bfc1a698ba8",
   "metadata": {},
   "source": [
    "# Preprocesamiento"
   ]
  },
  {
   "cell_type": "markdown",
   "id": "22144207-f3bf-4404-ba25-fad3b4138dfd",
   "metadata": {},
   "source": [
    "## Lectura de datos"
   ]
  },
  {
   "cell_type": "code",
   "execution_count": 42,
   "id": "b6eb81dc-bb2e-48f4-ade6-8e8c2928bc0d",
   "metadata": {},
   "outputs": [],
   "source": [
    "import pandas as pd\n",
    "import nltk\n",
    "import gensim\n",
    "\n",
    "df_true = pd.read_csv(\"./dataset/True.csv\")\n",
    "df_fake = pd.read_csv(\"./dataset/Fake.csv\")"
   ]
  },
  {
   "cell_type": "markdown",
   "id": "8e87abfa-5ea6-4b29-9882-5d72bedfd03a",
   "metadata": {},
   "source": [
    "## Exploración de datos"
   ]
  },
  {
   "cell_type": "markdown",
   "id": "2164db03-b763-423a-ba44-6488fdaed090",
   "metadata": {},
   "source": [
    "Encabezado de los primeros 5 registros del archivo `True.csv`"
   ]
  },
  {
   "cell_type": "code",
   "execution_count": 43,
   "id": "479b9b72-f057-4850-9057-ec223a6a8b41",
   "metadata": {},
   "outputs": [
    {
     "data": {
      "text/html": [
       "<div>\n",
       "<style scoped>\n",
       "    .dataframe tbody tr th:only-of-type {\n",
       "        vertical-align: middle;\n",
       "    }\n",
       "\n",
       "    .dataframe tbody tr th {\n",
       "        vertical-align: top;\n",
       "    }\n",
       "\n",
       "    .dataframe thead th {\n",
       "        text-align: right;\n",
       "    }\n",
       "</style>\n",
       "<table border=\"1\" class=\"dataframe\">\n",
       "  <thead>\n",
       "    <tr style=\"text-align: right;\">\n",
       "      <th></th>\n",
       "      <th>title</th>\n",
       "      <th>text</th>\n",
       "      <th>subject</th>\n",
       "      <th>date</th>\n",
       "    </tr>\n",
       "  </thead>\n",
       "  <tbody>\n",
       "    <tr>\n",
       "      <th>0</th>\n",
       "      <td>As U.S. budget fight looms, Republicans flip t...</td>\n",
       "      <td>WASHINGTON (Reuters) - The head of a conservat...</td>\n",
       "      <td>politicsNews</td>\n",
       "      <td>December 31, 2017</td>\n",
       "    </tr>\n",
       "    <tr>\n",
       "      <th>1</th>\n",
       "      <td>U.S. military to accept transgender recruits o...</td>\n",
       "      <td>WASHINGTON (Reuters) - Transgender people will...</td>\n",
       "      <td>politicsNews</td>\n",
       "      <td>December 29, 2017</td>\n",
       "    </tr>\n",
       "    <tr>\n",
       "      <th>2</th>\n",
       "      <td>Senior U.S. Republican senator: 'Let Mr. Muell...</td>\n",
       "      <td>WASHINGTON (Reuters) - The special counsel inv...</td>\n",
       "      <td>politicsNews</td>\n",
       "      <td>December 31, 2017</td>\n",
       "    </tr>\n",
       "    <tr>\n",
       "      <th>3</th>\n",
       "      <td>FBI Russia probe helped by Australian diplomat...</td>\n",
       "      <td>WASHINGTON (Reuters) - Trump campaign adviser ...</td>\n",
       "      <td>politicsNews</td>\n",
       "      <td>December 30, 2017</td>\n",
       "    </tr>\n",
       "    <tr>\n",
       "      <th>4</th>\n",
       "      <td>Trump wants Postal Service to charge 'much mor...</td>\n",
       "      <td>SEATTLE/WASHINGTON (Reuters) - President Donal...</td>\n",
       "      <td>politicsNews</td>\n",
       "      <td>December 29, 2017</td>\n",
       "    </tr>\n",
       "  </tbody>\n",
       "</table>\n",
       "</div>"
      ],
      "text/plain": [
       "                                               title  \\\n",
       "0  As U.S. budget fight looms, Republicans flip t...   \n",
       "1  U.S. military to accept transgender recruits o...   \n",
       "2  Senior U.S. Republican senator: 'Let Mr. Muell...   \n",
       "3  FBI Russia probe helped by Australian diplomat...   \n",
       "4  Trump wants Postal Service to charge 'much mor...   \n",
       "\n",
       "                                                text       subject  \\\n",
       "0  WASHINGTON (Reuters) - The head of a conservat...  politicsNews   \n",
       "1  WASHINGTON (Reuters) - Transgender people will...  politicsNews   \n",
       "2  WASHINGTON (Reuters) - The special counsel inv...  politicsNews   \n",
       "3  WASHINGTON (Reuters) - Trump campaign adviser ...  politicsNews   \n",
       "4  SEATTLE/WASHINGTON (Reuters) - President Donal...  politicsNews   \n",
       "\n",
       "                 date  \n",
       "0  December 31, 2017   \n",
       "1  December 29, 2017   \n",
       "2  December 31, 2017   \n",
       "3  December 30, 2017   \n",
       "4  December 29, 2017   "
      ]
     },
     "execution_count": 43,
     "metadata": {},
     "output_type": "execute_result"
    }
   ],
   "source": [
    "df_true.head()"
   ]
  },
  {
   "cell_type": "markdown",
   "id": "53a81a6f-14c9-417e-b31b-7180404ab172",
   "metadata": {},
   "source": [
    "Información general del archivo `True.csv`"
   ]
  },
  {
   "cell_type": "code",
   "execution_count": 44,
   "id": "744fe55c-e844-4f9d-bf40-5c7f9f3091eb",
   "metadata": {},
   "outputs": [
    {
     "name": "stdout",
     "output_type": "stream",
     "text": [
      "<class 'pandas.core.frame.DataFrame'>\n",
      "RangeIndex: 21417 entries, 0 to 21416\n",
      "Data columns (total 4 columns):\n",
      " #   Column   Non-Null Count  Dtype \n",
      "---  ------   --------------  ----- \n",
      " 0   title    21417 non-null  object\n",
      " 1   text     21417 non-null  object\n",
      " 2   subject  21417 non-null  object\n",
      " 3   date     21417 non-null  object\n",
      "dtypes: object(4)\n",
      "memory usage: 669.4+ KB\n"
     ]
    }
   ],
   "source": [
    "df_true.info()"
   ]
  },
  {
   "cell_type": "markdown",
   "id": "076f4fd4-c38a-4726-b8d2-83dd15958ae8",
   "metadata": {},
   "source": [
    "Registros nulos en el archivo `True.csv`"
   ]
  },
  {
   "cell_type": "code",
   "execution_count": 45,
   "id": "a0c0cb2b-4414-4865-a089-1f13c0b7b0f1",
   "metadata": {},
   "outputs": [
    {
     "data": {
      "text/plain": [
       "title      0\n",
       "text       0\n",
       "subject    0\n",
       "date       0\n",
       "dtype: int64"
      ]
     },
     "execution_count": 45,
     "metadata": {},
     "output_type": "execute_result"
    }
   ],
   "source": [
    "df_true.isnull().sum()"
   ]
  },
  {
   "cell_type": "markdown",
   "id": "730f70e5-ea24-48b8-aff2-db358d26509e",
   "metadata": {},
   "source": [
    "Encabezado de los primeros 5 registros del archivo `Fake.csv`"
   ]
  },
  {
   "cell_type": "code",
   "execution_count": 46,
   "id": "5982e526-6d1c-4ddf-b8aa-21e84a27caaa",
   "metadata": {},
   "outputs": [
    {
     "data": {
      "text/html": [
       "<div>\n",
       "<style scoped>\n",
       "    .dataframe tbody tr th:only-of-type {\n",
       "        vertical-align: middle;\n",
       "    }\n",
       "\n",
       "    .dataframe tbody tr th {\n",
       "        vertical-align: top;\n",
       "    }\n",
       "\n",
       "    .dataframe thead th {\n",
       "        text-align: right;\n",
       "    }\n",
       "</style>\n",
       "<table border=\"1\" class=\"dataframe\">\n",
       "  <thead>\n",
       "    <tr style=\"text-align: right;\">\n",
       "      <th></th>\n",
       "      <th>title</th>\n",
       "      <th>text</th>\n",
       "      <th>subject</th>\n",
       "      <th>date</th>\n",
       "    </tr>\n",
       "  </thead>\n",
       "  <tbody>\n",
       "    <tr>\n",
       "      <th>0</th>\n",
       "      <td>Donald Trump Sends Out Embarrassing New Year’...</td>\n",
       "      <td>Donald Trump just couldn t wish all Americans ...</td>\n",
       "      <td>News</td>\n",
       "      <td>December 31, 2017</td>\n",
       "    </tr>\n",
       "    <tr>\n",
       "      <th>1</th>\n",
       "      <td>Drunk Bragging Trump Staffer Started Russian ...</td>\n",
       "      <td>House Intelligence Committee Chairman Devin Nu...</td>\n",
       "      <td>News</td>\n",
       "      <td>December 31, 2017</td>\n",
       "    </tr>\n",
       "    <tr>\n",
       "      <th>2</th>\n",
       "      <td>Sheriff David Clarke Becomes An Internet Joke...</td>\n",
       "      <td>On Friday, it was revealed that former Milwauk...</td>\n",
       "      <td>News</td>\n",
       "      <td>December 30, 2017</td>\n",
       "    </tr>\n",
       "    <tr>\n",
       "      <th>3</th>\n",
       "      <td>Trump Is So Obsessed He Even Has Obama’s Name...</td>\n",
       "      <td>On Christmas day, Donald Trump announced that ...</td>\n",
       "      <td>News</td>\n",
       "      <td>December 29, 2017</td>\n",
       "    </tr>\n",
       "    <tr>\n",
       "      <th>4</th>\n",
       "      <td>Pope Francis Just Called Out Donald Trump Dur...</td>\n",
       "      <td>Pope Francis used his annual Christmas Day mes...</td>\n",
       "      <td>News</td>\n",
       "      <td>December 25, 2017</td>\n",
       "    </tr>\n",
       "  </tbody>\n",
       "</table>\n",
       "</div>"
      ],
      "text/plain": [
       "                                               title  \\\n",
       "0   Donald Trump Sends Out Embarrassing New Year’...   \n",
       "1   Drunk Bragging Trump Staffer Started Russian ...   \n",
       "2   Sheriff David Clarke Becomes An Internet Joke...   \n",
       "3   Trump Is So Obsessed He Even Has Obama’s Name...   \n",
       "4   Pope Francis Just Called Out Donald Trump Dur...   \n",
       "\n",
       "                                                text subject  \\\n",
       "0  Donald Trump just couldn t wish all Americans ...    News   \n",
       "1  House Intelligence Committee Chairman Devin Nu...    News   \n",
       "2  On Friday, it was revealed that former Milwauk...    News   \n",
       "3  On Christmas day, Donald Trump announced that ...    News   \n",
       "4  Pope Francis used his annual Christmas Day mes...    News   \n",
       "\n",
       "                date  \n",
       "0  December 31, 2017  \n",
       "1  December 31, 2017  \n",
       "2  December 30, 2017  \n",
       "3  December 29, 2017  \n",
       "4  December 25, 2017  "
      ]
     },
     "execution_count": 46,
     "metadata": {},
     "output_type": "execute_result"
    }
   ],
   "source": [
    "df_fake.head()"
   ]
  },
  {
   "cell_type": "markdown",
   "id": "9c496ea2-e607-4bf7-a465-b10aed9c6546",
   "metadata": {},
   "source": [
    "Información general del archivo `Fake.csv`"
   ]
  },
  {
   "cell_type": "code",
   "execution_count": 53,
   "id": "dbb188fa-d898-4781-95dd-7d5833f910b2",
   "metadata": {},
   "outputs": [
    {
     "name": "stdout",
     "output_type": "stream",
     "text": [
      "<class 'pandas.core.frame.DataFrame'>\n",
      "RangeIndex: 23481 entries, 0 to 23480\n",
      "Data columns (total 5 columns):\n",
      " #   Column   Non-Null Count  Dtype \n",
      "---  ------   --------------  ----- \n",
      " 0   title    23481 non-null  object\n",
      " 1   text     23481 non-null  object\n",
      " 2   subject  23481 non-null  object\n",
      " 3   date     23481 non-null  object\n",
      " 4   isfake   23481 non-null  int64 \n",
      "dtypes: int64(1), object(4)\n",
      "memory usage: 917.4+ KB\n"
     ]
    }
   ],
   "source": [
    "df_fake.info()"
   ]
  },
  {
   "cell_type": "markdown",
   "id": "539440cb-d39e-4614-9080-38ff161bddf4",
   "metadata": {},
   "source": [
    "Registros nulos en el archivo `Fake.csv`"
   ]
  },
  {
   "cell_type": "code",
   "execution_count": 54,
   "id": "5f354892-a868-4d8c-a974-9ce81491a19f",
   "metadata": {},
   "outputs": [
    {
     "data": {
      "text/plain": [
       "title      0\n",
       "text       0\n",
       "subject    0\n",
       "date       0\n",
       "isfake     0\n",
       "dtype: int64"
      ]
     },
     "execution_count": 54,
     "metadata": {},
     "output_type": "execute_result"
    }
   ],
   "source": [
    "df_fake.isnull().sum()"
   ]
  },
  {
   "cell_type": "markdown",
   "id": "e030554d-30bc-4c93-99c4-c629d0f425ed",
   "metadata": {},
   "source": [
    "Agregar columna de identificación de Fake News"
   ]
  },
  {
   "cell_type": "code",
   "execution_count": 55,
   "id": "b6b0ddc7-66d9-4f15-a911-ab9adba4d6e2",
   "metadata": {},
   "outputs": [
    {
     "data": {
      "text/html": [
       "<div>\n",
       "<style scoped>\n",
       "    .dataframe tbody tr th:only-of-type {\n",
       "        vertical-align: middle;\n",
       "    }\n",
       "\n",
       "    .dataframe tbody tr th {\n",
       "        vertical-align: top;\n",
       "    }\n",
       "\n",
       "    .dataframe thead th {\n",
       "        text-align: right;\n",
       "    }\n",
       "</style>\n",
       "<table border=\"1\" class=\"dataframe\">\n",
       "  <thead>\n",
       "    <tr style=\"text-align: right;\">\n",
       "      <th></th>\n",
       "      <th>title</th>\n",
       "      <th>text</th>\n",
       "      <th>subject</th>\n",
       "      <th>date</th>\n",
       "      <th>isfake</th>\n",
       "    </tr>\n",
       "  </thead>\n",
       "  <tbody>\n",
       "    <tr>\n",
       "      <th>0</th>\n",
       "      <td>As U.S. budget fight looms, Republicans flip t...</td>\n",
       "      <td>WASHINGTON (Reuters) - The head of a conservat...</td>\n",
       "      <td>politicsNews</td>\n",
       "      <td>December 31, 2017</td>\n",
       "      <td>1</td>\n",
       "    </tr>\n",
       "    <tr>\n",
       "      <th>1</th>\n",
       "      <td>U.S. military to accept transgender recruits o...</td>\n",
       "      <td>WASHINGTON (Reuters) - Transgender people will...</td>\n",
       "      <td>politicsNews</td>\n",
       "      <td>December 29, 2017</td>\n",
       "      <td>1</td>\n",
       "    </tr>\n",
       "    <tr>\n",
       "      <th>2</th>\n",
       "      <td>Senior U.S. Republican senator: 'Let Mr. Muell...</td>\n",
       "      <td>WASHINGTON (Reuters) - The special counsel inv...</td>\n",
       "      <td>politicsNews</td>\n",
       "      <td>December 31, 2017</td>\n",
       "      <td>1</td>\n",
       "    </tr>\n",
       "    <tr>\n",
       "      <th>3</th>\n",
       "      <td>FBI Russia probe helped by Australian diplomat...</td>\n",
       "      <td>WASHINGTON (Reuters) - Trump campaign adviser ...</td>\n",
       "      <td>politicsNews</td>\n",
       "      <td>December 30, 2017</td>\n",
       "      <td>1</td>\n",
       "    </tr>\n",
       "    <tr>\n",
       "      <th>4</th>\n",
       "      <td>Trump wants Postal Service to charge 'much mor...</td>\n",
       "      <td>SEATTLE/WASHINGTON (Reuters) - President Donal...</td>\n",
       "      <td>politicsNews</td>\n",
       "      <td>December 29, 2017</td>\n",
       "      <td>1</td>\n",
       "    </tr>\n",
       "  </tbody>\n",
       "</table>\n",
       "</div>"
      ],
      "text/plain": [
       "                                               title  \\\n",
       "0  As U.S. budget fight looms, Republicans flip t...   \n",
       "1  U.S. military to accept transgender recruits o...   \n",
       "2  Senior U.S. Republican senator: 'Let Mr. Muell...   \n",
       "3  FBI Russia probe helped by Australian diplomat...   \n",
       "4  Trump wants Postal Service to charge 'much mor...   \n",
       "\n",
       "                                                text       subject  \\\n",
       "0  WASHINGTON (Reuters) - The head of a conservat...  politicsNews   \n",
       "1  WASHINGTON (Reuters) - Transgender people will...  politicsNews   \n",
       "2  WASHINGTON (Reuters) - The special counsel inv...  politicsNews   \n",
       "3  WASHINGTON (Reuters) - Trump campaign adviser ...  politicsNews   \n",
       "4  SEATTLE/WASHINGTON (Reuters) - President Donal...  politicsNews   \n",
       "\n",
       "                 date  isfake  \n",
       "0  December 31, 2017        1  \n",
       "1  December 29, 2017        1  \n",
       "2  December 31, 2017        1  \n",
       "3  December 30, 2017        1  \n",
       "4  December 29, 2017        1  "
      ]
     },
     "execution_count": 55,
     "metadata": {},
     "output_type": "execute_result"
    }
   ],
   "source": [
    "df_true['isfake'] = 1\n",
    "\n",
    "df_true.head()"
   ]
  },
  {
   "cell_type": "code",
   "execution_count": 56,
   "id": "f8b01e14-8ae4-4d68-a574-ac9f81fcd266",
   "metadata": {},
   "outputs": [
    {
     "data": {
      "text/html": [
       "<div>\n",
       "<style scoped>\n",
       "    .dataframe tbody tr th:only-of-type {\n",
       "        vertical-align: middle;\n",
       "    }\n",
       "\n",
       "    .dataframe tbody tr th {\n",
       "        vertical-align: top;\n",
       "    }\n",
       "\n",
       "    .dataframe thead th {\n",
       "        text-align: right;\n",
       "    }\n",
       "</style>\n",
       "<table border=\"1\" class=\"dataframe\">\n",
       "  <thead>\n",
       "    <tr style=\"text-align: right;\">\n",
       "      <th></th>\n",
       "      <th>title</th>\n",
       "      <th>text</th>\n",
       "      <th>subject</th>\n",
       "      <th>date</th>\n",
       "      <th>isfake</th>\n",
       "    </tr>\n",
       "  </thead>\n",
       "  <tbody>\n",
       "    <tr>\n",
       "      <th>0</th>\n",
       "      <td>Donald Trump Sends Out Embarrassing New Year’...</td>\n",
       "      <td>Donald Trump just couldn t wish all Americans ...</td>\n",
       "      <td>News</td>\n",
       "      <td>December 31, 2017</td>\n",
       "      <td>0</td>\n",
       "    </tr>\n",
       "    <tr>\n",
       "      <th>1</th>\n",
       "      <td>Drunk Bragging Trump Staffer Started Russian ...</td>\n",
       "      <td>House Intelligence Committee Chairman Devin Nu...</td>\n",
       "      <td>News</td>\n",
       "      <td>December 31, 2017</td>\n",
       "      <td>0</td>\n",
       "    </tr>\n",
       "    <tr>\n",
       "      <th>2</th>\n",
       "      <td>Sheriff David Clarke Becomes An Internet Joke...</td>\n",
       "      <td>On Friday, it was revealed that former Milwauk...</td>\n",
       "      <td>News</td>\n",
       "      <td>December 30, 2017</td>\n",
       "      <td>0</td>\n",
       "    </tr>\n",
       "    <tr>\n",
       "      <th>3</th>\n",
       "      <td>Trump Is So Obsessed He Even Has Obama’s Name...</td>\n",
       "      <td>On Christmas day, Donald Trump announced that ...</td>\n",
       "      <td>News</td>\n",
       "      <td>December 29, 2017</td>\n",
       "      <td>0</td>\n",
       "    </tr>\n",
       "    <tr>\n",
       "      <th>4</th>\n",
       "      <td>Pope Francis Just Called Out Donald Trump Dur...</td>\n",
       "      <td>Pope Francis used his annual Christmas Day mes...</td>\n",
       "      <td>News</td>\n",
       "      <td>December 25, 2017</td>\n",
       "      <td>0</td>\n",
       "    </tr>\n",
       "  </tbody>\n",
       "</table>\n",
       "</div>"
      ],
      "text/plain": [
       "                                               title  \\\n",
       "0   Donald Trump Sends Out Embarrassing New Year’...   \n",
       "1   Drunk Bragging Trump Staffer Started Russian ...   \n",
       "2   Sheriff David Clarke Becomes An Internet Joke...   \n",
       "3   Trump Is So Obsessed He Even Has Obama’s Name...   \n",
       "4   Pope Francis Just Called Out Donald Trump Dur...   \n",
       "\n",
       "                                                text subject  \\\n",
       "0  Donald Trump just couldn t wish all Americans ...    News   \n",
       "1  House Intelligence Committee Chairman Devin Nu...    News   \n",
       "2  On Friday, it was revealed that former Milwauk...    News   \n",
       "3  On Christmas day, Donald Trump announced that ...    News   \n",
       "4  Pope Francis used his annual Christmas Day mes...    News   \n",
       "\n",
       "                date  isfake  \n",
       "0  December 31, 2017       0  \n",
       "1  December 31, 2017       0  \n",
       "2  December 30, 2017       0  \n",
       "3  December 29, 2017       0  \n",
       "4  December 25, 2017       0  "
      ]
     },
     "execution_count": 56,
     "metadata": {},
     "output_type": "execute_result"
    }
   ],
   "source": [
    "df_fake['isfake'] = 0\n",
    "\n",
    "df_fake.head()"
   ]
  },
  {
   "cell_type": "code",
   "execution_count": 57,
   "id": "732213f7-ba39-4f31-8645-ac7da57cebf7",
   "metadata": {},
   "outputs": [],
   "source": [
    "df = pd.concat([df_true, df_fake]).reset_index(drop = True)"
   ]
  },
  {
   "cell_type": "code",
   "execution_count": 58,
   "id": "052f5305-dce6-4fc5-82e3-7d575b323f89",
   "metadata": {},
   "outputs": [
    {
     "data": {
      "text/html": [
       "<div>\n",
       "<style scoped>\n",
       "    .dataframe tbody tr th:only-of-type {\n",
       "        vertical-align: middle;\n",
       "    }\n",
       "\n",
       "    .dataframe tbody tr th {\n",
       "        vertical-align: top;\n",
       "    }\n",
       "\n",
       "    .dataframe thead th {\n",
       "        text-align: right;\n",
       "    }\n",
       "</style>\n",
       "<table border=\"1\" class=\"dataframe\">\n",
       "  <thead>\n",
       "    <tr style=\"text-align: right;\">\n",
       "      <th></th>\n",
       "      <th>title</th>\n",
       "      <th>text</th>\n",
       "      <th>subject</th>\n",
       "      <th>date</th>\n",
       "      <th>isfake</th>\n",
       "    </tr>\n",
       "  </thead>\n",
       "  <tbody>\n",
       "    <tr>\n",
       "      <th>0</th>\n",
       "      <td>As U.S. budget fight looms, Republicans flip t...</td>\n",
       "      <td>WASHINGTON (Reuters) - The head of a conservat...</td>\n",
       "      <td>politicsNews</td>\n",
       "      <td>December 31, 2017</td>\n",
       "      <td>1</td>\n",
       "    </tr>\n",
       "    <tr>\n",
       "      <th>1</th>\n",
       "      <td>U.S. military to accept transgender recruits o...</td>\n",
       "      <td>WASHINGTON (Reuters) - Transgender people will...</td>\n",
       "      <td>politicsNews</td>\n",
       "      <td>December 29, 2017</td>\n",
       "      <td>1</td>\n",
       "    </tr>\n",
       "    <tr>\n",
       "      <th>2</th>\n",
       "      <td>Senior U.S. Republican senator: 'Let Mr. Muell...</td>\n",
       "      <td>WASHINGTON (Reuters) - The special counsel inv...</td>\n",
       "      <td>politicsNews</td>\n",
       "      <td>December 31, 2017</td>\n",
       "      <td>1</td>\n",
       "    </tr>\n",
       "    <tr>\n",
       "      <th>3</th>\n",
       "      <td>FBI Russia probe helped by Australian diplomat...</td>\n",
       "      <td>WASHINGTON (Reuters) - Trump campaign adviser ...</td>\n",
       "      <td>politicsNews</td>\n",
       "      <td>December 30, 2017</td>\n",
       "      <td>1</td>\n",
       "    </tr>\n",
       "    <tr>\n",
       "      <th>4</th>\n",
       "      <td>Trump wants Postal Service to charge 'much mor...</td>\n",
       "      <td>SEATTLE/WASHINGTON (Reuters) - President Donal...</td>\n",
       "      <td>politicsNews</td>\n",
       "      <td>December 29, 2017</td>\n",
       "      <td>1</td>\n",
       "    </tr>\n",
       "  </tbody>\n",
       "</table>\n",
       "</div>"
      ],
      "text/plain": [
       "                                               title  \\\n",
       "0  As U.S. budget fight looms, Republicans flip t...   \n",
       "1  U.S. military to accept transgender recruits o...   \n",
       "2  Senior U.S. Republican senator: 'Let Mr. Muell...   \n",
       "3  FBI Russia probe helped by Australian diplomat...   \n",
       "4  Trump wants Postal Service to charge 'much mor...   \n",
       "\n",
       "                                                text       subject  \\\n",
       "0  WASHINGTON (Reuters) - The head of a conservat...  politicsNews   \n",
       "1  WASHINGTON (Reuters) - Transgender people will...  politicsNews   \n",
       "2  WASHINGTON (Reuters) - The special counsel inv...  politicsNews   \n",
       "3  WASHINGTON (Reuters) - Trump campaign adviser ...  politicsNews   \n",
       "4  SEATTLE/WASHINGTON (Reuters) - President Donal...  politicsNews   \n",
       "\n",
       "                 date  isfake  \n",
       "0  December 31, 2017        1  \n",
       "1  December 29, 2017        1  \n",
       "2  December 31, 2017        1  \n",
       "3  December 30, 2017        1  \n",
       "4  December 29, 2017        1  "
      ]
     },
     "execution_count": 58,
     "metadata": {},
     "output_type": "execute_result"
    }
   ],
   "source": [
    "df.head()"
   ]
  },
  {
   "cell_type": "code",
   "execution_count": 59,
   "id": "4a7787ab-37e5-4c11-99ac-28e493004e4b",
   "metadata": {},
   "outputs": [
    {
     "data": {
      "text/html": [
       "<div>\n",
       "<style scoped>\n",
       "    .dataframe tbody tr th:only-of-type {\n",
       "        vertical-align: middle;\n",
       "    }\n",
       "\n",
       "    .dataframe tbody tr th {\n",
       "        vertical-align: top;\n",
       "    }\n",
       "\n",
       "    .dataframe thead th {\n",
       "        text-align: right;\n",
       "    }\n",
       "</style>\n",
       "<table border=\"1\" class=\"dataframe\">\n",
       "  <thead>\n",
       "    <tr style=\"text-align: right;\">\n",
       "      <th></th>\n",
       "      <th>title</th>\n",
       "      <th>text</th>\n",
       "      <th>subject</th>\n",
       "      <th>date</th>\n",
       "      <th>isfake</th>\n",
       "    </tr>\n",
       "  </thead>\n",
       "  <tbody>\n",
       "    <tr>\n",
       "      <th>44893</th>\n",
       "      <td>McPain: John McCain Furious That Iran Treated ...</td>\n",
       "      <td>21st Century Wire says As 21WIRE reported earl...</td>\n",
       "      <td>Middle-east</td>\n",
       "      <td>January 16, 2016</td>\n",
       "      <td>0</td>\n",
       "    </tr>\n",
       "    <tr>\n",
       "      <th>44894</th>\n",
       "      <td>JUSTICE? Yahoo Settles E-mail Privacy Class-ac...</td>\n",
       "      <td>21st Century Wire says It s a familiar theme. ...</td>\n",
       "      <td>Middle-east</td>\n",
       "      <td>January 16, 2016</td>\n",
       "      <td>0</td>\n",
       "    </tr>\n",
       "    <tr>\n",
       "      <th>44895</th>\n",
       "      <td>Sunnistan: US and Allied ‘Safe Zone’ Plan to T...</td>\n",
       "      <td>Patrick Henningsen  21st Century WireRemember ...</td>\n",
       "      <td>Middle-east</td>\n",
       "      <td>January 15, 2016</td>\n",
       "      <td>0</td>\n",
       "    </tr>\n",
       "    <tr>\n",
       "      <th>44896</th>\n",
       "      <td>How to Blow $700 Million: Al Jazeera America F...</td>\n",
       "      <td>21st Century Wire says Al Jazeera America will...</td>\n",
       "      <td>Middle-east</td>\n",
       "      <td>January 14, 2016</td>\n",
       "      <td>0</td>\n",
       "    </tr>\n",
       "    <tr>\n",
       "      <th>44897</th>\n",
       "      <td>10 U.S. Navy Sailors Held by Iranian Military ...</td>\n",
       "      <td>21st Century Wire says As 21WIRE predicted in ...</td>\n",
       "      <td>Middle-east</td>\n",
       "      <td>January 12, 2016</td>\n",
       "      <td>0</td>\n",
       "    </tr>\n",
       "  </tbody>\n",
       "</table>\n",
       "</div>"
      ],
      "text/plain": [
       "                                                   title  \\\n",
       "44893  McPain: John McCain Furious That Iran Treated ...   \n",
       "44894  JUSTICE? Yahoo Settles E-mail Privacy Class-ac...   \n",
       "44895  Sunnistan: US and Allied ‘Safe Zone’ Plan to T...   \n",
       "44896  How to Blow $700 Million: Al Jazeera America F...   \n",
       "44897  10 U.S. Navy Sailors Held by Iranian Military ...   \n",
       "\n",
       "                                                    text      subject  \\\n",
       "44893  21st Century Wire says As 21WIRE reported earl...  Middle-east   \n",
       "44894  21st Century Wire says It s a familiar theme. ...  Middle-east   \n",
       "44895  Patrick Henningsen  21st Century WireRemember ...  Middle-east   \n",
       "44896  21st Century Wire says Al Jazeera America will...  Middle-east   \n",
       "44897  21st Century Wire says As 21WIRE predicted in ...  Middle-east   \n",
       "\n",
       "                   date  isfake  \n",
       "44893  January 16, 2016       0  \n",
       "44894  January 16, 2016       0  \n",
       "44895  January 15, 2016       0  \n",
       "44896  January 14, 2016       0  \n",
       "44897  January 12, 2016       0  "
      ]
     },
     "execution_count": 59,
     "metadata": {},
     "output_type": "execute_result"
    }
   ],
   "source": [
    "df.tail()"
   ]
  },
  {
   "cell_type": "markdown",
   "id": "4abc19e1-4513-4fec-b376-c2ea6a414baa",
   "metadata": {},
   "source": [
    "Combinación de título y texto"
   ]
  },
  {
   "cell_type": "code",
   "execution_count": 60,
   "id": "cb20298f-d2a7-44b8-87b9-740ac7058f45",
   "metadata": {},
   "outputs": [
    {
     "data": {
      "text/html": [
       "<div>\n",
       "<style scoped>\n",
       "    .dataframe tbody tr th:only-of-type {\n",
       "        vertical-align: middle;\n",
       "    }\n",
       "\n",
       "    .dataframe tbody tr th {\n",
       "        vertical-align: top;\n",
       "    }\n",
       "\n",
       "    .dataframe thead th {\n",
       "        text-align: right;\n",
       "    }\n",
       "</style>\n",
       "<table border=\"1\" class=\"dataframe\">\n",
       "  <thead>\n",
       "    <tr style=\"text-align: right;\">\n",
       "      <th></th>\n",
       "      <th>title</th>\n",
       "      <th>text</th>\n",
       "      <th>subject</th>\n",
       "      <th>date</th>\n",
       "      <th>isfake</th>\n",
       "      <th>original</th>\n",
       "    </tr>\n",
       "  </thead>\n",
       "  <tbody>\n",
       "    <tr>\n",
       "      <th>0</th>\n",
       "      <td>As U.S. budget fight looms, Republicans flip t...</td>\n",
       "      <td>WASHINGTON (Reuters) - The head of a conservat...</td>\n",
       "      <td>politicsNews</td>\n",
       "      <td>December 31, 2017</td>\n",
       "      <td>1</td>\n",
       "      <td>As U.S. budget fight looms, Republicans flip t...</td>\n",
       "    </tr>\n",
       "    <tr>\n",
       "      <th>1</th>\n",
       "      <td>U.S. military to accept transgender recruits o...</td>\n",
       "      <td>WASHINGTON (Reuters) - Transgender people will...</td>\n",
       "      <td>politicsNews</td>\n",
       "      <td>December 29, 2017</td>\n",
       "      <td>1</td>\n",
       "      <td>U.S. military to accept transgender recruits o...</td>\n",
       "    </tr>\n",
       "    <tr>\n",
       "      <th>2</th>\n",
       "      <td>Senior U.S. Republican senator: 'Let Mr. Muell...</td>\n",
       "      <td>WASHINGTON (Reuters) - The special counsel inv...</td>\n",
       "      <td>politicsNews</td>\n",
       "      <td>December 31, 2017</td>\n",
       "      <td>1</td>\n",
       "      <td>Senior U.S. Republican senator: 'Let Mr. Muell...</td>\n",
       "    </tr>\n",
       "    <tr>\n",
       "      <th>3</th>\n",
       "      <td>FBI Russia probe helped by Australian diplomat...</td>\n",
       "      <td>WASHINGTON (Reuters) - Trump campaign adviser ...</td>\n",
       "      <td>politicsNews</td>\n",
       "      <td>December 30, 2017</td>\n",
       "      <td>1</td>\n",
       "      <td>FBI Russia probe helped by Australian diplomat...</td>\n",
       "    </tr>\n",
       "    <tr>\n",
       "      <th>4</th>\n",
       "      <td>Trump wants Postal Service to charge 'much mor...</td>\n",
       "      <td>SEATTLE/WASHINGTON (Reuters) - President Donal...</td>\n",
       "      <td>politicsNews</td>\n",
       "      <td>December 29, 2017</td>\n",
       "      <td>1</td>\n",
       "      <td>Trump wants Postal Service to charge 'much mor...</td>\n",
       "    </tr>\n",
       "  </tbody>\n",
       "</table>\n",
       "</div>"
      ],
      "text/plain": [
       "                                               title  \\\n",
       "0  As U.S. budget fight looms, Republicans flip t...   \n",
       "1  U.S. military to accept transgender recruits o...   \n",
       "2  Senior U.S. Republican senator: 'Let Mr. Muell...   \n",
       "3  FBI Russia probe helped by Australian diplomat...   \n",
       "4  Trump wants Postal Service to charge 'much mor...   \n",
       "\n",
       "                                                text       subject  \\\n",
       "0  WASHINGTON (Reuters) - The head of a conservat...  politicsNews   \n",
       "1  WASHINGTON (Reuters) - Transgender people will...  politicsNews   \n",
       "2  WASHINGTON (Reuters) - The special counsel inv...  politicsNews   \n",
       "3  WASHINGTON (Reuters) - Trump campaign adviser ...  politicsNews   \n",
       "4  SEATTLE/WASHINGTON (Reuters) - President Donal...  politicsNews   \n",
       "\n",
       "                 date  isfake  \\\n",
       "0  December 31, 2017        1   \n",
       "1  December 29, 2017        1   \n",
       "2  December 31, 2017        1   \n",
       "3  December 30, 2017        1   \n",
       "4  December 29, 2017        1   \n",
       "\n",
       "                                            original  \n",
       "0  As U.S. budget fight looms, Republicans flip t...  \n",
       "1  U.S. military to accept transgender recruits o...  \n",
       "2  Senior U.S. Republican senator: 'Let Mr. Muell...  \n",
       "3  FBI Russia probe helped by Australian diplomat...  \n",
       "4  Trump wants Postal Service to charge 'much mor...  "
      ]
     },
     "execution_count": 60,
     "metadata": {},
     "output_type": "execute_result"
    }
   ],
   "source": [
    "df['original'] = df['title'] + '. ' + df['text']\n",
    "df['original'].replace(\"..\", \".\")\n",
    "df.head()"
   ]
  },
  {
   "cell_type": "markdown",
   "id": "be587cc4-5ab5-4b25-b7f8-651fbad3dd92",
   "metadata": {},
   "source": [
    "Muestra de la combinación anterior"
   ]
  },
  {
   "cell_type": "code",
   "execution_count": 61,
   "id": "f062447f-75c7-4925-8460-3c4afcd91e3d",
   "metadata": {},
   "outputs": [
    {
     "data": {
      "text/plain": [
       "'As U.S. budget fight looms, Republicans flip their fiscal script'"
      ]
     },
     "execution_count": 61,
     "metadata": {},
     "output_type": "execute_result"
    }
   ],
   "source": [
    "df['title'][0]"
   ]
  },
  {
   "cell_type": "code",
   "execution_count": 62,
   "id": "ec1e0d8b-1deb-4c34-ba27-9e8b9d0de60e",
   "metadata": {},
   "outputs": [
    {
     "data": {
      "text/plain": [
       "'WASHINGTON (Reuters) - The head of a conservative Republican faction in the U.S. Congress, who voted this month for a huge expansion of the national debt to pay for tax cuts, called himself a “fiscal conservative” on Sunday and urged budget restraint in 2018. In keeping with a sharp pivot under way among Republicans, U.S. Representative Mark Meadows, speaking on CBS’ “Face the Nation,” drew a hard line on federal spending, which lawmakers are bracing to do battle over in January. When they return from the holidays on Wednesday, lawmakers will begin trying to pass a federal budget in a fight likely to be linked to other issues, such as immigration policy, even as the November congressional election campaigns approach in which Republicans will seek to keep control of Congress. President Donald Trump and his Republicans want a big budget increase in military spending, while Democrats also want proportional increases for non-defense “discretionary” spending on programs that support education, scientific research, infrastructure, public health and environmental protection. “The (Trump) administration has already been willing to say: ‘We’re going to increase non-defense discretionary spending ... by about 7 percent,’” Meadows, chairman of the small but influential House Freedom Caucus, said on the program. “Now, Democrats are saying that’s not enough, we need to give the government a pay raise of 10 to 11 percent. For a fiscal conservative, I don’t see where the rationale is. ... Eventually you run out of other people’s money,” he said. Meadows was among Republicans who voted in late December for their party’s debt-financed tax overhaul, which is expected to balloon the federal budget deficit and add about $1.5 trillion over 10 years to the $20 trillion national debt. “It’s interesting to hear Mark talk about fiscal responsibility,” Democratic U.S. Representative Joseph Crowley said on CBS. Crowley said the Republican tax bill would require the  United States to borrow $1.5 trillion, to be paid off by future generations, to finance tax cuts for corporations and the rich. “This is one of the least ... fiscally responsible bills we’ve ever seen passed in the history of the House of Representatives. I think we’re going to be paying for this for many, many years to come,” Crowley said. Republicans insist the tax package, the biggest U.S. tax overhaul in more than 30 years,  will boost the economy and job growth. House Speaker Paul Ryan, who also supported the tax bill, recently went further than Meadows, making clear in a radio interview that welfare or “entitlement reform,” as the party often calls it, would be a top Republican priority in 2018. In Republican parlance, “entitlement” programs mean food stamps, housing assistance, Medicare and Medicaid health insurance for the elderly, poor and disabled, as well as other programs created by Washington to assist the needy. Democrats seized on Ryan’s early December remarks, saying they showed Republicans would try to pay for their tax overhaul by seeking spending cuts for social programs. But the goals of House Republicans may have to take a back seat to the Senate, where the votes of some Democrats will be needed to approve a budget and prevent a government shutdown. Democrats will use their leverage in the Senate, which Republicans narrowly control, to defend both discretionary non-defense programs and social spending, while tackling the issue of the “Dreamers,” people brought illegally to the country as children. Trump in September put a March 2018 expiration date on the Deferred Action for Childhood Arrivals, or DACA, program, which protects the young immigrants from deportation and provides them with work permits. The president has said in recent Twitter messages he wants funding for his proposed Mexican border wall and other immigration law changes in exchange for agreeing to help the Dreamers. Representative Debbie Dingell told CBS she did not favor linking that issue to other policy objectives, such as wall funding. “We need to do DACA clean,” she said.  On Wednesday, Trump aides will meet with congressional leaders to discuss those issues. That will be followed by a weekend of strategy sessions for Trump and Republican leaders on Jan. 6 and 7, the White House said. Trump was also scheduled to meet on Sunday with Florida Republican Governor Rick Scott, who wants more emergency aid. The House has passed an $81 billion aid package after hurricanes in Florida, Texas and Puerto Rico, and wildfires in California. The package far exceeded the $44 billion requested by the Trump administration. The Senate has not yet voted on the aid. '"
      ]
     },
     "execution_count": 62,
     "metadata": {},
     "output_type": "execute_result"
    }
   ],
   "source": [
    "df['text'][0]"
   ]
  },
  {
   "cell_type": "code",
   "execution_count": 63,
   "id": "2bda09d0-3144-413a-b277-1e50467f8cee",
   "metadata": {},
   "outputs": [
    {
     "data": {
      "text/plain": [
       "'As U.S. budget fight looms, Republicans flip their fiscal script. WASHINGTON (Reuters) - The head of a conservative Republican faction in the U.S. Congress, who voted this month for a huge expansion of the national debt to pay for tax cuts, called himself a “fiscal conservative” on Sunday and urged budget restraint in 2018. In keeping with a sharp pivot under way among Republicans, U.S. Representative Mark Meadows, speaking on CBS’ “Face the Nation,” drew a hard line on federal spending, which lawmakers are bracing to do battle over in January. When they return from the holidays on Wednesday, lawmakers will begin trying to pass a federal budget in a fight likely to be linked to other issues, such as immigration policy, even as the November congressional election campaigns approach in which Republicans will seek to keep control of Congress. President Donald Trump and his Republicans want a big budget increase in military spending, while Democrats also want proportional increases for non-defense “discretionary” spending on programs that support education, scientific research, infrastructure, public health and environmental protection. “The (Trump) administration has already been willing to say: ‘We’re going to increase non-defense discretionary spending ... by about 7 percent,’” Meadows, chairman of the small but influential House Freedom Caucus, said on the program. “Now, Democrats are saying that’s not enough, we need to give the government a pay raise of 10 to 11 percent. For a fiscal conservative, I don’t see where the rationale is. ... Eventually you run out of other people’s money,” he said. Meadows was among Republicans who voted in late December for their party’s debt-financed tax overhaul, which is expected to balloon the federal budget deficit and add about $1.5 trillion over 10 years to the $20 trillion national debt. “It’s interesting to hear Mark talk about fiscal responsibility,” Democratic U.S. Representative Joseph Crowley said on CBS. Crowley said the Republican tax bill would require the  United States to borrow $1.5 trillion, to be paid off by future generations, to finance tax cuts for corporations and the rich. “This is one of the least ... fiscally responsible bills we’ve ever seen passed in the history of the House of Representatives. I think we’re going to be paying for this for many, many years to come,” Crowley said. Republicans insist the tax package, the biggest U.S. tax overhaul in more than 30 years,  will boost the economy and job growth. House Speaker Paul Ryan, who also supported the tax bill, recently went further than Meadows, making clear in a radio interview that welfare or “entitlement reform,” as the party often calls it, would be a top Republican priority in 2018. In Republican parlance, “entitlement” programs mean food stamps, housing assistance, Medicare and Medicaid health insurance for the elderly, poor and disabled, as well as other programs created by Washington to assist the needy. Democrats seized on Ryan’s early December remarks, saying they showed Republicans would try to pay for their tax overhaul by seeking spending cuts for social programs. But the goals of House Republicans may have to take a back seat to the Senate, where the votes of some Democrats will be needed to approve a budget and prevent a government shutdown. Democrats will use their leverage in the Senate, which Republicans narrowly control, to defend both discretionary non-defense programs and social spending, while tackling the issue of the “Dreamers,” people brought illegally to the country as children. Trump in September put a March 2018 expiration date on the Deferred Action for Childhood Arrivals, or DACA, program, which protects the young immigrants from deportation and provides them with work permits. The president has said in recent Twitter messages he wants funding for his proposed Mexican border wall and other immigration law changes in exchange for agreeing to help the Dreamers. Representative Debbie Dingell told CBS she did not favor linking that issue to other policy objectives, such as wall funding. “We need to do DACA clean,” she said.  On Wednesday, Trump aides will meet with congressional leaders to discuss those issues. That will be followed by a weekend of strategy sessions for Trump and Republican leaders on Jan. 6 and 7, the White House said. Trump was also scheduled to meet on Sunday with Florida Republican Governor Rick Scott, who wants more emergency aid. The House has passed an $81 billion aid package after hurricanes in Florida, Texas and Puerto Rico, and wildfires in California. The package far exceeded the $44 billion requested by the Trump administration. The Senate has not yet voted on the aid. '"
      ]
     },
     "execution_count": 63,
     "metadata": {},
     "output_type": "execute_result"
    }
   ],
   "source": [
    "df['original'][0]"
   ]
  },
  {
   "cell_type": "code",
   "execution_count": 64,
   "id": "fe009679-c971-4322-9c14-3b8e1af8440b",
   "metadata": {},
   "outputs": [],
   "source": [
    "import os\n",
    "\n",
    "if os.path.exists(r'dataset/lemmatized.csv'):\n",
    "    df = pd.read_csv(r'dataset/lemmatized.csv')\n",
    "else:\n",
    "    import stanza, torch, gc\n",
    "    from stanza.models.common.doc import Document\n",
    "    nlp = stanza.Pipeline(lang='en', processors='tokenize,mwt,pos,lemma')\n",
    "\n",
    "    def token_lemma(_text):\n",
    "        tokend = []\n",
    "        tokens_lemmatized = []\n",
    "        stanza_doc = stanza.Document([], text=_text)\n",
    "        stanza_doc = nlp(stanza_doc)\n",
    "        for sent in stanza_doc.sentences:\n",
    "            for word in sent.words:\n",
    "                tokens_lemmatized.append(word.lemma)\n",
    "        return tokens_lemmatized\n",
    "    \n",
    "    df['lemma'] = df['original'].apply(token_lemma)\n",
    "        \n",
    "    df.to_csv(r'dataset/lemmatized.csv')"
   ]
  },
  {
   "cell_type": "code",
   "execution_count": 65,
   "id": "a0dab6f2-4fa5-43eb-ae71-a6c7cf5424d3",
   "metadata": {},
   "outputs": [
    {
     "data": {
      "text/html": [
       "<div>\n",
       "<style scoped>\n",
       "    .dataframe tbody tr th:only-of-type {\n",
       "        vertical-align: middle;\n",
       "    }\n",
       "\n",
       "    .dataframe tbody tr th {\n",
       "        vertical-align: top;\n",
       "    }\n",
       "\n",
       "    .dataframe thead th {\n",
       "        text-align: right;\n",
       "    }\n",
       "</style>\n",
       "<table border=\"1\" class=\"dataframe\">\n",
       "  <thead>\n",
       "    <tr style=\"text-align: right;\">\n",
       "      <th></th>\n",
       "      <th>Unnamed: 0</th>\n",
       "      <th>title</th>\n",
       "      <th>text</th>\n",
       "      <th>subject</th>\n",
       "      <th>date</th>\n",
       "      <th>isfake</th>\n",
       "      <th>original</th>\n",
       "      <th>lemma</th>\n",
       "    </tr>\n",
       "  </thead>\n",
       "  <tbody>\n",
       "    <tr>\n",
       "      <th>0</th>\n",
       "      <td>0</td>\n",
       "      <td>As U.S. budget fight looms, Republicans flip t...</td>\n",
       "      <td>WASHINGTON (Reuters) - The head of a conservat...</td>\n",
       "      <td>politicsNews</td>\n",
       "      <td>December 31, 2017</td>\n",
       "      <td>1</td>\n",
       "      <td>As U.S. budget fight looms, Republicans flip t...</td>\n",
       "      <td>['as', 'U.S.', 'budget', 'fight', 'loom', ',',...</td>\n",
       "    </tr>\n",
       "    <tr>\n",
       "      <th>1</th>\n",
       "      <td>1</td>\n",
       "      <td>U.S. military to accept transgender recruits o...</td>\n",
       "      <td>WASHINGTON (Reuters) - Transgender people will...</td>\n",
       "      <td>politicsNews</td>\n",
       "      <td>December 29, 2017</td>\n",
       "      <td>1</td>\n",
       "      <td>U.S. military to accept transgender recruits o...</td>\n",
       "      <td>['U.S.', 'military', 'to', 'accept', 'transgen...</td>\n",
       "    </tr>\n",
       "    <tr>\n",
       "      <th>2</th>\n",
       "      <td>2</td>\n",
       "      <td>Senior U.S. Republican senator: 'Let Mr. Muell...</td>\n",
       "      <td>WASHINGTON (Reuters) - The special counsel inv...</td>\n",
       "      <td>politicsNews</td>\n",
       "      <td>December 31, 2017</td>\n",
       "      <td>1</td>\n",
       "      <td>Senior U.S. Republican senator: 'Let Mr. Muell...</td>\n",
       "      <td>['senior', 'U.S.', 'republican', 'senator', ':...</td>\n",
       "    </tr>\n",
       "    <tr>\n",
       "      <th>3</th>\n",
       "      <td>3</td>\n",
       "      <td>FBI Russia probe helped by Australian diplomat...</td>\n",
       "      <td>WASHINGTON (Reuters) - Trump campaign adviser ...</td>\n",
       "      <td>politicsNews</td>\n",
       "      <td>December 30, 2017</td>\n",
       "      <td>1</td>\n",
       "      <td>FBI Russia probe helped by Australian diplomat...</td>\n",
       "      <td>['FBI', 'Russia', 'probe', 'help', 'by', 'Aust...</td>\n",
       "    </tr>\n",
       "    <tr>\n",
       "      <th>4</th>\n",
       "      <td>4</td>\n",
       "      <td>Trump wants Postal Service to charge 'much mor...</td>\n",
       "      <td>SEATTLE/WASHINGTON (Reuters) - President Donal...</td>\n",
       "      <td>politicsNews</td>\n",
       "      <td>December 29, 2017</td>\n",
       "      <td>1</td>\n",
       "      <td>Trump wants Postal Service to charge 'much mor...</td>\n",
       "      <td>['Trump', 'want', 'postal', 'Service', 'to', '...</td>\n",
       "    </tr>\n",
       "  </tbody>\n",
       "</table>\n",
       "</div>"
      ],
      "text/plain": [
       "   Unnamed: 0                                              title  \\\n",
       "0           0  As U.S. budget fight looms, Republicans flip t...   \n",
       "1           1  U.S. military to accept transgender recruits o...   \n",
       "2           2  Senior U.S. Republican senator: 'Let Mr. Muell...   \n",
       "3           3  FBI Russia probe helped by Australian diplomat...   \n",
       "4           4  Trump wants Postal Service to charge 'much mor...   \n",
       "\n",
       "                                                text       subject  \\\n",
       "0  WASHINGTON (Reuters) - The head of a conservat...  politicsNews   \n",
       "1  WASHINGTON (Reuters) - Transgender people will...  politicsNews   \n",
       "2  WASHINGTON (Reuters) - The special counsel inv...  politicsNews   \n",
       "3  WASHINGTON (Reuters) - Trump campaign adviser ...  politicsNews   \n",
       "4  SEATTLE/WASHINGTON (Reuters) - President Donal...  politicsNews   \n",
       "\n",
       "                 date  isfake  \\\n",
       "0  December 31, 2017        1   \n",
       "1  December 29, 2017        1   \n",
       "2  December 31, 2017        1   \n",
       "3  December 30, 2017        1   \n",
       "4  December 29, 2017        1   \n",
       "\n",
       "                                            original  \\\n",
       "0  As U.S. budget fight looms, Republicans flip t...   \n",
       "1  U.S. military to accept transgender recruits o...   \n",
       "2  Senior U.S. Republican senator: 'Let Mr. Muell...   \n",
       "3  FBI Russia probe helped by Australian diplomat...   \n",
       "4  Trump wants Postal Service to charge 'much mor...   \n",
       "\n",
       "                                               lemma  \n",
       "0  ['as', 'U.S.', 'budget', 'fight', 'loom', ',',...  \n",
       "1  ['U.S.', 'military', 'to', 'accept', 'transgen...  \n",
       "2  ['senior', 'U.S.', 'republican', 'senator', ':...  \n",
       "3  ['FBI', 'Russia', 'probe', 'help', 'by', 'Aust...  \n",
       "4  ['Trump', 'want', 'postal', 'Service', 'to', '...  "
      ]
     },
     "execution_count": 65,
     "metadata": {},
     "output_type": "execute_result"
    }
   ],
   "source": [
    "df.head()"
   ]
  },
  {
   "cell_type": "markdown",
   "id": "2b6a36aa-71f8-4c1a-b45a-108b66c4112b",
   "metadata": {},
   "source": [
    "### Tokenize (example)"
   ]
  },
  {
   "cell_type": "code",
   "execution_count": 120,
   "id": "58de2810-91c8-4dd6-b3a9-da3e332fbadc",
   "metadata": {},
   "outputs": [
    {
     "name": "stderr",
     "output_type": "stream",
     "text": [
      "2021-06-20 23:00:07 WARNING: Can not find mwt: default from official model list. Ignoring it.\n",
      "2021-06-20 23:00:07 INFO: Loading these models for language: en (English):\n",
      "========================\n",
      "| Processor | Package  |\n",
      "------------------------\n",
      "| tokenize  | combined |\n",
      "| pos       | combined |\n",
      "| lemma     | combined |\n",
      "| depparse  | combined |\n",
      "========================\n",
      "\n",
      "2021-06-20 23:00:07 INFO: Use device: gpu\n",
      "2021-06-20 23:00:07 INFO: Loading: tokenize\n",
      "2021-06-20 23:00:07 INFO: Loading: pos\n",
      "2021-06-20 23:00:08 INFO: Loading: lemma\n",
      "2021-06-20 23:00:08 INFO: Loading: depparse\n",
      "2021-06-20 23:00:08 INFO: Done loading processors!\n"
     ]
    },
    {
     "name": "stdout",
     "output_type": "stream",
     "text": [
      "Total sentences: 281\n",
      "Total Tokens: 9267\n",
      "====== Sentence 1 tokens =======\n",
      "id: (1,)  text: MEDIA\n",
      "id: (2,)  text: TRIPWIRE\n",
      "id: (3,)  text: ?\n",
      "====== Sentence 2 tokens =======\n",
      "id: (1,)  text: Ping\n",
      "id: (2,)  text: Pong\n",
      "id: (3,)  text: Pizza\n",
      "id: (4,)  text: Conspiracy\n",
      "id: (5,)  text: Propels\n",
      "id: (6,)  text: Internet\n",
      "id: (7,)  text: Censorship\n",
      "id: (8,)  text: Amid\n"
     ]
    },
    {
     "data": {
      "text/plain": [
       "<function print>"
      ]
     },
     "execution_count": 120,
     "metadata": {},
     "output_type": "execute_result"
    }
   ],
   "source": [
    "nlp = stanza.Pipeline(lang='en', processors='tokenize,mwt,pos,lemma,depparse')\n",
    "example_doc = nlp(example_doc)\n",
    "j = 0\n",
    "print(\"Total sentences: \" + str(len(example_doc.sentences)))\n",
    "\n",
    "total_tokens = 0\n",
    "for i, sentence in enumerate(example_doc.sentences):\n",
    "    for token in sentence.tokens:\n",
    "        total_tokens += 1\n",
    "        \n",
    "print(\"Total Tokens: \" + str(total_tokens))        \n",
    "        \n",
    "for i, sentence in enumerate(example_doc.sentences):\n",
    "    print(f'====== Sentence {i+1} tokens =======')\n",
    "    for token in sentence.tokens:\n",
    "        print('id: ' + str(token.id) + '  text: ' + token.text)\n",
    "        j += 1\n",
    "        if j > 10:\n",
    "            break\n",
    "    if j > 10:\n",
    "        break\n",
    "total_tokens = 0\n",
    "print"
   ]
  },
  {
   "cell_type": "markdown",
   "id": "0f2f2b07-cffc-46fe-9218-b0ebc7082cdc",
   "metadata": {},
   "source": [
    "### Multi-Word Token (not available in english)"
   ]
  },
  {
   "cell_type": "markdown",
   "id": "36ff6c30-6ac5-4c93-8ea7-1d8c60bcb4d7",
   "metadata": {},
   "source": [
    "### Part-of-Speech & Morphological Features"
   ]
  },
  {
   "cell_type": "code",
   "execution_count": 124,
   "id": "355dd996-62d7-4ec4-b638-995afa6d5255",
   "metadata": {},
   "outputs": [
    {
     "name": "stdout",
     "output_type": "stream",
     "text": [
      "Total feats: 6361\n",
      "====== Sentence 1 tokens =======\n",
      "word: MEDIA\t\tupos: NOUN\txpos: NN\tfeats: Number=Sing\n",
      "word: TRIPWIRE\t\tupos: NOUN\txpos: NN\tfeats: Number=Sing\n",
      "word: ?\t\tupos: PUNCT\txpos: .\tfeats: _\n",
      "====== Sentence 2 tokens =======\n",
      "word: Ping\t\tupos: NOUN\txpos: NN\tfeats: Number=Sing\n",
      "word: Pong\t\tupos: NOUN\txpos: NN\tfeats: Number=Sing\n",
      "word: Pizza\t\tupos: NOUN\txpos: NN\tfeats: Number=Sing\n",
      "word: Conspiracy\t\tupos: NOUN\txpos: NN\tfeats: Number=Sing\n",
      "word: Propels\t\tupos: VERB\txpos: VBZ\tfeats: Mood=Ind|Number=Sing|Person=3|Tense=Pres|VerbForm=Fin\n",
      "word: Internet\t\tupos: NOUN\txpos: NN\tfeats: Number=Sing\n",
      "word: Censorship\t\tupos: NOUN\txpos: NN\tfeats: Number=Sing\n",
      "word: Amid\t\tupos: ADP\txpos: IN\tfeats: _\n"
     ]
    }
   ],
   "source": [
    "example_doc = nlp(example_doc)\n",
    "j = 0\n",
    "\n",
    "total_words = 0\n",
    "for i, sentence in enumerate(example_doc.sentences):\n",
    "    for word in sentence.words:\n",
    "        if word.feats:\n",
    "            total_words += 1\n",
    "        \n",
    "print(\"Total feats: \" + str(total_words))     \n",
    "\n",
    "for i, sentence in enumerate(example_doc.sentences):\n",
    "    print(f'====== Sentence {i+1} tokens =======')\n",
    "    for word in sentence.words:\n",
    "        print('word: ' + word.text + '\\t\\tupos: ' + word.upos + '\\txpos: ' + word.xpos + '\\tfeats: ' + (word.feats if word.feats else \"_\"))\n",
    "        j += 1\n",
    "        if j > 10:\n",
    "            break\n",
    "    if j > 10:\n",
    "        break"
   ]
  },
  {
   "cell_type": "markdown",
   "id": "194a2338-2c02-4e71-afa2-652ee6720d96",
   "metadata": {},
   "source": [
    "### Lemmatization"
   ]
  },
  {
   "cell_type": "code",
   "execution_count": 125,
   "id": "b7e97081-02ee-4cb6-adb5-368aa5cb64e8",
   "metadata": {},
   "outputs": [
    {
     "name": "stdout",
     "output_type": "stream",
     "text": [
      "Total lemma: 9267\n",
      "word: MEDIA \tlemma: media\n",
      "word: TRIPWIRE \tlemma: tripwire\n",
      "word: ? \tlemma: ?\n",
      "word: Ping \tlemma: ping\n",
      "word: Pong \tlemma: pong\n",
      "word: Pizza \tlemma: pizza\n",
      "word: Conspiracy \tlemma: conspiracy\n",
      "word: Propels \tlemma: propel\n",
      "word: Internet \tlemma: internet\n",
      "word: Censorship \tlemma: censorship\n",
      "word: Amid \tlemma: amid\n",
      "word: ‘ \tlemma: '\n",
      "word: Fake \tlemma: Fake\n",
      "word: News \tlemma: news\n",
      "word: ’ \tlemma: '\n",
      "word: Witch \tlemma: Witch\n",
      "word: - \tlemma: -\n",
      "word: Hunt \tlemma: Hunt\n",
      "word: . \tlemma: .\n",
      "word: Funny \tlemma: funny\n",
      "word: how \tlemma: how\n",
      "word: secrets \tlemma: secret\n",
      "word: travel \tlemma: travel\n",
      "word: . \tlemma: .\n",
      "word: I \tlemma: I\n",
      "word: d \tlemma: would\n",
      "word: start \tlemma: start\n",
      "word: to \tlemma: to\n",
      "word: believe \tlemma: believe\n",
      "word: , \tlemma: ,\n",
      "word: if \tlemma: if\n",
      "word: I \tlemma: I\n",
      "word: were \tlemma: be\n",
      "word: to \tlemma: to\n",
      "word: bleed \tlemma: bleed\n",
      "word: . \tlemma: .\n",
      "word: Lyrics \tlemma: lyric\n",
      "word: written \tlemma: write\n"
     ]
    }
   ],
   "source": [
    "import json\n",
    "j = 0\n",
    "\n",
    "total_words = 0\n",
    "for i, sentence in enumerate(example_doc.sentences):\n",
    "    for word in sentence.words:\n",
    "        if word.lemma:\n",
    "            total_words += 1\n",
    "        \n",
    "print(\"Total lemma: \" + str(total_words))  \n",
    "\n",
    "for sent in example_doc.sentences:\n",
    "    for word in sent.words:\n",
    "        print(f'word: {word.text+\" \"}\\tlemma: {word.lemma}', sep='\\n')\n",
    "        if j > 40:\n",
    "            break;\n",
    "        j += 1\n",
    "    if j > 40:\n",
    "        break;\n",
    "    j += 1\n"
   ]
  },
  {
   "cell_type": "markdown",
   "id": "1172671e-9e10-4aa1-b53b-5334fa1277a2",
   "metadata": {},
   "source": [
    "### Dependency Parsing"
   ]
  },
  {
   "cell_type": "code",
   "execution_count": 126,
   "id": "fd639a4f-33cf-40c0-9a59-8edf6b9ab5a5",
   "metadata": {},
   "outputs": [
    {
     "name": "stdout",
     "output_type": "stream",
     "text": [
      "Total dependency_relation: 9267\n",
      "id: 1\t\tword: MEDIA\t\thead id: 2\t\thead: TRIPWIRE\t\tdependency_relation: compound\n",
      "id: 2\t\tword: TRIPWIRE\t\thead id: 0\t\thead: root\t\tdependency_relation: root\n",
      "id: 3\t\tword: ?\t\thead id: 2\t\thead: TRIPWIRE\t\tdependency_relation: punct\n",
      "id: 1\t\tword: Ping\t\thead id: 4\t\thead: Conspiracy\t\tdependency_relation: compound\n",
      "id: 2\t\tword: Pong\t\thead id: 3\t\thead: Pizza\t\tdependency_relation: compound\n",
      "id: 3\t\tword: Pizza\t\thead id: 4\t\thead: Conspiracy\t\tdependency_relation: compound\n",
      "id: 4\t\tword: Conspiracy\t\thead id: 5\t\thead: Propels\t\tdependency_relation: nsubj\n",
      "id: 5\t\tword: Propels\t\thead id: 0\t\thead: root\t\tdependency_relation: root\n",
      "id: 6\t\tword: Internet\t\thead id: 7\t\thead: Censorship\t\tdependency_relation: compound\n",
      "id: 7\t\tword: Censorship\t\thead id: 5\t\thead: Propels\t\tdependency_relation: obj\n",
      "id: 8\t\tword: Amid\t\thead id: 11\t\thead: News\t\tdependency_relation: case\n"
     ]
    }
   ],
   "source": [
    "import json\n",
    "j = 0\n",
    "\n",
    "total_words = 0\n",
    "for i, sentence in enumerate(example_doc.sentences):\n",
    "    for word in sentence.words:\n",
    "        if word.deprel:\n",
    "            total_words += 1\n",
    "        \n",
    "print(\"Total dependency_relation: \" + str(total_words))  \n",
    "\n",
    "for sent in example_doc.sentences:\n",
    "    for word in sent.words:\n",
    "        print(f'id: {word.id}\\t\\tword: {word.text}\\t\\thead id: {word.head}\\t\\thead: {sent.words[word.head-1].text if word.head > 0 else \"root\"}\\t\\tdependency_relation: {word.deprel}')\n",
    "        if j > 10:\n",
    "            break;\n",
    "        j += 1\n",
    "    if j > 10:\n",
    "        break;\n",
    "    j += 1\n",
    "\n"
   ]
  },
  {
   "cell_type": "markdown",
   "id": "e3dbef45-3e9a-4993-9c4b-343af4f1e22d",
   "metadata": {},
   "source": [
    "### Named Entity Recognition"
   ]
  },
  {
   "cell_type": "code",
   "execution_count": 128,
   "id": "bd3880df-041f-4a21-b2ac-be15d3ae00ea",
   "metadata": {},
   "outputs": [
    {
     "name": "stderr",
     "output_type": "stream",
     "text": [
      "2021-06-20 23:12:44 INFO: Loading these models for language: en (English):\n",
      "=========================\n",
      "| Processor | Package   |\n",
      "-------------------------\n",
      "| tokenize  | combined  |\n",
      "| ner       | ontonotes |\n",
      "=========================\n",
      "\n",
      "2021-06-20 23:12:44 INFO: Use device: gpu\n",
      "2021-06-20 23:12:44 INFO: Loading: tokenize\n",
      "2021-06-20 23:12:44 INFO: Loading: ner\n",
      "2021-06-20 23:12:45 INFO: Done loading processors!\n"
     ]
    },
    {
     "name": "stdout",
     "output_type": "stream",
     "text": [
      "Total Named entities: 852\n",
      "====== Sentence 1 tokens =======\n",
      "====== Sentence 2 tokens =======\n",
      "entity: Ping Pong\ttype: PERSON\n",
      "entity: Fake News\ttype: WORK_OF_ART\n",
      "entity: Witch-Hunt\ttype: WORK_OF_ART\n",
      "====== Sentence 3 tokens =======\n",
      "====== Sentence 4 tokens =======\n",
      "====== Sentence 5 tokens =======\n",
      "entity: David Bowie\ttype: PERSON\n",
      "entity: OutsideShawn Helton\ttype: PERSON\n",
      "entity: 21st Century Wire\ttype: WORK_OF_ART\n",
      "====== Sentence 6 tokens =======\n",
      "entity: the days\ttype: DATE\n",
      "entity: US\ttype: GPE\n",
      "entity: November 2016\ttype: DATE\n",
      "entity: Wikileaks\ttype: ORG\n",
      "entity: Hillary Clinton\ttype: PERSON\n"
     ]
    }
   ],
   "source": [
    "nlp = stanza.Pipeline(lang='en', processors='tokenize,ner')\n",
    "example_doc = nlp(example_doc)\n",
    "j = 0\n",
    "\n",
    "total_entities = 0\n",
    "for i, sentence in enumerate(example_doc.sentences):\n",
    "    for ent in sentence.ents:\n",
    "        total_entities += 1\n",
    "        \n",
    "print(\"Total Named entities: \" + str(total_entities))\n",
    "\n",
    "for i, sentence in enumerate(example_doc.sentences):\n",
    "    print(f'====== Sentence {i+1} tokens =======')\n",
    "    for ent in sentence.ents:\n",
    "        print(f'entity: {ent.text}\\ttype: {ent.type}')\n",
    "        j += 1\n",
    "        if j > 10:\n",
    "            break\n",
    "    if j > 10:\n",
    "        break"
   ]
  },
  {
   "cell_type": "markdown",
   "id": "6d127217-7f64-454e-a981-0d45ac99e04a",
   "metadata": {},
   "source": [
    "### Sentiment Analysis"
   ]
  },
  {
   "cell_type": "code",
   "execution_count": 116,
   "id": "c7c7c9bf-6bf9-4b4e-81e7-adb86f05faaa",
   "metadata": {},
   "outputs": [
    {
     "name": "stderr",
     "output_type": "stream",
     "text": [
      "2021-06-20 22:52:54 INFO: Loading these models for language: en (English):\n",
      "========================\n",
      "| Processor | Package  |\n",
      "------------------------\n",
      "| tokenize  | combined |\n",
      "| sentiment | sstplus  |\n",
      "========================\n",
      "\n",
      "2021-06-20 22:52:54 INFO: Use device: gpu\n",
      "2021-06-20 22:52:54 INFO: Loading: tokenize\n",
      "2021-06-20 22:52:54 INFO: Loading: sentiment\n",
      "2021-06-20 22:52:54 INFO: Done loading processors!\n"
     ]
    },
    {
     "name": "stdout",
     "output_type": "stream",
     "text": [
      "(Photo Illustration Shawn Helton of 21WIRE)CONTEXT: Podesta Emails, False Hacks & Conspiracy\t\tnegative\n",
      "While many of the leaked Podesta emails (including the really important one admitting that US partners Qatar and Saudi Arabia are giving funding and  logistical support  of ISIS) caused a major stir in the run-up to the 2016 Election, few Wikileaks releases have attracted more attention then the Podesta emails associated with the internet-based conspiracy dubbed  Pizzagate.\t\tneutral\n",
      "Epstein flight records and  a little black book  paint a very intriguing picture.\t\tpositive\n"
     ]
    }
   ],
   "source": [
    "nlp = stanza.Pipeline(lang='en', processors='tokenize,sentiment')\n",
    "example_doc = nlp(example_doc)\n",
    "sentiment_dict = {0: \"negative\", 1: 'neutral', 2: 'positive'}\n",
    "j = 0\n",
    "for i, sentence in enumerate(example_doc.sentences):\n",
    "    if sentence.sentiment == j:\n",
    "        print(sentence.text + '\\t\\t' + sentiment_dict[sentence.sentiment])\n",
    "        j += 1"
   ]
  },
  {
   "cell_type": "markdown",
   "id": "39656f18-2410-42ef-b512-bc6ec2e0b6fb",
   "metadata": {},
   "source": [
    "----"
   ]
  },
  {
   "cell_type": "markdown",
   "id": "84626bb6-b980-4892-9c4f-47bd169e7f68",
   "metadata": {},
   "source": [
    "### Descargar Stop-Words"
   ]
  },
  {
   "cell_type": "code",
   "execution_count": 17,
   "id": "c36044a3-884b-4e6c-af01-de79a4b42938",
   "metadata": {},
   "outputs": [],
   "source": [
    "# nltk.download(\"stopwords\")"
   ]
  },
  {
   "cell_type": "code",
   "execution_count": 18,
   "id": "5ccb6a3e-0c21-41e1-b867-e7eaa459b44d",
   "metadata": {},
   "outputs": [],
   "source": [
    "from nltk.corpus import stopwords\n",
    "stop_words = stopwords.words('english')\n",
    "stop_words.extend(['from', 'subject', 're', 'edu', 'use'])\n",
    "stop_words.append(gensim.parsing.preprocessing.STOPWORDS)\n",
    "stop_words = set(stop_words)"
   ]
  },
  {
   "cell_type": "code",
   "execution_count": 19,
   "id": "a6fd2c42-a6b0-4af4-aa7d-a42a520f5cac",
   "metadata": {},
   "outputs": [
    {
     "name": "stdout",
     "output_type": "stream",
     "text": [
      "use, isn, through, these, at, me, frozenset({'almost', 'seemed', 'me', 'hereupon', 'afterwards', 'a', 'how', 'does', 'keep', 'etc', 'although', 'and', 'into', 'everything', 'system', 'de', 'did', 'every', 'perhaps', 'mill', 'hers', 're', 'someone', 'each', 'everywhere', 'i', 'before', 'do', 'between', 'them', 'from', 'most', 'what', 'seems', 'doing', 'however', 'anywhere', 'anything', 'on', 'becomes', 'no', 'first', 'computer', 'around', 'must', 'mostly', 'herein', 'beside', 'put', 'describe', 'not', 'been', 'less', 'used', 'twelve', 'part', 'yourselves', 'often', 'cry', 'thin', 'nowhere', 'amongst', 'the', 'another', 'full', 'both', 'your', 'out', 'also', 'nothing', 'thru', 'few', 'herself', 'doesn', 'name', 'below', 'somehow', 'against', 'four', 'have', 'he', 'several', 'become', 'could', 'cannot', 'formerly', 'go', 'sometime', 'at', 'upon', 'hence', 'fill', 'yet', 'couldnt', 'six', 'somewhere', 'though', 'neither', 'meanwhile', 'might', 'our', 'among', 'throughout', 'whereas', 'made', 'eleven', 'something', 'beyond', 'thereafter', 'besides', 'his', 'latterly', 'thereby', 'during', 'un', 'some', 'say', 'am', 'together', 'anyone', 'too', 'hasnt', 'top', 'found', 'all', 'therein', 'cant', 'thick', 'their', 'more', 'sometimes', 'by', 'in', 'kg', 'third', 'noone', 'show', 'whom', 'other', 'why', 'this', 'anyway', 'him', 'already', 'same', 'inc', 'thereupon', 'take', 'whereupon', 'else', 'which', 'should', 'whatever', 'who', 'after', 'fire', 'call', 'really', 'except', 'eg', 'indeed', 'through', 'con', 'never', 'detail', 'thence', 'be', 'whether', 'next', 'her', 'as', 'themselves', 'such', 'various', 'if', 'across', 'per', 'became', 'get', 'down', 'myself', 'toward', 'was', 'here', 'whereafter', 'whither', 'then', 'above', 'those', 'wherein', 'see', 'unless', 'whence', 'own', 'nor', 'due', 'very', 'none', 'latter', 'forty', 'didn', 'without', 'since', 'may', 'being', 'therefore', 'back', 'can', 'its', 'hereafter', 'onto', 'three', 'off', 'because', 'beforehand', 'up', 'side', 'empty', 'we', 'ours', 'to', 'seem', 'hereby', 'move', 'itself', 'had', 'any', 'enough', 'elsewhere', 'within', 'yours', 'via', 'while', 'even', 'give', 'regarding', 'nevertheless', 'these', 'us', 'under', 'many', 'hundred', 'done', 'one', 'always', 'wherever', 'mine', 'alone', 'an', 'ten', 'sincere', 'still', 'whenever', 'fifty', 'himself', 'former', 'find', 'with', 'now', 'over', 'seeming', 'there', 'eight', 'until', 'nine', 'bill', 'quite', 'last', 'well', 'fifteen', 'bottom', 'amount', 'ourselves', 'than', 'my', 'least', 'so', 'again', 'either', 'about', 'whoever', 'that', 'she', 'moreover', 'where', 'towards', 'or', 'sixty', 'will', 'whole', 'but', 'are', 'when', 'km', 'further', 'only', 'interest', 'you', 'otherwise', 'just', 'behind', 'others', 'whereby', 'becoming', 'along', 'make', 'everyone', 'nobody', 'namely', 'ever', 'they', 'ltd', 'anyhow', 'much', 'yourself', 'don', 'once', 'rather', 'co', 'for', 'using', 'please', 'would', 'front', 'thus', 'is', 'were', 'amoungst', 'whose', 'two', 'twenty', 'of', 'ie', 'it', 'has', 'serious', 'five'}), needn, under, ma, edu, t, be, a, you'd, does, her, as, how, mustn't, that'll, themselves, such, an, it's, and, haven't, into, if, did, weren't, himself, aren, our, with, now, hasn't, down, myself, over, there, was, here, until, couldn't, hers, then, above, those, re, d, having, each, aren't, his, nor, own, subject, won't, i, ourselves, do, before, between, them, needn't, wouldn, from, most, what, than, very, doing, ve, during, shan't, hadn't, mustn, doesn't, my, so, didn, on, wasn't, again, some, no, am, about, isn't, hasn, that, she, too, mightn, being, ll, weren, where, hadn, or, o, shouldn, will, can, but, all, are, not, been, when, further, its, she's, only, their, more, didn't, you, off, theirs, just, because, yourselves, up, couldn, haven, wasn, by, in, we, m, should've, you've, the, wouldn't, you're, mightn't, ours, both, your, they, out, to, shan, whom, other, why, this, ain, yourself, herself, once, few, don, itself, doesn, you'll, had, for, any, him, below, against, yours, same, is, have, were, he, while, don't, which, of, should, who, won, it, after, shouldn't, has, s, y, "
     ]
    }
   ],
   "source": [
    "for word in stop_words:\n",
    "    print(word, end=', ')"
   ]
  },
  {
   "cell_type": "markdown",
   "id": "23643b51-a429-47e4-a8a2-a5693a5c7c60",
   "metadata": {},
   "source": [
    "Eliminar Stop-Words"
   ]
  },
  {
   "cell_type": "code",
   "execution_count": 20,
   "id": "0e10ea25-9cb8-46ed-9e56-ce5823ca1dce",
   "metadata": {},
   "outputs": [],
   "source": [
    "def preprocess(text):\n",
    "    result = []\n",
    "    for token in gensim.utils.simple_preprocess(text):\n",
    "        if (len(token) > 3 and token not in stop_words) or '.' in token or ',' in token:\n",
    "            result.append(token)\n",
    "            \n",
    "    return result"
   ]
  },
  {
   "cell_type": "code",
   "execution_count": 21,
   "id": "f331dfe8-d72d-44d1-ac1a-9404eab20fde",
   "metadata": {},
   "outputs": [
    {
     "data": {
      "text/html": [
       "<div>\n",
       "<style scoped>\n",
       "    .dataframe tbody tr th:only-of-type {\n",
       "        vertical-align: middle;\n",
       "    }\n",
       "\n",
       "    .dataframe tbody tr th {\n",
       "        vertical-align: top;\n",
       "    }\n",
       "\n",
       "    .dataframe thead th {\n",
       "        text-align: right;\n",
       "    }\n",
       "</style>\n",
       "<table border=\"1\" class=\"dataframe\">\n",
       "  <thead>\n",
       "    <tr style=\"text-align: right;\">\n",
       "      <th></th>\n",
       "      <th>title</th>\n",
       "      <th>text</th>\n",
       "      <th>subject</th>\n",
       "      <th>date</th>\n",
       "      <th>isfake</th>\n",
       "      <th>original</th>\n",
       "      <th>clean</th>\n",
       "    </tr>\n",
       "  </thead>\n",
       "  <tbody>\n",
       "    <tr>\n",
       "      <th>0</th>\n",
       "      <td>As U.S. budget fight looms, Republicans flip t...</td>\n",
       "      <td>WASHINGTON (Reuters) - The head of a conservat...</td>\n",
       "      <td>politicsNews</td>\n",
       "      <td>December 31, 2017</td>\n",
       "      <td>1</td>\n",
       "      <td>As U.S. budget fight looms, Republicans flip t...</td>\n",
       "      <td>[budget, fight, looms, republicans, flip, fisc...</td>\n",
       "    </tr>\n",
       "    <tr>\n",
       "      <th>1</th>\n",
       "      <td>U.S. military to accept transgender recruits o...</td>\n",
       "      <td>WASHINGTON (Reuters) - Transgender people will...</td>\n",
       "      <td>politicsNews</td>\n",
       "      <td>December 29, 2017</td>\n",
       "      <td>1</td>\n",
       "      <td>U.S. military to accept transgender recruits o...</td>\n",
       "      <td>[military, accept, transgender, recruits, mond...</td>\n",
       "    </tr>\n",
       "    <tr>\n",
       "      <th>2</th>\n",
       "      <td>Senior U.S. Republican senator: 'Let Mr. Muell...</td>\n",
       "      <td>WASHINGTON (Reuters) - The special counsel inv...</td>\n",
       "      <td>politicsNews</td>\n",
       "      <td>December 31, 2017</td>\n",
       "      <td>1</td>\n",
       "      <td>Senior U.S. Republican senator: 'Let Mr. Muell...</td>\n",
       "      <td>[senior, republican, senator, mueller, washing...</td>\n",
       "    </tr>\n",
       "    <tr>\n",
       "      <th>3</th>\n",
       "      <td>FBI Russia probe helped by Australian diplomat...</td>\n",
       "      <td>WASHINGTON (Reuters) - Trump campaign adviser ...</td>\n",
       "      <td>politicsNews</td>\n",
       "      <td>December 30, 2017</td>\n",
       "      <td>1</td>\n",
       "      <td>FBI Russia probe helped by Australian diplomat...</td>\n",
       "      <td>[russia, probe, helped, australian, diplomat, ...</td>\n",
       "    </tr>\n",
       "    <tr>\n",
       "      <th>4</th>\n",
       "      <td>Trump wants Postal Service to charge 'much mor...</td>\n",
       "      <td>SEATTLE/WASHINGTON (Reuters) - President Donal...</td>\n",
       "      <td>politicsNews</td>\n",
       "      <td>December 29, 2017</td>\n",
       "      <td>1</td>\n",
       "      <td>Trump wants Postal Service to charge 'much mor...</td>\n",
       "      <td>[trump, wants, postal, service, charge, much, ...</td>\n",
       "    </tr>\n",
       "  </tbody>\n",
       "</table>\n",
       "</div>"
      ],
      "text/plain": [
       "                                               title  \\\n",
       "0  As U.S. budget fight looms, Republicans flip t...   \n",
       "1  U.S. military to accept transgender recruits o...   \n",
       "2  Senior U.S. Republican senator: 'Let Mr. Muell...   \n",
       "3  FBI Russia probe helped by Australian diplomat...   \n",
       "4  Trump wants Postal Service to charge 'much mor...   \n",
       "\n",
       "                                                text       subject  \\\n",
       "0  WASHINGTON (Reuters) - The head of a conservat...  politicsNews   \n",
       "1  WASHINGTON (Reuters) - Transgender people will...  politicsNews   \n",
       "2  WASHINGTON (Reuters) - The special counsel inv...  politicsNews   \n",
       "3  WASHINGTON (Reuters) - Trump campaign adviser ...  politicsNews   \n",
       "4  SEATTLE/WASHINGTON (Reuters) - President Donal...  politicsNews   \n",
       "\n",
       "                 date  isfake  \\\n",
       "0  December 31, 2017        1   \n",
       "1  December 29, 2017        1   \n",
       "2  December 31, 2017        1   \n",
       "3  December 30, 2017        1   \n",
       "4  December 29, 2017        1   \n",
       "\n",
       "                                            original  \\\n",
       "0  As U.S. budget fight looms, Republicans flip t...   \n",
       "1  U.S. military to accept transgender recruits o...   \n",
       "2  Senior U.S. Republican senator: 'Let Mr. Muell...   \n",
       "3  FBI Russia probe helped by Australian diplomat...   \n",
       "4  Trump wants Postal Service to charge 'much mor...   \n",
       "\n",
       "                                               clean  \n",
       "0  [budget, fight, looms, republicans, flip, fisc...  \n",
       "1  [military, accept, transgender, recruits, mond...  \n",
       "2  [senior, republican, senator, mueller, washing...  \n",
       "3  [russia, probe, helped, australian, diplomat, ...  \n",
       "4  [trump, wants, postal, service, charge, much, ...  "
      ]
     },
     "execution_count": 21,
     "metadata": {},
     "output_type": "execute_result"
    }
   ],
   "source": [
    "df['clean'] = df['original'].apply(preprocess)\n",
    "df.head()"
   ]
  },
  {
   "cell_type": "markdown",
   "id": "09853abe-ec6a-46bb-b138-a2ed5afd7dbf",
   "metadata": {},
   "source": [
    "Ejemplo de registro después de remover Stop-Words"
   ]
  },
  {
   "cell_type": "code",
   "execution_count": 22,
   "id": "e1b9ad4c-630a-4eb8-b681-f5da39993dce",
   "metadata": {},
   "outputs": [
    {
     "name": "stdout",
     "output_type": "stream",
     "text": [
      "['budget', 'fight', 'looms', 'republicans', 'flip', 'fiscal', 'script', 'washington', 'reuters', 'head', 'conservative', 'republican', 'faction', 'congress', 'voted', 'month', 'huge', 'expansion', 'national', 'debt', 'cuts', 'called', 'fiscal', 'conservative', 'sunday', 'urged', 'budget', 'restraint', 'keeping', 'sharp', 'pivot', 'among', 'republicans', 'representative', 'mark', 'meadows', 'speaking', 'face', 'nation', 'drew', 'hard', 'line', 'federal', 'spending', 'lawmakers', 'bracing', 'battle', 'january', 'return', 'holidays', 'wednesday', 'lawmakers', 'begin', 'trying', 'pass', 'federal', 'budget', 'fight', 'likely', 'linked', 'issues', 'immigration', 'policy', 'even', 'november', 'congressional', 'election', 'campaigns', 'approach', 'republicans', 'seek', 'keep', 'control', 'congress', 'president', 'donald', 'trump', 'republicans', 'want', 'budget', 'increase', 'military', 'spending', 'democrats', 'also', 'want', 'proportional', 'increases', 'defense', 'discretionary', 'spending', 'programs', 'support', 'education', 'scientific', 'research', 'infrastructure', 'public', 'health', 'environmental', 'protection', 'trump', 'administration', 'already', 'willing', 'going', 'increase', 'defense', 'discretionary', 'spending', 'percent', 'meadows', 'chairman', 'small', 'influential', 'house', 'freedom', 'caucus', 'said', 'program', 'democrats', 'saying', 'enough', 'need', 'give', 'government', 'raise', 'percent', 'fiscal', 'conservative', 'rationale', 'eventually', 'people', 'money', 'said', 'meadows', 'among', 'republicans', 'voted', 'late', 'december', 'party', 'debt', 'financed', 'overhaul', 'expected', 'balloon', 'federal', 'budget', 'deficit', 'trillion', 'years', 'trillion', 'national', 'debt', 'interesting', 'hear', 'mark', 'talk', 'fiscal', 'responsibility', 'democratic', 'representative', 'joseph', 'crowley', 'said', 'crowley', 'said', 'republican', 'bill', 'would', 'require', 'united', 'states', 'borrow', 'trillion', 'paid', 'future', 'generations', 'finance', 'cuts', 'corporations', 'rich', 'least', 'fiscally', 'responsible', 'bills', 'ever', 'seen', 'passed', 'history', 'house', 'representatives', 'think', 'going', 'paying', 'many', 'many', 'years', 'come', 'crowley', 'said', 'republicans', 'insist', 'package', 'biggest', 'overhaul', 'years', 'boost', 'economy', 'growth', 'house', 'speaker', 'paul', 'ryan', 'also', 'supported', 'bill', 'recently', 'went', 'meadows', 'making', 'clear', 'radio', 'interview', 'welfare', 'entitlement', 'reform', 'party', 'often', 'calls', 'would', 'republican', 'priority', 'republican', 'parlance', 'entitlement', 'programs', 'mean', 'food', 'stamps', 'housing', 'assistance', 'medicare', 'medicaid', 'health', 'insurance', 'elderly', 'poor', 'disabled', 'well', 'programs', 'created', 'washington', 'assist', 'needy', 'democrats', 'seized', 'ryan', 'early', 'december', 'remarks', 'saying', 'showed', 'republicans', 'would', 'overhaul', 'seeking', 'spending', 'cuts', 'social', 'programs', 'goals', 'house', 'republicans', 'take', 'back', 'seat', 'senate', 'votes', 'democrats', 'needed', 'approve', 'budget', 'prevent', 'government', 'shutdown', 'democrats', 'leverage', 'senate', 'republicans', 'narrowly', 'control', 'defend', 'discretionary', 'defense', 'programs', 'social', 'spending', 'tackling', 'issue', 'dreamers', 'people', 'brought', 'illegally', 'country', 'children', 'trump', 'september', 'march', 'expiration', 'date', 'deferred', 'action', 'childhood', 'arrivals', 'daca', 'program', 'protects', 'young', 'immigrants', 'deportation', 'provides', 'work', 'permits', 'president', 'said', 'recent', 'twitter', 'messages', 'wants', 'funding', 'proposed', 'mexican', 'border', 'wall', 'immigration', 'changes', 'exchange', 'agreeing', 'help', 'dreamers', 'representative', 'debbie', 'dingell', 'told', 'favor', 'linking', 'issue', 'policy', 'objectives', 'wall', 'funding', 'need', 'daca', 'clean', 'said', 'wednesday', 'trump', 'aides', 'meet', 'congressional', 'leaders', 'discuss', 'issues', 'followed', 'weekend', 'strategy', 'sessions', 'trump', 'republican', 'leaders', 'white', 'house', 'said', 'trump', 'also', 'scheduled', 'meet', 'sunday', 'florida', 'republican', 'governor', 'rick', 'scott', 'wants', 'emergency', 'house', 'passed', 'billion', 'package', 'hurricanes', 'florida', 'texas', 'puerto', 'rico', 'wildfires', 'california', 'package', 'exceeded', 'billion', 'requested', 'trump', 'administration', 'senate', 'voted']\n"
     ]
    }
   ],
   "source": [
    "print(df['clean'][0])"
   ]
  },
  {
   "cell_type": "markdown",
   "id": "0cc118bd-676a-4cf2-a80a-051c08f104ea",
   "metadata": {},
   "source": [
    "Total de palabras en el Dataset"
   ]
  },
  {
   "cell_type": "code",
   "execution_count": 23,
   "id": "0dd8de4d-fe7a-4c83-9623-c4e1113ff077",
   "metadata": {},
   "outputs": [
    {
     "name": "stdout",
     "output_type": "stream",
     "text": [
      "Total words:10025778 unique_words:108883\n"
     ]
    }
   ],
   "source": [
    "list_of_words = []\n",
    "unique_words = set()\n",
    "for document in df.clean:\n",
    "    for word in document:\n",
    "        list_of_words.append(word)\n",
    "        unique_words.add(word)\n",
    "        \n",
    "total_words = len(list_of_words)  # total words\n",
    "unique_words = len(unique_words)   # total unique words\n",
    "print(\"Total words:\" + str(total_words) + \" unique_words:\" + str(unique_words))"
   ]
  },
  {
   "cell_type": "markdown",
   "id": "02fc8f10-14dc-4fc2-b987-6229f4eaa1b0",
   "metadata": {},
   "source": [
    "Total de palabras únicas"
   ]
  },
  {
   "cell_type": "markdown",
   "id": "34ec283c-13bc-4175-a1fa-1793681fb58b",
   "metadata": {},
   "source": [
    "Unir palabras nuevamente "
   ]
  },
  {
   "cell_type": "code",
   "execution_count": 24,
   "id": "4417c7e4-5371-4b7b-a6d6-b83b49abef1e",
   "metadata": {},
   "outputs": [
    {
     "data": {
      "text/html": [
       "<div>\n",
       "<style scoped>\n",
       "    .dataframe tbody tr th:only-of-type {\n",
       "        vertical-align: middle;\n",
       "    }\n",
       "\n",
       "    .dataframe tbody tr th {\n",
       "        vertical-align: top;\n",
       "    }\n",
       "\n",
       "    .dataframe thead th {\n",
       "        text-align: right;\n",
       "    }\n",
       "</style>\n",
       "<table border=\"1\" class=\"dataframe\">\n",
       "  <thead>\n",
       "    <tr style=\"text-align: right;\">\n",
       "      <th></th>\n",
       "      <th>title</th>\n",
       "      <th>text</th>\n",
       "      <th>subject</th>\n",
       "      <th>date</th>\n",
       "      <th>isfake</th>\n",
       "      <th>original</th>\n",
       "      <th>clean</th>\n",
       "      <th>clean_joined</th>\n",
       "    </tr>\n",
       "  </thead>\n",
       "  <tbody>\n",
       "    <tr>\n",
       "      <th>0</th>\n",
       "      <td>As U.S. budget fight looms, Republicans flip t...</td>\n",
       "      <td>WASHINGTON (Reuters) - The head of a conservat...</td>\n",
       "      <td>politicsNews</td>\n",
       "      <td>December 31, 2017</td>\n",
       "      <td>1</td>\n",
       "      <td>As U.S. budget fight looms, Republicans flip t...</td>\n",
       "      <td>[budget, fight, looms, republicans, flip, fisc...</td>\n",
       "      <td>budget fight looms republicans flip fiscal scr...</td>\n",
       "    </tr>\n",
       "    <tr>\n",
       "      <th>1</th>\n",
       "      <td>U.S. military to accept transgender recruits o...</td>\n",
       "      <td>WASHINGTON (Reuters) - Transgender people will...</td>\n",
       "      <td>politicsNews</td>\n",
       "      <td>December 29, 2017</td>\n",
       "      <td>1</td>\n",
       "      <td>U.S. military to accept transgender recruits o...</td>\n",
       "      <td>[military, accept, transgender, recruits, mond...</td>\n",
       "      <td>military accept transgender recruits monday pe...</td>\n",
       "    </tr>\n",
       "    <tr>\n",
       "      <th>2</th>\n",
       "      <td>Senior U.S. Republican senator: 'Let Mr. Muell...</td>\n",
       "      <td>WASHINGTON (Reuters) - The special counsel inv...</td>\n",
       "      <td>politicsNews</td>\n",
       "      <td>December 31, 2017</td>\n",
       "      <td>1</td>\n",
       "      <td>Senior U.S. Republican senator: 'Let Mr. Muell...</td>\n",
       "      <td>[senior, republican, senator, mueller, washing...</td>\n",
       "      <td>senior republican senator mueller washington r...</td>\n",
       "    </tr>\n",
       "    <tr>\n",
       "      <th>3</th>\n",
       "      <td>FBI Russia probe helped by Australian diplomat...</td>\n",
       "      <td>WASHINGTON (Reuters) - Trump campaign adviser ...</td>\n",
       "      <td>politicsNews</td>\n",
       "      <td>December 30, 2017</td>\n",
       "      <td>1</td>\n",
       "      <td>FBI Russia probe helped by Australian diplomat...</td>\n",
       "      <td>[russia, probe, helped, australian, diplomat, ...</td>\n",
       "      <td>russia probe helped australian diplomat washin...</td>\n",
       "    </tr>\n",
       "    <tr>\n",
       "      <th>4</th>\n",
       "      <td>Trump wants Postal Service to charge 'much mor...</td>\n",
       "      <td>SEATTLE/WASHINGTON (Reuters) - President Donal...</td>\n",
       "      <td>politicsNews</td>\n",
       "      <td>December 29, 2017</td>\n",
       "      <td>1</td>\n",
       "      <td>Trump wants Postal Service to charge 'much mor...</td>\n",
       "      <td>[trump, wants, postal, service, charge, much, ...</td>\n",
       "      <td>trump wants postal service charge much amazon ...</td>\n",
       "    </tr>\n",
       "  </tbody>\n",
       "</table>\n",
       "</div>"
      ],
      "text/plain": [
       "                                               title  \\\n",
       "0  As U.S. budget fight looms, Republicans flip t...   \n",
       "1  U.S. military to accept transgender recruits o...   \n",
       "2  Senior U.S. Republican senator: 'Let Mr. Muell...   \n",
       "3  FBI Russia probe helped by Australian diplomat...   \n",
       "4  Trump wants Postal Service to charge 'much mor...   \n",
       "\n",
       "                                                text       subject  \\\n",
       "0  WASHINGTON (Reuters) - The head of a conservat...  politicsNews   \n",
       "1  WASHINGTON (Reuters) - Transgender people will...  politicsNews   \n",
       "2  WASHINGTON (Reuters) - The special counsel inv...  politicsNews   \n",
       "3  WASHINGTON (Reuters) - Trump campaign adviser ...  politicsNews   \n",
       "4  SEATTLE/WASHINGTON (Reuters) - President Donal...  politicsNews   \n",
       "\n",
       "                 date  isfake  \\\n",
       "0  December 31, 2017        1   \n",
       "1  December 29, 2017        1   \n",
       "2  December 31, 2017        1   \n",
       "3  December 30, 2017        1   \n",
       "4  December 29, 2017        1   \n",
       "\n",
       "                                            original  \\\n",
       "0  As U.S. budget fight looms, Republicans flip t...   \n",
       "1  U.S. military to accept transgender recruits o...   \n",
       "2  Senior U.S. Republican senator: 'Let Mr. Muell...   \n",
       "3  FBI Russia probe helped by Australian diplomat...   \n",
       "4  Trump wants Postal Service to charge 'much mor...   \n",
       "\n",
       "                                               clean  \\\n",
       "0  [budget, fight, looms, republicans, flip, fisc...   \n",
       "1  [military, accept, transgender, recruits, mond...   \n",
       "2  [senior, republican, senator, mueller, washing...   \n",
       "3  [russia, probe, helped, australian, diplomat, ...   \n",
       "4  [trump, wants, postal, service, charge, much, ...   \n",
       "\n",
       "                                        clean_joined  \n",
       "0  budget fight looms republicans flip fiscal scr...  \n",
       "1  military accept transgender recruits monday pe...  \n",
       "2  senior republican senator mueller washington r...  \n",
       "3  russia probe helped australian diplomat washin...  \n",
       "4  trump wants postal service charge much amazon ...  "
      ]
     },
     "execution_count": 24,
     "metadata": {},
     "output_type": "execute_result"
    }
   ],
   "source": [
    "df['clean_joined'] = df['clean'].apply(lambda x: \" \".join(x))\n",
    "\n",
    "df.head()"
   ]
  },
  {
   "cell_type": "markdown",
   "id": "54c1eb71-cb87-464c-a0d3-960b4746eb2b",
   "metadata": {},
   "source": [
    "Ejemplo de texto limpio"
   ]
  },
  {
   "cell_type": "code",
   "execution_count": 25,
   "id": "5975dd76-2004-46e2-b854-4d7f9eabb192",
   "metadata": {},
   "outputs": [
    {
     "data": {
      "text/plain": [
       "'budget fight looms republicans flip fiscal script washington reuters head conservative republican faction congress voted month huge expansion national debt cuts called fiscal conservative sunday urged budget restraint keeping sharp pivot among republicans representative mark meadows speaking face nation drew hard line federal spending lawmakers bracing battle january return holidays wednesday lawmakers begin trying pass federal budget fight likely linked issues immigration policy even november congressional election campaigns approach republicans seek keep control congress president donald trump republicans want budget increase military spending democrats also want proportional increases defense discretionary spending programs support education scientific research infrastructure public health environmental protection trump administration already willing going increase defense discretionary spending percent meadows chairman small influential house freedom caucus said program democrats saying enough need give government raise percent fiscal conservative rationale eventually people money said meadows among republicans voted late december party debt financed overhaul expected balloon federal budget deficit trillion years trillion national debt interesting hear mark talk fiscal responsibility democratic representative joseph crowley said crowley said republican bill would require united states borrow trillion paid future generations finance cuts corporations rich least fiscally responsible bills ever seen passed history house representatives think going paying many many years come crowley said republicans insist package biggest overhaul years boost economy growth house speaker paul ryan also supported bill recently went meadows making clear radio interview welfare entitlement reform party often calls would republican priority republican parlance entitlement programs mean food stamps housing assistance medicare medicaid health insurance elderly poor disabled well programs created washington assist needy democrats seized ryan early december remarks saying showed republicans would overhaul seeking spending cuts social programs goals house republicans take back seat senate votes democrats needed approve budget prevent government shutdown democrats leverage senate republicans narrowly control defend discretionary defense programs social spending tackling issue dreamers people brought illegally country children trump september march expiration date deferred action childhood arrivals daca program protects young immigrants deportation provides work permits president said recent twitter messages wants funding proposed mexican border wall immigration changes exchange agreeing help dreamers representative debbie dingell told favor linking issue policy objectives wall funding need daca clean said wednesday trump aides meet congressional leaders discuss issues followed weekend strategy sessions trump republican leaders white house said trump also scheduled meet sunday florida republican governor rick scott wants emergency house passed billion package hurricanes florida texas puerto rico wildfires california package exceeded billion requested trump administration senate voted'"
      ]
     },
     "execution_count": 25,
     "metadata": {},
     "output_type": "execute_result"
    }
   ],
   "source": [
    "df['clean_joined'][0]"
   ]
  },
  {
   "cell_type": "code",
   "execution_count": 26,
   "id": "40baf340-5fd6-433d-bbdc-fc3d33e48246",
   "metadata": {},
   "outputs": [],
   "source": [
    "import stanza, torch, gc\n",
    "from stanza.models.common.doc import Document\n",
    "# stanza.download('en') \n",
    "stanza_documents = []\n",
    "clean_joined_sorted = sorted(df['clean_joined'], key=len, reverse=True)\n",
    "[stanza_documents.append(stanza.Document([], text=doc)) for doc in clean_joined_sorted]\n",
    "stanza_processed = []\n",
    "example_doc = stanza_documents[0]"
   ]
  },
  {
   "cell_type": "code",
   "execution_count": null,
   "id": "5c687f6a-68c2-44a0-8c8f-c4870e86717f",
   "metadata": {},
   "outputs": [],
   "source": []
  },
  {
   "cell_type": "markdown",
   "id": "c6726b93-8915-4a14-98ac-9907922f887a",
   "metadata": {},
   "source": [
    "### Tokenize (example)"
   ]
  },
  {
   "cell_type": "code",
   "execution_count": 27,
   "id": "18aaed3e-daa0-4236-a439-5531ba5f3289",
   "metadata": {},
   "outputs": [
    {
     "name": "stderr",
     "output_type": "stream",
     "text": [
      "2021-06-20 23:57:41 WARNING: Can not find mwt: default from official model list. Ignoring it.\n",
      "2021-06-20 23:57:41 INFO: Loading these models for language: en (English):\n",
      "========================\n",
      "| Processor | Package  |\n",
      "------------------------\n",
      "| tokenize  | combined |\n",
      "| pos       | combined |\n",
      "| lemma     | combined |\n",
      "========================\n",
      "\n",
      "2021-06-20 23:57:41 INFO: Use device: gpu\n",
      "2021-06-20 23:57:41 INFO: Loading: tokenize\n",
      "2021-06-20 23:57:43 INFO: Loading: pos\n",
      "2021-06-20 23:57:43 INFO: Loading: lemma\n",
      "2021-06-20 23:57:43 INFO: Done loading processors!\n"
     ]
    },
    {
     "name": "stdout",
     "output_type": "stream",
     "text": [
      "Total sentences: 1\n",
      "Total Tokens: 4545\n",
      "====== Sentence 1 tokens =======\n",
      "id: (1,)  text: anti\n",
      "id: (2,)  text: american\n",
      "id: (3,)  text: george\n",
      "id: (4,)  text: soros\n",
      "id: (5,)  text: locks\n",
      "id: (6,)  text: arms\n",
      "id: (7,)  text: trump\n",
      "id: (8,)  text: discovered\n",
      "id: (9,)  text: another\n",
      "id: (10,)  text: reason\n",
      "id: (11,)  text: support\n"
     ]
    },
    {
     "data": {
      "text/plain": [
       "<function print>"
      ]
     },
     "execution_count": 27,
     "metadata": {},
     "output_type": "execute_result"
    }
   ],
   "source": [
    "nlp = stanza.Pipeline(lang='en', processors='tokenize,mwt,pos,lemma')\n",
    "example_doc = nlp(example_doc)\n",
    "j = 0\n",
    "print(\"Total sentences: \" + str(len(example_doc.sentences)))\n",
    "\n",
    "total_tokens = 0\n",
    "for i, sentence in enumerate(example_doc.sentences):\n",
    "    for token in sentence.tokens:\n",
    "        total_tokens += 1\n",
    "        \n",
    "print(\"Total Tokens: \" + str(total_tokens))        \n",
    "        \n",
    "for i, sentence in enumerate(example_doc.sentences):\n",
    "    print(f'====== Sentence {i+1} tokens =======')\n",
    "    for token in sentence.tokens:\n",
    "        print('id: ' + str(token.id) + '  text: ' + token.text)\n",
    "        j += 1\n",
    "        if j > 10:\n",
    "            break\n",
    "    if j > 10:\n",
    "        break\n",
    "total_tokens = 0\n",
    "print"
   ]
  },
  {
   "cell_type": "markdown",
   "id": "aa8ba331-6a06-4421-a4d7-2eee574c0ff6",
   "metadata": {},
   "source": [
    "### Multi-Word Token (not available in english)"
   ]
  },
  {
   "cell_type": "markdown",
   "id": "bda6d072-edbe-4265-98f0-4180d0b88ffd",
   "metadata": {},
   "source": [
    "### Part-of-Speech & Morphological Features"
   ]
  },
  {
   "cell_type": "code",
   "execution_count": 28,
   "id": "0e045fa8-99ec-4ffc-88cc-f86d8e523546",
   "metadata": {},
   "outputs": [
    {
     "name": "stdout",
     "output_type": "stream",
     "text": [
      "Total feats: 4395\n",
      "====== Sentence 1 tokens =======\n",
      "word: anti\t\tupos: ADJ\txpos: JJ\tfeats: Degree=Pos\n",
      "word: american\t\tupos: ADJ\txpos: JJ\tfeats: Degree=Pos\n",
      "word: george\t\tupos: NOUN\txpos: NN\tfeats: Number=Sing\n",
      "word: soros\t\tupos: PROPN\txpos: NNP\tfeats: Number=Sing\n",
      "word: locks\t\tupos: VERB\txpos: VBZ\tfeats: Mood=Ind|Number=Sing|Person=3|Tense=Pres|VerbForm=Fin\n",
      "word: arms\t\tupos: NOUN\txpos: NNS\tfeats: Number=Plur\n",
      "word: trump\t\tupos: PROPN\txpos: NNP\tfeats: Number=Sing\n",
      "word: discovered\t\tupos: VERB\txpos: VBD\tfeats: Mood=Ind|Tense=Past|VerbForm=Fin\n",
      "word: another\t\tupos: DET\txpos: DT\tfeats: _\n",
      "word: reason\t\tupos: NOUN\txpos: NN\tfeats: Number=Sing\n",
      "word: support\t\tupos: NOUN\txpos: NN\tfeats: Number=Sing\n"
     ]
    }
   ],
   "source": [
    "example_doc = nlp(example_doc)\n",
    "j = 0\n",
    "\n",
    "total_words = 0\n",
    "for i, sentence in enumerate(example_doc.sentences):\n",
    "    for word in sentence.words:\n",
    "        if word.feats:\n",
    "            total_words += 1\n",
    "        \n",
    "print(\"Total feats: \" + str(total_words))     \n",
    "\n",
    "for i, sentence in enumerate(example_doc.sentences):\n",
    "    print(f'====== Sentence {i+1} tokens =======')\n",
    "    for word in sentence.words:\n",
    "        print('word: ' + word.text + '\\t\\tupos: ' + word.upos + '\\txpos: ' + word.xpos + '\\tfeats: ' + (word.feats if word.feats else \"_\"))\n",
    "        j += 1\n",
    "        if j > 10:\n",
    "            break\n",
    "    if j > 10:\n",
    "        break"
   ]
  },
  {
   "cell_type": "markdown",
   "id": "f59b0e2d-e6ea-41b1-89b6-360c2a2fed63",
   "metadata": {},
   "source": [
    "### Lemmatization"
   ]
  },
  {
   "cell_type": "code",
   "execution_count": 29,
   "id": "b0762bc5-2ae7-421e-bb2c-1832d5940626",
   "metadata": {},
   "outputs": [
    {
     "name": "stdout",
     "output_type": "stream",
     "text": [
      "Total lemma: 4545\n",
      "word: anti \tlemma: anti\n",
      "word: american \tlemma: american\n",
      "word: george \tlemma: george\n",
      "word: soros \tlemma: soros\n",
      "word: locks \tlemma: lock\n",
      "word: arms \tlemma: arm\n",
      "word: trump \tlemma: trump\n",
      "word: discovered \tlemma: discover\n",
      "word: another \tlemma: another\n",
      "word: reason \tlemma: reason\n",
      "word: support \tlemma: support\n",
      "word: anti \tlemma: anti\n",
      "word: american \tlemma: american\n",
      "word: person \tlemma: person\n",
      "word: know \tlemma: know\n",
      "word: connected \tlemma: connect\n",
      "word: national \tlemma: national\n",
      "word: football \tlemma: football\n",
      "word: league \tlemma: league\n",
      "word: players \tlemma: player\n",
      "word: association \tlemma: association\n",
      "word: nflpa \tlemma: nflpa\n",
      "word: nflpa \tlemma: nflpa\n",
      "word: recently \tlemma: recently\n",
      "word: financially \tlemma: financially\n",
      "word: supported \tlemma: support\n",
      "word: veritable \tlemma: veritable\n",
      "word: list \tlemma: list\n",
      "word: left \tlemma: leave\n",
      "word: organizations \tlemma: organization\n",
      "word: planned \tlemma: plan\n",
      "word: parenthood \tlemma: parenthood\n",
      "word: organizations \tlemma: organization\n",
      "word: protesting \tlemma: protest\n",
      "word: deportation \tlemma: deportation\n",
      "word: illegal \tlemma: illegal\n",
      "word: immigrants \tlemma: immigrant\n",
      "word: among \tlemma: among\n",
      "word: many \tlemma: many\n",
      "word: others \tlemma: other\n",
      "word: recipient \tlemma: recipient\n",
      "word: none \tlemma: none\n"
     ]
    }
   ],
   "source": [
    "import json\n",
    "j = 0\n",
    "\n",
    "total_words = 0\n",
    "for i, sentence in enumerate(example_doc.sentences):\n",
    "    for word in sentence.words:\n",
    "        if word.lemma:\n",
    "            total_words += 1\n",
    "        \n",
    "print(\"Total lemma: \" + str(total_words))  \n",
    "\n",
    "for sent in example_doc.sentences:\n",
    "    for word in sent.words:\n",
    "        print(f'word: {word.text+\" \"}\\tlemma: {word.lemma}', sep='\\n')\n",
    "        if j > 40:\n",
    "            break;\n",
    "        j += 1\n",
    "    if j > 40:\n",
    "        break;\n",
    "    j += 1\n"
   ]
  },
  {
   "cell_type": "markdown",
   "id": "c20bf74f-a465-488d-b33b-8370bfa0ce5c",
   "metadata": {},
   "source": [
    "### Dependency Parsing"
   ]
  },
  {
   "cell_type": "code",
   "execution_count": 30,
   "id": "920eb1b9-8704-4f3d-84e0-78e8b230cb84",
   "metadata": {},
   "outputs": [
    {
     "name": "stdout",
     "output_type": "stream",
     "text": [
      "Total dependency_relation: 0\n"
     ]
    },
    {
     "ename": "TypeError",
     "evalue": "'>' not supported between instances of 'NoneType' and 'int'",
     "output_type": "error",
     "traceback": [
      "\u001b[0;31m---------------------------------------------------------------------------\u001b[0m",
      "\u001b[0;31mTypeError\u001b[0m                                 Traceback (most recent call last)",
      "\u001b[0;32m<ipython-input-30-8ca1f81cd8ce>\u001b[0m in \u001b[0;36m<module>\u001b[0;34m\u001b[0m\n\u001b[1;32m     11\u001b[0m \u001b[0;32mfor\u001b[0m \u001b[0msent\u001b[0m \u001b[0;32min\u001b[0m \u001b[0mexample_doc\u001b[0m\u001b[0;34m.\u001b[0m\u001b[0msentences\u001b[0m\u001b[0;34m:\u001b[0m\u001b[0;34m\u001b[0m\u001b[0;34m\u001b[0m\u001b[0m\n\u001b[1;32m     12\u001b[0m     \u001b[0;32mfor\u001b[0m \u001b[0mword\u001b[0m \u001b[0;32min\u001b[0m \u001b[0msent\u001b[0m\u001b[0;34m.\u001b[0m\u001b[0mwords\u001b[0m\u001b[0;34m:\u001b[0m\u001b[0;34m\u001b[0m\u001b[0;34m\u001b[0m\u001b[0m\n\u001b[0;32m---> 13\u001b[0;31m         \u001b[0mprint\u001b[0m\u001b[0;34m(\u001b[0m\u001b[0;34mf'id: {word.id}\\t\\tword: {word.text}\\t\\thead id: {word.head}\\t\\thead: {sent.words[word.head-1].text if word.head > 0 else \"root\"}\\t\\tdependency_relation: {word.deprel}'\u001b[0m\u001b[0;34m)\u001b[0m\u001b[0;34m\u001b[0m\u001b[0;34m\u001b[0m\u001b[0m\n\u001b[0m\u001b[1;32m     14\u001b[0m         \u001b[0;32mif\u001b[0m \u001b[0mj\u001b[0m \u001b[0;34m>\u001b[0m \u001b[0;36m10\u001b[0m\u001b[0;34m:\u001b[0m\u001b[0;34m\u001b[0m\u001b[0;34m\u001b[0m\u001b[0m\n\u001b[1;32m     15\u001b[0m             \u001b[0;32mbreak\u001b[0m\u001b[0;34m;\u001b[0m\u001b[0;34m\u001b[0m\u001b[0;34m\u001b[0m\u001b[0m\n",
      "\u001b[0;31mTypeError\u001b[0m: '>' not supported between instances of 'NoneType' and 'int'"
     ]
    }
   ],
   "source": [
    "\n",
    "j = 0\n",
    "\n",
    "total_words = 0\n",
    "for i, sentence in enumerate(example_doc.sentences):\n",
    "    for word in sentence.words:\n",
    "        if word.deprel:\n",
    "            total_words += 1\n",
    "        \n",
    "print(\"Total dependency_relation: \" + str(total_words))  \n",
    "\n",
    "for sent in example_doc.sentences:\n",
    "    for word in sent.words:\n",
    "        print(f'id: {word.id}\\t\\tword: {word.text}\\t\\thead id: {word.head}\\t\\thead: {sent.words[word.head-1].text if word.head > 0 else \"root\"}\\t\\tdependency_relation: {word.deprel}')\n",
    "        if j > 10:\n",
    "            break;\n",
    "        j += 1\n",
    "    if j > 10:\n",
    "        break;\n",
    "    j += 1\n",
    "\n"
   ]
  },
  {
   "cell_type": "markdown",
   "id": "5d99590f-482d-4d23-9c08-a2a1de4ca6c9",
   "metadata": {},
   "source": [
    "### Named Entity Recognition"
   ]
  },
  {
   "cell_type": "code",
   "execution_count": 31,
   "id": "878fae14-89ad-47b0-aaca-61b2cb6b0817",
   "metadata": {},
   "outputs": [
    {
     "name": "stderr",
     "output_type": "stream",
     "text": [
      "2021-06-20 23:58:01 INFO: Loading these models for language: en (English):\n",
      "=========================\n",
      "| Processor | Package   |\n",
      "-------------------------\n",
      "| tokenize  | combined  |\n",
      "| ner       | ontonotes |\n",
      "=========================\n",
      "\n",
      "2021-06-20 23:58:01 INFO: Use device: gpu\n",
      "2021-06-20 23:58:01 INFO: Loading: tokenize\n",
      "2021-06-20 23:58:01 INFO: Loading: ner\n",
      "2021-06-20 23:58:01 INFO: Done loading processors!\n"
     ]
    },
    {
     "name": "stdout",
     "output_type": "stream",
     "text": [
      "Total Named entities: 63\n",
      "====== Sentence 1 tokens =======\n",
      "entity: george\ttype: PERSON\n",
      "entity: republicans\ttype: NORP\n",
      "entity: november\ttype: DATE\n",
      "entity: yesterday\ttype: DATE\n",
      "entity: recent years\ttype: DATE\n",
      "entity: republican\ttype: NORP\n",
      "entity: democrat\ttype: NORP\n",
      "entity: republican\ttype: NORP\n",
      "entity: democrats\ttype: NORP\n",
      "entity: republicans\ttype: NORP\n",
      "entity: sandra\ttype: PERSON\n"
     ]
    }
   ],
   "source": [
    "nlp = stanza.Pipeline(lang='en', processors='tokenize,ner')\n",
    "example_doc = nlp(example_doc)\n",
    "j = 0\n",
    "\n",
    "total_entities = 0\n",
    "for i, sentence in enumerate(example_doc.sentences):\n",
    "    for ent in sentence.ents:\n",
    "        total_entities += 1\n",
    "        \n",
    "print(\"Total Named entities: \" + str(total_entities))\n",
    "\n",
    "for i, sentence in enumerate(example_doc.sentences):\n",
    "    print(f'====== Sentence {i+1} tokens =======')\n",
    "    for ent in sentence.ents:\n",
    "        print(f'entity: {ent.text}\\ttype: {ent.type}')\n",
    "        j += 1\n",
    "        if j > 10:\n",
    "            break\n",
    "    if j > 10:\n",
    "        break"
   ]
  },
  {
   "cell_type": "markdown",
   "id": "9ce63fd2-3815-40c9-b448-4e47b568a687",
   "metadata": {},
   "source": [
    "### Sentiment Analysis"
   ]
  },
  {
   "cell_type": "code",
   "execution_count": 32,
   "id": "a9fea190-fd1d-43d1-9dd9-5d2ad7197dfa",
   "metadata": {},
   "outputs": [
    {
     "name": "stderr",
     "output_type": "stream",
     "text": [
      "2021-06-20 23:58:31 INFO: Loading these models for language: en (English):\n",
      "========================\n",
      "| Processor | Package  |\n",
      "------------------------\n",
      "| tokenize  | combined |\n",
      "| sentiment | sstplus  |\n",
      "========================\n",
      "\n",
      "2021-06-20 23:58:31 INFO: Use device: gpu\n",
      "2021-06-20 23:58:31 INFO: Loading: tokenize\n",
      "2021-06-20 23:58:32 INFO: Loading: sentiment\n",
      "2021-06-20 23:58:32 INFO: Done loading processors!\n"
     ]
    }
   ],
   "source": [
    "nlp = stanza.Pipeline(lang='en', processors='tokenize,sentiment')\n",
    "example_doc = nlp(example_doc)\n",
    "sentiment_dict = {0: \"negative\", 1: 'neutral', 2: 'positive'}\n",
    "j = 0\n",
    "for i, sentence in enumerate(example_doc.sentences):\n",
    "    if sentence.sentiment == j:\n",
    "        print(sentence.text + '\\t\\t' + sentiment_dict[sentence.sentiment])\n",
    "        j += 1"
   ]
  },
  {
   "cell_type": "markdown",
   "id": "34c3443b-ffa9-412b-a6d2-79bfc6bb0476",
   "metadata": {},
   "source": [
    "----"
   ]
  },
  {
   "cell_type": "code",
   "execution_count": null,
   "id": "84354516-a7ba-4db9-9b38-093808f78609",
   "metadata": {},
   "outputs": [],
   "source": []
  }
 ],
 "metadata": {
  "kernelspec": {
   "display_name": "Python 3",
   "language": "python",
   "name": "python3"
  },
  "language_info": {
   "codemirror_mode": {
    "name": "ipython",
    "version": 3
   },
   "file_extension": ".py",
   "mimetype": "text/x-python",
   "name": "python",
   "nbconvert_exporter": "python",
   "pygments_lexer": "ipython3",
   "version": "3.8.8"
  }
 },
 "nbformat": 4,
 "nbformat_minor": 5
}
