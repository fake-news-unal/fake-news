{
 "cells": [
  {
   "cell_type": "markdown",
   "id": "7c6c8941-6393-46e3-a82e-6bfc1a698ba8",
   "metadata": {},
   "source": [
    "# Modelo SVM"
   ]
  },
  {
   "cell_type": "markdown",
   "id": "22144207-f3bf-4404-ba25-fad3b4138dfd",
   "metadata": {},
   "source": [
    "## Lectura de datos"
   ]
  },
  {
   "cell_type": "code",
   "execution_count": 1,
   "id": "b6eb81dc-bb2e-48f4-ade6-8e8c2928bc0d",
   "metadata": {},
   "outputs": [],
   "source": [
    "import pandas as pd\n",
    "import nltk\n",
    "import gensim\n",
    "\n",
    "df = pd.read_pickle(\"./dataset/final.pkl\")"
   ]
  },
  {
   "cell_type": "markdown",
   "id": "8036384f-c3df-462c-8e50-6e8a1b1d3b09",
   "metadata": {
    "tags": []
   },
   "source": [
    "#### Total de palabras en el Dataset"
   ]
  },
  {
   "cell_type": "code",
   "execution_count": 2,
   "id": "eb27146a-26cf-4167-8b96-efc95db28e62",
   "metadata": {
    "tags": []
   },
   "outputs": [
    {
     "name": "stdout",
     "output_type": "stream",
     "text": [
      "Total words:8844981 unique_words:96148\n"
     ]
    }
   ],
   "source": [
    "list_of_words = []\n",
    "unique_words = set()\n",
    "for document in df.clean:\n",
    "    for word in document:\n",
    "        list_of_words.append(word)\n",
    "        unique_words.add(word)\n",
    "        \n",
    "total_words = len(list_of_words)  # total words\n",
    "unique_words = len(unique_words)   # total unique words\n",
    "print(\"Total words:\" + str(total_words) + \" unique_words:\" + str(unique_words))"
   ]
  },
  {
   "cell_type": "markdown",
   "id": "babeb2e6-6494-4974-86df-c32fb2b31f3c",
   "metadata": {},
   "source": [
    "## Partición del dataset"
   ]
  },
  {
   "cell_type": "code",
   "execution_count": 3,
   "id": "9b98944d-50ef-441f-ad5f-ab05826c286d",
   "metadata": {},
   "outputs": [],
   "source": [
    "from sklearn.feature_extraction.text import CountVectorizer\n",
    "cv = CountVectorizer(max_features = 5000)\n",
    "x_vectorized = cv.fit_transform(df.clean_joined).toarray()"
   ]
  },
  {
   "cell_type": "code",
   "execution_count": 6,
   "id": "23007318-5aa2-433a-a7c5-b820ee32e691",
   "metadata": {},
   "outputs": [],
   "source": [
    "from sklearn.model_selection import train_test_split\n",
    "x_train, x_test, y_train, y_test = train_test_split(x_vectorized, df.isfake.tolist(), test_size = 0.2)"
   ]
  },
  {
   "cell_type": "code",
   "execution_count": 14,
   "id": "b6673f3f-ba92-4dac-b6ab-50fd0ff98771",
   "metadata": {},
   "outputs": [
    {
     "name": "stdout",
     "output_type": "stream",
     "text": [
      "[0 0 0 ... 0 0 0]\n"
     ]
    }
   ],
   "source": [
    "print(x_train[0])"
   ]
  },
  {
   "cell_type": "code",
   "execution_count": 8,
   "id": "840bf499-9b4f-4b35-8010-4a90bfb40f09",
   "metadata": {},
   "outputs": [],
   "source": [
    "from sklearn.svm import SVC\n",
    "\n",
    "model = SVC(kernel = 'linear', random_state = 0)"
   ]
  },
  {
   "cell_type": "code",
   "execution_count": 9,
   "id": "d212981f-b721-45a5-ab91-a3f10cc28bd4",
   "metadata": {},
   "outputs": [
    {
     "name": "stdout",
     "output_type": "stream",
     "text": [
      "CPU times: user 26min 37s, sys: 7.14 s, total: 26min 44s\n",
      "Wall time: 15min 10s\n"
     ]
    },
    {
     "data": {
      "text/plain": [
       "SVC(kernel='linear', random_state=0)"
      ]
     },
     "execution_count": 9,
     "metadata": {},
     "output_type": "execute_result"
    }
   ],
   "source": [
    "%%time\n",
    "model.fit(x_train, y_train)"
   ]
  },
  {
   "cell_type": "markdown",
   "id": "4ec5fe65-6edd-4479-800c-6e0f5d8e9e05",
   "metadata": {},
   "source": [
    "## Evaluación"
   ]
  },
  {
   "cell_type": "code",
   "execution_count": 11,
   "id": "2509956d-1e61-48e5-b133-0963977eecd9",
   "metadata": {},
   "outputs": [],
   "source": [
    "prediction = model.predict(x_test)"
   ]
  },
  {
   "cell_type": "code",
   "execution_count": 12,
   "id": "2a817e50-3bf8-4f6e-bd62-cd75d86f9811",
   "metadata": {},
   "outputs": [
    {
     "name": "stdout",
     "output_type": "stream",
     "text": [
      "Model Accuracy :  0.9943207126948775\n"
     ]
    }
   ],
   "source": [
    "from sklearn.metrics import accuracy_score\n",
    "\n",
    "accuracy = accuracy_score(list(y_test), prediction)\n",
    "\n",
    "print(\"Model Accuracy : \", accuracy)"
   ]
  },
  {
   "cell_type": "code",
   "execution_count": 13,
   "id": "caaa2cad-1d26-44eb-b77b-7bdc41b564f3",
   "metadata": {},
   "outputs": [
    {
     "data": {
      "text/plain": [
       "[Text(0, 0.5, 'Reales(0)'), Text(0, 1.5, 'Falsas(1)')]"
      ]
     },
     "execution_count": 13,
     "metadata": {},
     "output_type": "execute_result"
    },
    {
     "data": {
      "image/png": "[encoded data removed]",
      "text/plain": [
       "<Figure size 432x288 with 2 Axes>"
      ]
     },
     "metadata": {
      "needs_background": "light"
     },
     "output_type": "display_data"
    }
   ],
   "source": [
    "from sklearn.metrics import confusion_matrix\n",
    "import matplotlib.pyplot as plt\n",
    "import seaborn as sns\n",
    "import numpy as np\n",
    "\n",
    "cm = confusion_matrix(y_test, prediction, labels=[0,1])\n",
    "\n",
    "# group_names = ['True Neg','False Pos','False Neg','True Pos']\n",
    "group_names = ['Verdaderos Positivos','Falsos Positivo','Falsos Negativos','Verdaderos Negativos']\n",
    "group_counts = [\"{0:0.0f}\".format(value) for value in\n",
    "                cm.flatten()]\n",
    "group_percentages = [\"{0:.2%}\".format(value) for value in\n",
    "                     cm.flatten()/np.sum(cm)]\n",
    "labels = [f\"{v1}\\n{v2}\\n{v3}\" for v1, v2, v3 in\n",
    "          zip(group_names,group_counts,group_percentages)]\n",
    "labels = np.asarray(labels).reshape(2,2)\n",
    "\n",
    "precision = cm[1,1] / sum(cm[:,1])\n",
    "recall    = cm[1,1] / sum(cm[1,:])\n",
    "f1_score  = 2*precision*recall / (precision + recall)\n",
    "stats_text = \"\\nAccuracy={:0.3f}\\nPrecision={:0.3f}\\nRecall={:0.3f}\\nF1 Score={:0.3f}\".format(accuracy,precision,recall,f1_score)\n",
    "\n",
    "ax= plt.subplot()\n",
    "sns.heatmap(cm, annot=labels, fmt='', cmap='Blues', ax = ax); #annot=True to annotate cells\n",
    "\n",
    "ax.set_xlabel('Predicted label' + stats_text)\n",
    "\n",
    "# labels, title and ticks\n",
    "ax.set_xlabel(\"Valores predicción \\n\\n Métricas\" + stats_text)\n",
    "ax.set_ylabel('Valores Reales')\n",
    "ax.set_title('Matriz de confusión')\n",
    "ax.xaxis.set_ticklabels(['Reales(0)', 'Falsas(1)'])\n",
    "ax.yaxis.set_ticklabels(['Reales(0)', 'Falsas(1)'])"
   ]
  }
 ],
 "metadata": {
  "kernelspec": {
   "display_name": "Python 3",
   "language": "python",
   "name": "python3"
  },
  "language_info": {
   "codemirror_mode": {
    "name": "ipython",
    "version": 3
   },
   "file_extension": ".py",
   "mimetype": "text/x-python",
   "name": "python",
   "nbconvert_exporter": "python",
   "pygments_lexer": "ipython3",
   "version": "3.8.5"
  }
 },
 "nbformat": 4,
 "nbformat_minor": 5
}
