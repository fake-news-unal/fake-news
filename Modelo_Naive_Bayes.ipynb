{
 "cells": [
  {
   "cell_type": "markdown",
   "id": "7c6c8941-6393-46e3-a82e-6bfc1a698ba8",
   "metadata": {},
   "source": [
    "# Naive Bayes"
   ]
  },
  {
   "cell_type": "markdown",
   "id": "22144207-f3bf-4404-ba25-fad3b4138dfd",
   "metadata": {},
   "source": [
    "## Lectura de datos"
   ]
  },
  {
   "cell_type": "code",
   "execution_count": 1,
   "id": "b6eb81dc-bb2e-48f4-ade6-8e8c2928bc0d",
   "metadata": {},
   "outputs": [
    {
     "name": "stderr",
     "output_type": "stream",
     "text": [
      "C:\\Users\\57300\\Anaconda3\\lib\\site-packages\\gensim\\similarities\\__init__.py:15: UserWarning: The gensim.similarities.levenshtein submodule is disabled, because the optional Levenshtein package <https://pypi.org/project/python-Levenshtein/> is unavailable. Install Levenhstein (e.g. `pip install python-Levenshtein`) to suppress this warning.\n",
      "  warnings.warn(msg)\n"
     ]
    }
   ],
   "source": [
    "import pandas as pd\n",
    "import nltk\n",
    "import gensim\n",
    "df = pd.read_pickle(\"./dataset/final.pkl\")"
   ]
  },
  {
   "cell_type": "markdown",
   "id": "04a308f1-8800-42f5-9fb4-ca686149a36b",
   "metadata": {},
   "source": [
    "## Total de palabras en el dataset"
   ]
  },
  {
   "cell_type": "code",
   "execution_count": 2,
   "id": "d8877383-fc48-4fa9-88d6-3981e83f6754",
   "metadata": {},
   "outputs": [
    {
     "name": "stdout",
     "output_type": "stream",
     "text": [
      "Total words:8844981 unique_words:96148\n"
     ]
    }
   ],
   "source": [
    "list_of_words = []\n",
    "unique_words = set()\n",
    "for document in df.clean:\n",
    "    for word in document:\n",
    "        list_of_words.append(word)\n",
    "        unique_words.add(word)\n",
    "        \n",
    "total_words = len(list_of_words)  # total words\n",
    "unique_words = len(unique_words)   # total unique words\n",
    "print(\"Total words:\" + str(total_words) + \" unique_words:\" + str(unique_words))"
   ]
  },
  {
   "cell_type": "markdown",
   "id": "7fe49ee6-4337-4be6-885f-1d06828a4ba1",
   "metadata": {},
   "source": [
    "## División de los datos"
   ]
  },
  {
   "cell_type": "code",
   "execution_count": 3,
   "id": "c4e42a9f-bea1-4a10-a93b-a188acf5cab3",
   "metadata": {},
   "outputs": [],
   "source": [
    "from sklearn.model_selection import train_test_split\n",
    "x_train, x_test, y_train, y_test = train_test_split(df.clean_joined, df.isfake, test_size = 0.2)"
   ]
  },
  {
   "cell_type": "code",
   "execution_count": 4,
   "id": "80732f7a-bea2-4096-a031-22fa0b3c828e",
   "metadata": {},
   "outputs": [],
   "source": [
    "from nltk import word_tokenize\n",
    "from tensorflow.keras.preprocessing.text import Tokenizer\n",
    "\n",
    "tokenizer = Tokenizer(num_words = total_words)\n",
    "tokenizer.fit_on_texts(x_train)\n",
    "x_train_seq = tokenizer.texts_to_sequences(x_train)\n",
    "x_test_seq = tokenizer.texts_to_sequences(x_test)"
   ]
  },
  {
   "cell_type": "code",
   "execution_count": 5,
   "id": "980ba4bf-d7fd-4038-8f05-e5fe13cea43b",
   "metadata": {},
   "outputs": [],
   "source": [
    "from tensorflow.keras.preprocessing.sequence import pad_sequences\n",
    "\n",
    "x_train_padded = pad_sequences(x_train_seq, maxlen = 40, padding = 'post', truncating = 'post')\n",
    "x_test_padded = pad_sequences(x_test_seq, maxlen = 40, truncating = 'post') "
   ]
  },
  {
   "cell_type": "code",
   "execution_count": 6,
   "id": "2ac32411-cf77-41d5-9c52-448d6d799b3d",
   "metadata": {},
   "outputs": [
    {
     "name": "stdout",
     "output_type": "stream",
     "text": [
      "[108, 3584, 657, 6574, 1699, 34, 11, 2990, 1699, 1, 34, 238, 321, 657, 3636, 108, 5915, 5, 17036, 620, 6, 58, 18, 65, 172, 3822, 912, 326, 95, 200, 8500, 57, 20580, 2137, 160, 1699, 8, 108, 316, 20, 10111, 3804, 912, 602, 70, 102, 961, 3301, 67, 83, 1968, 112, 65, 2101, 140, 101, 25, 232, 1699, 7500, 17, 10, 3, 76, 3430, 159, 13, 73, 99, 452, 201, 180, 82, 149, 1188, 2, 227, 6, 73, 436, 98, 1286, 70, 65, 67, 10, 653, 3363, 159, 229, 297, 42, 6, 681, 41, 2, 865, 1699, 436, 108, 249, 343, 451, 695, 374, 1634, 37, 402, 99, 708, 261, 402, 242, 2544, 1197, 78, 1, 72, 59, 1699, 156, 3289, 1, 47, 348, 255, 4, 317, 108, 215, 2449, 4424, 16047, 1259, 980, 324, 108, 4646, 1699, 37, 348, 1378, 692, 94, 1911, 1245, 64, 8, 452, 1274, 1208, 3, 108, 2923, 436, 57, 402, 10676, 62, 343, 498, 70, 37, 1336, 188, 78, 1714, 6, 58, 204, 478, 88, 155, 316, 50, 18, 333, 402, 18, 18, 30, 1798, 271, 912, 23, 472, 9987, 9650, 10, 83, 763, 112, 230, 7, 11, 912, 23, 1699, 605, 1427, 46, 1114, 12805, 1634, 22784, 326, 95, 30, 252, 608, 1670, 1, 605, 393, 1699, 305, 298, 107, 97, 84, 34, 1699, 101, 171, 436, 49, 18, 1317, 25927, 1010, 402, 61, 1485, 498, 2184, 1699, 7, 161]\n"
     ]
    }
   ],
   "source": [
    "print(x_train_seq[0])"
   ]
  },
  {
   "cell_type": "code",
   "execution_count": 7,
   "id": "0378675f-2aa6-4fae-96fc-6681181acaa1",
   "metadata": {},
   "outputs": [
    {
     "name": "stdout",
     "output_type": "stream",
     "text": [
      "[  108  3584   657  6574  1699    34    11  2990  1699     1    34   238\n",
      "   321   657  3636   108  5915     5 17036   620     6    58    18    65\n",
      "   172  3822   912   326    95   200  8500    57 20580  2137   160  1699\n",
      "     8   108   316    20]\n"
     ]
    }
   ],
   "source": [
    "print(x_train_padded[0])"
   ]
  },
  {
   "cell_type": "code",
   "execution_count": 8,
   "id": "1ebd18c3-44a4-4d5a-a644-46c28d0c4aa3",
   "metadata": {},
   "outputs": [],
   "source": [
    "import numpy as np\n",
    "y_train = np.asarray(y_train).astype('float32').reshape((-1,1))"
   ]
  },
  {
   "cell_type": "code",
   "execution_count": 9,
   "id": "0da01b34-46df-4b39-996f-bf573799272a",
   "metadata": {},
   "outputs": [
    {
     "data": {
      "text/plain": [
       "array([[  108,  3584,   657, ...,   108,   316,    20],\n",
       "       [  347,    13,    14, ..., 11299,   472,  1163],\n",
       "       [  553,  6027,  2794, ...,    21, 35309,   837],\n",
       "       ...,\n",
       "       [  232,     6, 41701, ...,    88,   711,   243],\n",
       "       [ 2983,     1,  1325, ...,    15,   196,     1],\n",
       "       [    1,   276,  1752, ...,     0,     0,     0]])"
      ]
     },
     "execution_count": 9,
     "metadata": {},
     "output_type": "execute_result"
    }
   ],
   "source": [
    "x_train_padded"
   ]
  },
  {
   "cell_type": "markdown",
   "id": "e4f31c6e-f8b4-4c80-a559-ae931b0a5bdc",
   "metadata": {},
   "source": [
    "## Construcción del modelo"
   ]
  },
  {
   "cell_type": "code",
   "execution_count": 10,
   "id": "88608c70-251e-4232-a516-b99c20b3a96f",
   "metadata": {},
   "outputs": [
    {
     "name": "stderr",
     "output_type": "stream",
     "text": [
      "C:\\Users\\57300\\Anaconda3\\lib\\site-packages\\sklearn\\utils\\validation.py:63: DataConversionWarning: A column-vector y was passed when a 1d array was expected. Please change the shape of y to (n_samples, ), for example using ravel().\n",
      "  return f(*args, **kwargs)\n"
     ]
    },
    {
     "data": {
      "text/plain": [
       "GaussianNB()"
      ]
     },
     "execution_count": 10,
     "metadata": {},
     "output_type": "execute_result"
    }
   ],
   "source": [
    "from sklearn.naive_bayes import GaussianNB\n",
    "\n",
    "clf = GaussianNB()\n",
    "clf.fit(x_train_padded, y_train)"
   ]
  },
  {
   "cell_type": "code",
   "execution_count": 11,
   "id": "864c1c52-cd2a-409d-a182-fff81ab3c11d",
   "metadata": {},
   "outputs": [],
   "source": [
    "y_pred=clf.predict(x_test_padded)"
   ]
  },
  {
   "cell_type": "code",
   "execution_count": 12,
   "id": "5149a706-4519-4083-9254-d53a5abe9c31",
   "metadata": {},
   "outputs": [
    {
     "name": "stdout",
     "output_type": "stream",
     "text": [
      "Accuracy: 0.5869710467706013\n"
     ]
    }
   ],
   "source": [
    "from sklearn import metrics\n",
    "print(\"Accuracy:\",metrics.accuracy_score(y_test, y_pred))"
   ]
  },
  {
   "cell_type": "code",
   "execution_count": null,
   "id": "288fa3d2-b08a-4b68-a91d-e422c4f4b610",
   "metadata": {},
   "outputs": [],
   "source": []
  }
 ],
 "metadata": {
  "kernelspec": {
   "display_name": "Python 3",
   "language": "python",
   "name": "python3"
  },
  "language_info": {
   "codemirror_mode": {
    "name": "ipython",
    "version": 3
   },
   "file_extension": ".py",
   "mimetype": "text/x-python",
   "name": "python",
   "nbconvert_exporter": "python",
   "pygments_lexer": "ipython3",
   "version": "3.8.8"
  }
 },
 "nbformat": 4,
 "nbformat_minor": 5
}
