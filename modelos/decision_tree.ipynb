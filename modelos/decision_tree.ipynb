{
 "cells": [
  {
   "cell_type": "markdown",
   "metadata": {
    "colab_type": "text",
    "id": "view-in-github"
   },
   "source": [
    "<a href=\"https://colab.research.google.com/github/fake-news-unal/fake-news/blob/main/K_means%2Clogistica%2Cbosque%2Carbol.ipynb\" target=\"_parent\"><img src=\"https://colab.research.google.com/assets/colab-badge.svg\" alt=\"Open In Colab\"/></a>"
   ]
  },
  {
   "cell_type": "code",
   "execution_count": 27,
   "metadata": {
    "id": "XeHEFt2BPnph"
   },
   "outputs": [],
   "source": [
    "# Importar librerías\n",
    "import tensorflow as tf\n",
    "import pandas as pd\n",
    "import numpy as np\n",
    "import matplotlib.pyplot as plt\n",
    "import seaborn as sns\n",
    "from wordcloud import WordCloud, STOPWORDS\n",
    "import nltk\n",
    "import re\n",
    "from nltk.stem import PorterStemmer, WordNetLemmatizer\n",
    "from nltk.corpus import stopwords\n",
    "from nltk.tokenize import word_tokenize, sent_tokenize\n",
    "import gensim\n",
    "from gensim.utils import simple_preprocess\n",
    "from gensim.parsing.preprocessing import STOPWORDS\n",
    "\n",
    "# Importar keras\n",
    "from tensorflow.keras.preprocessing.text import one_hot, Tokenizer\n",
    "from tensorflow.keras.preprocessing.sequence import pad_sequences\n",
    "from tensorflow.keras.models import Sequential\n",
    "from tensorflow.keras.layers import Dense, Flatten, Embedding, Input, LSTM, Conv1D, MaxPool1D, Bidirectional\n",
    "from tensorflow.keras.models import Model\n",
    "\n",
    "# Para la matrix de confusion\n",
    "from sklearn.metrics import confusion_matrix\n",
    "from sklearn.metrics import accuracy_score\n",
    "from sklearn.metrics import classification_report\n",
    "\n",
    "import sqlite3"
   ]
  },
  {
   "cell_type": "code",
   "execution_count": null,
   "metadata": {},
   "outputs": [],
   "source": [
    "sqlite_db = \"../dataset/fake_news.sqlite\"\n",
    "\n",
    "conn = sqlite3.connect(sqlite_db)\n",
    "df = pd.read_sql_query(\"SELECT * FROM NEWS\", conn)\n",
    "conn.close()"
   ]
  },
  {
   "cell_type": "code",
   "execution_count": 8,
   "metadata": {},
   "outputs": [
    {
     "data": {
      "text/plain": [
       "0        As U.S. budget fight looms, Republicans flip t...\n",
       "1        U.S. military to accept transgender recruits o...\n",
       "2        Senior U.S. Republican senator: 'Let Mr. Muell...\n",
       "3        FBI Russia probe helped by Australian diplomat...\n",
       "4        Trump wants Postal Service to charge 'much mor...\n",
       "                               ...                        \n",
       "44893    McPain: John McCain Furious That Iran Treated ...\n",
       "44894    JUSTICE? Yahoo Settles E-mail Privacy Class-ac...\n",
       "44895    Sunnistan: US and Allied ‘Safe Zone’ Plan to T...\n",
       "44896    How to Blow $700 Million: Al Jazeera America F...\n",
       "44897    10 U.S. Navy Sailors Held by Iranian Military ...\n",
       "Name: original, Length: 44898, dtype: object"
      ]
     },
     "execution_count": 8,
     "metadata": {},
     "output_type": "execute_result"
    }
   ],
   "source": [
    "df['original'] = df['title'] + '. ' + df['text']\n",
    "df['original'].replace(\"..\", \".\")"
   ]
  },
  {
   "cell_type": "markdown",
   "metadata": {
    "tags": []
   },
   "source": [
    "#### Total de palabras en el Dataset"
   ]
  },
  {
   "cell_type": "code",
   "execution_count": 10,
   "metadata": {
    "tags": []
   },
   "outputs": [
    {
     "name": "stdout",
     "output_type": "stream",
     "text": [
      "Total words:8844981 unique_words:96148\n"
     ]
    }
   ],
   "source": [
    "list_of_words = []\n",
    "unique_words = set()\n",
    "for document in df.clean_joined:\n",
    "    for word in gensim.utils.simple_preprocess(document):\n",
    "        list_of_words.append(word)\n",
    "        unique_words.add(word)\n",
    "        \n",
    "total_words = len(list_of_words)  # total words\n",
    "unique_words = len(unique_words)   # total unique words\n",
    "print(\"Total words:\" + str(total_words) + \" unique_words:\" + str(unique_words))"
   ]
  },
  {
   "cell_type": "markdown",
   "metadata": {
    "id": "janhB5xjRxD6"
   },
   "source": [
    "### Partición del dataset"
   ]
  },
  {
   "cell_type": "code",
   "execution_count": 11,
   "metadata": {
    "id": "B3fnkfll7b7t"
   },
   "outputs": [],
   "source": [
    "from sklearn.model_selection import train_test_split\n",
    "x_train, x_test, y_train, y_test = train_test_split(df.clean_joined, df.isfake, test_size = 0.2)"
   ]
  },
  {
   "cell_type": "code",
   "execution_count": 12,
   "metadata": {
    "id": "7QeGUuv67b5J"
   },
   "outputs": [],
   "source": [
    "from nltk import word_tokenize\n",
    "from tensorflow.keras.preprocessing.text import one_hot, Tokenizer\n",
    "\n",
    "tokenizer = Tokenizer(num_words = total_words)\n",
    "tokenizer.fit_on_texts(x_train)\n",
    "train_sequences = tokenizer.texts_to_sequences(x_train)\n",
    "test_sequences = tokenizer.texts_to_sequences(x_test)"
   ]
  },
  {
   "cell_type": "code",
   "execution_count": 13,
   "metadata": {
    "colab": {
     "base_uri": "https://localhost:8080/"
    },
    "id": "Uly4JzYL7Q1C",
    "outputId": "3abcc51b-9f10-40cd-c508-e0e1c1decf50"
   },
   "outputs": [
    {
     "name": "stdout",
     "output_type": "stream",
     "text": [
      "Texto original (limpio) \n",
      " budget fight loom republicans flip fiscal script washington reuters head conservative republican faction congress vote month huge expansion national debt fiscal conservative sunday urge budget restraint sharp pivot republicans representative mark meadows speak face nation draw hard line federal spending lawmaker brace battle january return holiday wednesday lawmaker begin pass federal budget fight likely link issue immigration policy november congressional election campaign approach republicans seek control congress president donald trump republicans want budget increase military spending democrats want proportional increase defense discretionary spend program support education scientific research infrastructure public health environmental protection trump administration willing increase defense discretionary spending percent meadows chairman small influential house freedom caucus program democrats need government raise percent fiscal conservative rationale eventually people money meadows republicans vote late december party debt financed overhaul expect balloon federal budget deficit trillion year trillion national debt interesting hear mark talk fiscal responsibility democratic representative joseph crowley crowley republican require united states borrow trillion future generation finance corporation rich fiscally responsible pass history house representatives think year come crowley republicans insist package biggest overhaul year boost economy growth house speaker paul ryan support recently meadows clear radio interview welfare entitlement reform party republican priority republican parlance entitlement program mean food stamp housing assistance medicare medicaid health insurance elderly poor disabled program create washington assist needy democrats seize ryan early december remark republicans overhaul seek spending social program goal house republicans seat senate vote democrats need approve budget prevent government shutdown democrats leverage senate republicans narrowly control defend discretionary defense program social spending tackle issue dreamers people bring illegally country child trump september march expiration date defer action childhood arrivals daca program protect young immigrant deportation provide work permit president recent twitter message want funding propose mexican border wall immigration change exchange agree help dreamers representative debbie dingell tell favor link issue policy objective wall funding need daca clean wednesday trump aide meet congressional leader discuss issue follow weekend strategy session trump republican leader white house trump schedule meet sunday florida republican governor rick scott want emergency house pass billion package hurricane florida texas puerto rico wildfire california package exceed billion request trump administration senate vote \n",
      " Texto Tokenizado :  [1129, 203, 125, 1943, 167, 1281, 90, 11, 1129, 331, 39, 185, 148, 1154, 116, 90, 3, 15251, 203, 747, 1281, 1777, 949, 345, 3019, 570, 85, 39, 331, 39, 185, 148, 795, 2943, 818, 262, 125, 315, 2258, 3668, 1129, 1182, 1972, 567, 167, 862, 3, 1182, 1943, 55, 24, 593, 5672, 1281, 295, 43, 258, 331, 39, 104, 354, 677, 197, 949, 50, 1821, 227, 1589, 5542, 41, 123, 482, 345, 141, 85, 39, 570, 1281, 291, 1129, 795, 299, 62, 3376, 90, 3, 15251, 203, 62, 1281, 1777, 949, 55, 39, 333, 185, 148, 795, 18930, 4056, 785, 259, 1313, 795, 6088, 90, 15251, 203, 545, 1055, 6088, 610, 2130, 2258, 72, 795, 65, 567, 259, 3376, 90, 39, 967, 1879, 15251, 203, 62, 1281, 1777, 972, 146, 630, 6863, 178, 5640, 795, 149, 90, 331, 39, 570, 141, 221, 1129, 331, 39, 3220, 15251, 203, 164, 62, 1281, 1777, 949, 12623, 619, 267, 3276, 2089, 795, 15251, 203, 62, 1281, 1777, 949, 414, 284, 123, 19, 636, 123, 277, 3011, 3644, 795, 3494, 3, 1129, 16073, 19700, 31, 1129, 3, 936, 65, 795, 13, 2337, 114, 303, 535, 72, 85, 203, 104, 135, 414, 16074, 2413, 185, 148, 251, 6900, 85, 39]\n"
     ]
    }
   ],
   "source": [
    "print(\"Texto original (limpio) \\n\",df.clean_joined[0],\"\\n Texto Tokenizado : \",train_sequences[0])"
   ]
  },
  {
   "cell_type": "markdown",
   "metadata": {
    "id": "A12wC2DwS0dq"
   },
   "source": [
    "### Word2vec (Vectorización)"
   ]
  },
  {
   "cell_type": "code",
   "execution_count": 14,
   "metadata": {
    "id": "5XU7HN1P89H2"
   },
   "outputs": [],
   "source": [
    "#Importando librerías\n",
    "import string # python library\n",
    "import re # regex library\n",
    "from gensim.parsing.preprocessing import preprocess_string, strip_tags, strip_punctuation, strip_multiple_whitespaces, strip_numeric, remove_stopwords, strip_short # Preprocesssing\n",
    "from gensim.models import Word2Vec # Word2vec\n",
    "\n",
    "from sklearn import cluster # Kmeans clustering\n",
    "from sklearn import metrics # Metrics for evaluation\n",
    "from sklearn.decomposition import PCA #PCA\n",
    "from sklearn.manifold import TSNE #TSNE"
   ]
  },
  {
   "cell_type": "code",
   "execution_count": 15,
   "metadata": {
    "id": "A65ekfleEcKY"
   },
   "outputs": [],
   "source": [
    "CUSTOM_FILTERS = [lambda x: x.lower(), strip_tags, strip_punctuation, strip_multiple_whitespaces, strip_numeric, remove_stopwords, strip_short]\n",
    "\n",
    "processed_data = []\n",
    "processed_labels = []\n",
    "\n",
    "for index, row in df.iterrows():\n",
    "    words_broken_up = preprocess_string(row['original'], CUSTOM_FILTERS)\n",
    "    # Esto elimina cualquier campo que pueda quedar en blanco después del preprocesamiento.\n",
    "    if len(words_broken_up) > 0:\n",
    "        processed_data.append(words_broken_up)\n",
    "        processed_labels.append(row['isfake'])"
   ]
  },
  {
   "cell_type": "code",
   "execution_count": 16,
   "metadata": {
    "id": "pHKF3-7w7GQc"
   },
   "outputs": [],
   "source": [
    "model = Word2Vec(processed_data, min_count=1)"
   ]
  },
  {
   "cell_type": "code",
   "execution_count": 17,
   "metadata": {
    "colab": {
     "base_uri": "https://localhost:8080/"
    },
    "id": "t77Nm3st0qTm",
    "outputId": "c4c14060-2a33-4330-a8b1-29f5c2cc37a2"
   },
   "outputs": [
    {
     "data": {
      "text/plain": [
       "[('nation', 0.8249747157096863),\n",
       " ('america', 0.6850860118865967),\n",
       " ('countries', 0.5610052347183228),\n",
       " ('europe', 0.5588722229003906),\n",
       " ('country’s', 0.5447131395339966),\n",
       " ('world', 0.5397934317588806),\n",
       " ('america’s', 0.5385818481445312),\n",
       " ('planet', 0.5361852645874023),\n",
       " ('continent', 0.5257173776626587),\n",
       " ('prosperous', 0.5241903066635132)]"
      ]
     },
     "execution_count": 17,
     "metadata": {},
     "output_type": "execute_result"
    }
   ],
   "source": [
    "model.wv.most_similar(\"country\")"
   ]
  },
  {
   "cell_type": "code",
   "execution_count": 18,
   "metadata": {
    "colab": {
     "base_uri": "https://localhost:8080/"
    },
    "id": "ErBa0iicBZ8Q",
    "outputId": "a7e65dc2-3d72-4467-a63d-1e41f5bf6570"
   },
   "outputs": [
    {
     "name": "stderr",
     "output_type": "stream",
     "text": [
      "<ipython-input-18-e2e6dfec9562>:5: DeprecationWarning: Call to deprecated `__getitem__` (Method will be removed in 4.0.0, use self.wv.__getitem__() instead).\n",
      "  return model[x]\n"
     ]
    }
   ],
   "source": [
    "# Obtener el vector de una oración basado en el promedio de todos los vectores de palabras en la oración\n",
    "# Obtenemos el promedio ya que esto representa diferentes longitudes de oraciones\n",
    "def ReturnVector(x):\n",
    "    try:\n",
    "        return model[x]\n",
    "    except:\n",
    "        return np.zeros(100)\n",
    "    \n",
    "def Sentence_Vector(sentence):\n",
    "    word_vectors = list(map(lambda x: ReturnVector(x), sentence))\n",
    "    return np.average(word_vectors, axis=0).tolist()\n",
    "\n",
    "X = []\n",
    "for data_x in processed_data:\n",
    "    X.append(Sentence_Vector(data_x))\n"
   ]
  },
  {
   "cell_type": "code",
   "execution_count": 21,
   "metadata": {
    "colab": {
     "base_uri": "https://localhost:8080/"
    },
    "id": "ctxx4okg9m-s",
    "outputId": "3be2fce9-1e6e-4485-e9a1-5f3f237e901a"
   },
   "outputs": [
    {
     "data": {
      "text/plain": [
       "(44898, 100)"
      ]
     },
     "execution_count": 21,
     "metadata": {},
     "output_type": "execute_result"
    }
   ],
   "source": [
    "X_np = np.array(X)\n",
    "X_np.shape"
   ]
  },
  {
   "cell_type": "code",
   "execution_count": 22,
   "metadata": {},
   "outputs": [],
   "source": [
    "from sklearn.feature_extraction.text import TfidfVectorizer\n",
    "\n",
    "vectorization = TfidfVectorizer()\n",
    "xv_train = vectorization.fit_transform(x_train)\n",
    "xv_test = vectorization.transform(x_test)"
   ]
  },
  {
   "cell_type": "markdown",
   "metadata": {
    "id": "3Lz7H82WU3Y0"
   },
   "source": [
    "# ***Arból de decisión***"
   ]
  },
  {
   "cell_type": "code",
   "execution_count": 23,
   "metadata": {
    "colab": {
     "base_uri": "https://localhost:8080/"
    },
    "id": "w2pJGCLVJHNz",
    "outputId": "b1af72a4-2806-49f6-a6f5-ac6cb20dc07c"
   },
   "outputs": [
    {
     "data": {
      "text/plain": [
       "DecisionTreeClassifier()"
      ]
     },
     "execution_count": 23,
     "metadata": {},
     "output_type": "execute_result"
    }
   ],
   "source": [
    "from sklearn.tree import DecisionTreeClassifier\n",
    "\n",
    "DT = DecisionTreeClassifier()\n",
    "DT.fit(xv_train, y_train)"
   ]
  },
  {
   "cell_type": "markdown",
   "metadata": {
    "id": "eKX4krCQVFBF"
   },
   "source": [
    "# **Evaluación**"
   ]
  },
  {
   "cell_type": "code",
   "execution_count": 24,
   "metadata": {
    "id": "V41SdT3qJHKJ"
   },
   "outputs": [],
   "source": [
    "pred_dt = DT.predict(xv_test)"
   ]
  },
  {
   "cell_type": "code",
   "execution_count": 25,
   "metadata": {
    "colab": {
     "base_uri": "https://localhost:8080/"
    },
    "id": "FKEUbqx4JHHT",
    "outputId": "b45105ed-167e-4f86-8978-eb97196397a2"
   },
   "outputs": [
    {
     "name": "stdout",
     "output_type": "stream",
     "text": [
      "Model Accuracy :  0.9944320712694877\n"
     ]
    }
   ],
   "source": [
    "accuracy1 = accuracy_score(list(y_test), pred_dt)\n",
    "\n",
    "print(\"Model Accuracy : \", accuracy1)"
   ]
  },
  {
   "cell_type": "code",
   "execution_count": 28,
   "metadata": {
    "colab": {
     "base_uri": "https://localhost:8080/"
    },
    "id": "wBNupozYJHAt",
    "outputId": "4209bbfb-fad1-486b-e407-dd3a867f175b"
   },
   "outputs": [
    {
     "name": "stdout",
     "output_type": "stream",
     "text": [
      "              precision    recall  f1-score   support\n",
      "\n",
      "           0       0.99      0.99      0.99      4658\n",
      "           1       0.99      0.99      0.99      4322\n",
      "\n",
      "    accuracy                           0.99      8980\n",
      "   macro avg       0.99      0.99      0.99      8980\n",
      "weighted avg       0.99      0.99      0.99      8980\n",
      "\n"
     ]
    }
   ],
   "source": [
    "print(classification_report(y_test, pred_dt))"
   ]
  },
  {
   "cell_type": "code",
   "execution_count": 29,
   "metadata": {
    "colab": {
     "base_uri": "https://localhost:8080/",
     "height": 382
    },
    "id": "PuFlGeM3VLwO",
    "outputId": "24554c19-e98d-428d-8dcb-98a98d8cf39e"
   },
   "outputs": [
    {
     "data": {
      "text/plain": [
       "[Text(0, 0.5, 'Reales(0)'), Text(0, 1.5, 'Falsas(1)')]"
      ]
     },
     "execution_count": 29,
     "metadata": {},
     "output_type": "execute_result"
    },
    {
     "data": {
      "image/png": "[encoded data removed]",
      "text/plain": [
       "<Figure size 432x288 with 2 Axes>"
      ]
     },
     "metadata": {
      "needs_background": "light"
     },
     "output_type": "display_data"
    }
   ],
   "source": [
    "cm2 = confusion_matrix(y_test, pred_dt, labels=[0,1])\n",
    "\n",
    "# group_names = ['True Neg','False Pos','False Neg','True Pos']\n",
    "group_names = ['Verdaderos Positivos','Falsos Positivo','Falsos Negativos','Verdaderos Negativos']\n",
    "group_counts = [\"{0:0.0f}\".format(value) for value in\n",
    "                cm2.flatten()]\n",
    "group_percentages = [\"{0:.2%}\".format(value) for value in\n",
    "                     cm2.flatten()/np.sum(cm2)]\n",
    "labels = [f\"{v1}\\n{v2}\\n{v3}\" for v1, v2, v3 in\n",
    "          zip(group_names,group_counts,group_percentages)]\n",
    "labels = np.asarray(labels).reshape(2,2)\n",
    "\n",
    "precision = cm2[1,1] / sum(cm2[:,1])\n",
    "recall    = cm2[1,1] / sum(cm2[1,:])\n",
    "f1_score  = 2*precision*recall / (precision + recall)\n",
    "stats_text = \"\\nAccuracy1={:0.3f}\\nPrecision={:0.3f}\\nRecall={:0.3f}\\nF1 Score={:0.3f}\".format(accuracy1,precision,recall,f1_score)\n",
    "\n",
    "ax= plt.subplot()\n",
    "sns.heatmap(cm2, annot=labels, fmt='', cmap='Blues', ax = ax); #annot=True to annotate cells\n",
    "\n",
    "ax.set_xlabel('Predicted label' + stats_text)\n",
    "\n",
    "# labels, title and ticks\n",
    "ax.set_xlabel(\"Valores predicción \\n\\n Métricas\" + stats_text)\n",
    "ax.set_ylabel('Valores Reales')\n",
    "ax.set_title('Matriz de confusión')\n",
    "ax.xaxis.set_ticklabels(['Reales(0)', 'Falsas(1)'])\n",
    "ax.yaxis.set_ticklabels(['Reales(0)', 'Falsas(1)'])"
   ]
  }
 ],
 "metadata": {
  "colab": {
   "authorship_tag": "ABX9TyNYG+kUGdJdXEl3FHkBOfiH",
   "collapsed_sections": [],
   "include_colab_link": true,
   "name": "K-means,logistica,bosque,arbol.ipynb",
   "provenance": []
  },
  "kernelspec": {
   "display_name": "Python 3",
   "language": "python",
   "name": "python3"
  },
  "language_info": {
   "codemirror_mode": {
    "name": "ipython",
    "version": 3
   },
   "file_extension": ".py",
   "mimetype": "text/x-python",
   "name": "python",
   "nbconvert_exporter": "python",
   "pygments_lexer": "ipython3",
   "version": "3.8.8"
  }
 },
 "nbformat": 4,
 "nbformat_minor": 4
}
