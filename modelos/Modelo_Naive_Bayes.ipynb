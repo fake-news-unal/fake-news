{
 "cells": [
  {
   "cell_type": "markdown",
   "id": "7c6c8941-6393-46e3-a82e-6bfc1a698ba8",
   "metadata": {},
   "source": [
    "# Naive Bayes"
   ]
  },
  {
   "cell_type": "markdown",
   "id": "22144207-f3bf-4404-ba25-fad3b4138dfd",
   "metadata": {},
   "source": [
    "## Lectura de datos"
   ]
  },
  {
   "cell_type": "code",
   "execution_count": 1,
   "id": "b6eb81dc-bb2e-48f4-ade6-8e8c2928bc0d",
   "metadata": {},
   "outputs": [],
   "source": [
    "import pandas as pd\n",
    "import nltk\n",
    "import gensim\n",
    "import sqlite3\n",
    "\n",
    "sqlite_db = \"../dataset/fake_news.sqlite\"\n",
    "\n",
    "conn = sqlite3.connect(sqlite_db)\n",
    "df = pd.read_sql_query(\"SELECT * FROM NEWS\", conn)\n",
    "conn.close()"
   ]
  },
  {
   "cell_type": "markdown",
   "id": "04a308f1-8800-42f5-9fb4-ca686149a36b",
   "metadata": {},
   "source": [
    "## Total de palabras en el dataset"
   ]
  },
  {
   "cell_type": "code",
   "execution_count": 2,
   "id": "d8877383-fc48-4fa9-88d6-3981e83f6754",
   "metadata": {},
   "outputs": [
    {
     "name": "stdout",
     "output_type": "stream",
     "text": [
      "Total words:8844932 unique_words:96134\n"
     ]
    }
   ],
   "source": [
    "list_of_words = []\n",
    "unique_words = set()\n",
    "for document in df.clean_joined:\n",
    "    for word in gensim.utils.simple_preprocess(document):\n",
    "        list_of_words.append(word)\n",
    "        unique_words.add(word)\n",
    "        \n",
    "total_words = len(list_of_words)  # total words\n",
    "unique_words = len(unique_words)   # total unique words\n",
    "print(\"Total words:\" + str(total_words) + \" unique_words:\" + str(unique_words))"
   ]
  },
  {
   "cell_type": "markdown",
   "id": "7fe49ee6-4337-4be6-885f-1d06828a4ba1",
   "metadata": {},
   "source": [
    "## División de los datos"
   ]
  },
  {
   "cell_type": "code",
   "execution_count": 3,
   "id": "c4e42a9f-bea1-4a10-a93b-a188acf5cab3",
   "metadata": {},
   "outputs": [],
   "source": [
    "from sklearn.model_selection import train_test_split\n",
    "x_train, x_test, y_train, y_test = train_test_split(df.clean_joined, df.isfake, test_size = 0.2)"
   ]
  },
  {
   "cell_type": "code",
   "execution_count": 4,
   "id": "80732f7a-bea2-4096-a031-22fa0b3c828e",
   "metadata": {},
   "outputs": [],
   "source": [
    "from nltk import word_tokenize\n",
    "from tensorflow.keras.preprocessing.text import Tokenizer\n",
    "\n",
    "tokenizer = Tokenizer(num_words = total_words)\n",
    "tokenizer.fit_on_texts(x_train)\n",
    "x_train_seq = tokenizer.texts_to_sequences(x_train)\n",
    "x_test_seq = tokenizer.texts_to_sequences(x_test)"
   ]
  },
  {
   "cell_type": "code",
   "execution_count": 5,
   "id": "980ba4bf-d7fd-4038-8f05-e5fe13cea43b",
   "metadata": {},
   "outputs": [],
   "source": [
    "from tensorflow.keras.preprocessing.sequence import pad_sequences\n",
    "\n",
    "x_train_padded = pad_sequences(x_train_seq, maxlen = 40, padding = 'post', truncating = 'post')\n",
    "x_test_padded = pad_sequences(x_test_seq, maxlen = 40, truncating = 'post') "
   ]
  },
  {
   "cell_type": "code",
   "execution_count": 6,
   "id": "2ac32411-cf77-41d5-9c52-448d6d799b3d",
   "metadata": {},
   "outputs": [
    {
     "name": "stdout",
     "output_type": "stream",
     "text": [
      "[2176, 1362, 1, 392, 43, 3098, 11, 144, 223, 3, 1362, 2, 12, 1, 141, 270, 1837, 305, 691, 195, 291, 15, 279, 168, 43, 21, 31, 69, 467, 3432, 384, 141, 43, 25, 812, 63, 118, 662, 63, 42, 766, 5736, 223, 3, 144, 87, 9834, 6975, 339, 69, 308, 21, 31, 288, 1, 205, 89, 117, 1113, 1837, 4, 143, 355, 1095, 2410, 1858, 167, 1041, 2162, 360, 1485, 60, 4115, 5584, 2466, 392, 1774, 763, 492, 8382, 7417, 16984, 3055, 691, 15, 1123, 198, 4516, 223, 3, 149, 79, 612, 7036, 781, 167, 355, 1903, 105, 1, 40792, 230, 40, 3099, 7418, 208, 1229, 254, 223, 3, 306, 1, 423, 536, 63, 133, 1041, 355, 167, 411, 35017, 22, 718, 17546, 222, 223, 3, 144, 7888, 55337, 150, 57, 1297, 1339, 339, 9834, 16504, 1614, 1614, 222, 713, 1, 71, 187, 755, 386, 2049, 1117, 2217, 7223, 1134, 299, 519, 54, 713, 713, 982, 3927, 40793, 1, 627, 635, 603, 2667, 667, 42, 10, 2052, 423, 1, 15, 2, 4, 236, 71, 2742, 15, 7939, 1, 176, 42, 1028, 40793, 150, 87, 1614, 713, 127, 503, 16504, 1339, 1339, 1297, 467, 87, 314, 229, 223, 3, 144, 1362, 89, 61, 1, 229, 394, 996, 190, 372, 48, 848, 467, 32, 12110, 1, 30629, 12326, 5183, 12110, 1299, 2936, 24090, 429, 3658, 20479, 6, 1747, 2913, 4902, 1889, 150, 1134, 55338, 55339, 9834]\n"
     ]
    }
   ],
   "source": [
    "print(x_train_seq[0])"
   ]
  },
  {
   "cell_type": "code",
   "execution_count": 7,
   "id": "0378675f-2aa6-4fae-96fc-6681181acaa1",
   "metadata": {},
   "outputs": [
    {
     "name": "stdout",
     "output_type": "stream",
     "text": [
      "[2176 1362    1  392   43 3098   11  144  223    3 1362    2   12    1\n",
      "  141  270 1837  305  691  195  291   15  279  168   43   21   31   69\n",
      "  467 3432  384  141   43   25  812   63  118  662   63   42]\n"
     ]
    }
   ],
   "source": [
    "print(x_train_padded[0])"
   ]
  },
  {
   "cell_type": "code",
   "execution_count": 8,
   "id": "1ebd18c3-44a4-4d5a-a644-46c28d0c4aa3",
   "metadata": {},
   "outputs": [],
   "source": [
    "import numpy as np\n",
    "y_train = np.asarray(y_train).astype('float32').reshape((-1,1))"
   ]
  },
  {
   "cell_type": "code",
   "execution_count": 9,
   "id": "0da01b34-46df-4b39-996f-bf573799272a",
   "metadata": {},
   "outputs": [
    {
     "data": {
      "text/plain": [
       "array([[ 2176,  1362,     1, ...,   662,    63,    42],\n",
       "       [  858,  1745,   118, ...,   131,    59,   436],\n",
       "       [    1,   296,  1082, ...,   649,  3977, 10906],\n",
       "       ...,\n",
       "       [    1,   514, 47168, ...,   599,    34,    87],\n",
       "       [    9,    66,   672, ...,  1298,  2911,    37],\n",
       "       [   13,   220,   911, ...,    29,  2658,   911]], dtype=int32)"
      ]
     },
     "execution_count": 9,
     "metadata": {},
     "output_type": "execute_result"
    }
   ],
   "source": [
    "x_train_padded"
   ]
  },
  {
   "cell_type": "markdown",
   "id": "e4f31c6e-f8b4-4c80-a559-ae931b0a5bdc",
   "metadata": {},
   "source": [
    "## Construcción del modelo"
   ]
  },
  {
   "cell_type": "code",
   "execution_count": 17,
   "id": "88608c70-251e-4232-a516-b99c20b3a96f",
   "metadata": {},
   "outputs": [
    {
     "name": "stdout",
     "output_type": "stream",
     "text": [
      "CPU times: user 21.6 ms, sys: 1.93 ms, total: 23.5 ms\n",
      "Wall time: 22.9 ms\n"
     ]
    },
    {
     "name": "stderr",
     "output_type": "stream",
     "text": [
      "/home/drojas/anaconda3/lib/python3.8/site-packages/sklearn/utils/validation.py:63: DataConversionWarning: A column-vector y was passed when a 1d array was expected. Please change the shape of y to (n_samples, ), for example using ravel().\n",
      "  return f(*args, **kwargs)\n"
     ]
    },
    {
     "data": {
      "text/plain": [
       "GaussianNB()"
      ]
     },
     "execution_count": 17,
     "metadata": {},
     "output_type": "execute_result"
    }
   ],
   "source": [
    "from sklearn.naive_bayes import GaussianNB\n",
    "\n",
    "clf = GaussianNB()\n",
    "%time clf.fit(x_train_padded, y_train)"
   ]
  },
  {
   "cell_type": "code",
   "execution_count": 21,
   "id": "864c1c52-cd2a-409d-a182-fff81ab3c11d",
   "metadata": {},
   "outputs": [],
   "source": [
    "prediction = clf.predict(x_test_padded)"
   ]
  },
  {
   "cell_type": "code",
   "execution_count": 22,
   "id": "8d958048-0583-47db-93a4-9577423ab626",
   "metadata": {},
   "outputs": [],
   "source": [
    "prediction_list = []\n",
    "for i in range(len(prediction)):\n",
    "    if prediction[i].item() > 0.5:\n",
    "        prediction_list.append(1)\n",
    "    else:\n",
    "        prediction_list.append(0)"
   ]
  },
  {
   "cell_type": "code",
   "execution_count": 23,
   "id": "5149a706-4519-4083-9254-d53a5abe9c31",
   "metadata": {},
   "outputs": [
    {
     "name": "stdout",
     "output_type": "stream",
     "text": [
      "Model Accuracy :  0.5887725551347739\n"
     ]
    }
   ],
   "source": [
    "from sklearn.metrics import accuracy_score\n",
    "\n",
    "accuracy = accuracy_score(list(y_test), prediction_list)\n",
    "\n",
    "print(\"Model Accuracy : \", accuracy)"
   ]
  },
  {
   "cell_type": "code",
   "execution_count": 24,
   "id": "288fa3d2-b08a-4b68-a91d-e422c4f4b610",
   "metadata": {},
   "outputs": [
    {
     "data": {
      "text/plain": [
       "[Text(0, 0.5, 'Reales(0)'), Text(0, 1.5, 'Falsas(1)')]"
      ]
     },
     "execution_count": 24,
     "metadata": {},
     "output_type": "execute_result"
    },
    {
     "data": {
      "image/png": "[encoded data removed]",
      "text/plain": [
       "<Figure size 432x288 with 2 Axes>"
      ]
     },
     "metadata": {
      "needs_background": "light"
     },
     "output_type": "display_data"
    }
   ],
   "source": [
    "from sklearn.metrics import confusion_matrix\n",
    "import matplotlib.pyplot as plt\n",
    "import seaborn as sns\n",
    "import numpy as np\n",
    "\n",
    "cm = confusion_matrix(list(y_test), prediction_list, labels=[0,1])\n",
    "\n",
    "# group_names = ['True Neg','False Pos','False Neg','True Pos']\n",
    "group_names = ['Verdaderos Positivos','Falsos Positivo','Falsos Negativos','Verdaderos Negativos']\n",
    "group_counts = [\"{0:0.0f}\".format(value) for value in\n",
    "                cm.flatten()]\n",
    "group_percentages = [\"{0:.2%}\".format(value) for value in\n",
    "                     cm.flatten()/np.sum(cm)]\n",
    "labels = [f\"{v1}\\n{v2}\\n{v3}\" for v1, v2, v3 in\n",
    "          zip(group_names,group_counts,group_percentages)]\n",
    "labels = np.asarray(labels).reshape(2,2)\n",
    "\n",
    "precision = cm[1,1] / sum(cm[:,1])\n",
    "recall    = cm[1,1] / sum(cm[1,:])\n",
    "f1_score  = 2*precision*recall / (precision + recall)\n",
    "stats_text = \"\\nAccuracy={:0.3f}\\nPrecision={:0.3f}\\nRecall={:0.3f}\\nF1 Score={:0.3f}\".format(accuracy,precision,recall,f1_score)\n",
    "\n",
    "ax= plt.subplot()\n",
    "sns.heatmap(cm, annot=labels, fmt='', cmap='Blues', ax = ax); #annot=True to annotate cells\n",
    "\n",
    "ax.set_xlabel('Predicted label' + stats_text)\n",
    "\n",
    "# labels, title and ticks\n",
    "ax.set_xlabel(\"Valores predicción \\n\\n Métricas\" + stats_text)\n",
    "ax.set_ylabel('Valores Reales')\n",
    "ax.set_title('Matriz de confusión')\n",
    "ax.xaxis.set_ticklabels(['Reales(0)', 'Falsas(1)'])\n",
    "ax.yaxis.set_ticklabels(['Reales(0)', 'Falsas(1)'])"
   ]
  }
 ],
 "metadata": {
  "kernelspec": {
   "display_name": "Python 3",
   "language": "python",
   "name": "python3"
  },
  "language_info": {
   "codemirror_mode": {
    "name": "ipython",
    "version": 3
   },
   "file_extension": ".py",
   "mimetype": "text/x-python",
   "name": "python",
   "nbconvert_exporter": "python",
   "pygments_lexer": "ipython3",
   "version": "3.8.8"
  }
 },
 "nbformat": 4,
 "nbformat_minor": 5
}
