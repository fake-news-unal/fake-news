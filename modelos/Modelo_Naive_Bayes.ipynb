{
 "cells": [
  {
   "cell_type": "markdown",
   "id": "7c6c8941-6393-46e3-a82e-6bfc1a698ba8",
   "metadata": {},
   "source": [
    "# Naive Bayes"
   ]
  },
  {
   "cell_type": "markdown",
   "id": "22144207-f3bf-4404-ba25-fad3b4138dfd",
   "metadata": {},
   "source": [
    "## Lectura de datos"
   ]
  },
  {
   "cell_type": "code",
   "execution_count": 2,
   "id": "b6eb81dc-bb2e-48f4-ade6-8e8c2928bc0d",
   "metadata": {},
   "outputs": [],
   "source": [
    "import pandas as pd\n",
    "import nltk\n",
    "import gensim\n",
    "import sqlite3\n",
    "\n",
    "sqlite_db = \"../dataset/fake_news.sqlite\"\n",
    "\n",
    "conn = sqlite3.connect(sqlite_db)\n",
    "df = pd.read_sql_query(\"SELECT * FROM NEWS\", conn)\n",
    "conn.close()"
   ]
  },
  {
   "cell_type": "markdown",
   "id": "04a308f1-8800-42f5-9fb4-ca686149a36b",
   "metadata": {},
   "source": [
    "## Total de palabras en el dataset"
   ]
  },
  {
   "cell_type": "code",
   "execution_count": 3,
   "id": "d8877383-fc48-4fa9-88d6-3981e83f6754",
   "metadata": {},
   "outputs": [
    {
     "name": "stdout",
     "output_type": "stream",
     "text": [
      "Total words:8844981 unique_words:96148\n"
     ]
    }
   ],
   "source": [
    "list_of_words = []\n",
    "unique_words = set()\n",
    "for document in df_news.clean_joined:\n",
    "    for word in gensim.utils.simple_preprocess(document):\n",
    "        list_of_words.append(word)\n",
    "        unique_words.add(word)\n",
    "        \n",
    "total_words = len(list_of_words)  # total words\n",
    "unique_words = len(unique_words)   # total unique words\n",
    "print(\"Total words:\" + str(total_words) + \" unique_words:\" + str(unique_words))"
   ]
  },
  {
   "cell_type": "markdown",
   "id": "7fe49ee6-4337-4be6-885f-1d06828a4ba1",
   "metadata": {},
   "source": [
    "## División de los datos"
   ]
  },
  {
   "cell_type": "code",
   "execution_count": 4,
   "id": "c4e42a9f-bea1-4a10-a93b-a188acf5cab3",
   "metadata": {},
   "outputs": [],
   "source": [
    "from sklearn.model_selection import train_test_split\n",
    "x_train, x_test, y_train, y_test = train_test_split(df.clean_joined, df.isfake, test_size = 0.2)"
   ]
  },
  {
   "cell_type": "code",
   "execution_count": 5,
   "id": "80732f7a-bea2-4096-a031-22fa0b3c828e",
   "metadata": {},
   "outputs": [],
   "source": [
    "from nltk import word_tokenize\n",
    "from tensorflow.keras.preprocessing.text import Tokenizer\n",
    "\n",
    "tokenizer = Tokenizer(num_words = total_words)\n",
    "tokenizer.fit_on_texts(x_train)\n",
    "x_train_seq = tokenizer.texts_to_sequences(x_train)\n",
    "x_test_seq = tokenizer.texts_to_sequences(x_test)"
   ]
  },
  {
   "cell_type": "code",
   "execution_count": 6,
   "id": "980ba4bf-d7fd-4038-8f05-e5fe13cea43b",
   "metadata": {},
   "outputs": [],
   "source": [
    "from tensorflow.keras.preprocessing.sequence import pad_sequences\n",
    "\n",
    "x_train_padded = pad_sequences(x_train_seq, maxlen = 40, padding = 'post', truncating = 'post')\n",
    "x_test_padded = pad_sequences(x_test_seq, maxlen = 40, truncating = 'post') "
   ]
  },
  {
   "cell_type": "code",
   "execution_count": 7,
   "id": "2ac32411-cf77-41d5-9c52-448d6d799b3d",
   "metadata": {},
   "outputs": [
    {
     "name": "stdout",
     "output_type": "stream",
     "text": [
      "[7179, 1642, 398, 629, 1453, 391, 1201, 4780, 1238, 21, 3393, 564, 1453, 96, 2262, 161, 21, 1321, 3201, 7039, 3864, 2096, 1008, 2411, 34, 229, 21, 3393, 629, 564, 7179, 1642, 2411, 1008, 7135, 409, 538, 1238, 1201, 2496, 539, 2411, 3469, 7179, 1642, 399, 564, 9782, 21, 2721, 1647, 856, 1300, 1008, 740, 1756, 56, 3201, 7039, 3864, 22685, 468, 10266, 250, 1238, 983, 812, 2096, 1289, 3655, 2953, 571, 1297, 1008, 3864, 2496, 539, 1642, 7, 1008, 7135, 22, 4780, 67, 1642, 10680, 3864, 104, 689, 42, 1008, 7135, 2496, 539, 1642, 751, 302, 1279, 3030, 423, 99, 194, 6278, 689, 42, 54, 3099, 1480, 296, 689, 42, 1008, 7135, 1625, 1642, 67, 7786, 595, 16, 5, 90, 31, 69, 4, 2678, 1922, 13073, 996, 2839, 477, 678, 2056, 3864, 1642, 67, 229, 1049, 407, 564, 1201, 2953, 564, 564, 806, 3363, 2096, 9451, 812, 3864, 539, 1238, 3864, 1008, 7135, 250, 3864, 1325, 28, 173, 6764, 338, 2221, 2302, 161, 3864, 891, 2953, 842, 5401, 3201, 7039, 3864, 5, 247, 376, 176, 1241, 1086, 1349, 629, 1773, 34, 4089, 173, 3864, 222, 3698, 10536, 2235, 261, 629, 1194, 11625, 6764, 96, 2953, 571, 1369, 28, 9351, 13327, 2953, 571, 28, 2300, 4, 1700, 5206, 564, 25817, 1008, 222, 3698, 2953, 571, 28, 9351, 13327, 380, 55372, 3201, 7039, 3864, 22685, 468, 25, 16, 549, 1008, 173, 506, 441, 970, 1809, 365, 125, 2972, 983, 3864, 2953, 7135, 5869, 1365, 1773, 7, 1232, 1008, 7135, 1325, 28, 173, 564, 7, 3864, 6764, 40943, 402, 2554, 3864, 255, 785, 1642, 1349, 564, 1667, 3469, 261, 9679, 1153, 21, 273, 1032, 398, 9, 3939, 109, 482, 399, 230, 7179, 1642, 4874, 2302, 629, 564, 107, 9, 3939, 109, 574, 175, 30797, 629, 564, 21, 5435, 329, 21, 2523, 96, 22685, 1232, 4678, 3567, 380, 55373, 6098, 2567, 55374, 468, 55, 232, 24, 133, 133, 21, 3393, 1321, 1318, 3864, 397, 1100, 193, 21, 1321, 21, 1321, 361, 508, 282, 2056, 612, 6764, 261, 21, 407, 3971, 1232, 1008, 1642, 1100, 193, 40944, 21, 3201, 7039, 3864, 22685, 468, 3864, 397, 133, 1100, 193, 1348, 21, 3393, 1321, 583, 96, 2262, 21, 2262, 600, 21, 612, 571, 1321, 2262, 939, 21, 6764, 16040, 2953, 571, 2300, 313, 8984, 1238, 84, 3201, 7039, 3864, 22685, 468]\n"
     ]
    }
   ],
   "source": [
    "print(x_train_seq[0])"
   ]
  },
  {
   "cell_type": "code",
   "execution_count": 8,
   "id": "0378675f-2aa6-4fae-96fc-6681181acaa1",
   "metadata": {},
   "outputs": [
    {
     "name": "stdout",
     "output_type": "stream",
     "text": [
      "[7179 1642  398  629 1453  391 1201 4780 1238   21 3393  564 1453   96\n",
      " 2262  161   21 1321 3201 7039 3864 2096 1008 2411   34  229   21 3393\n",
      "  629  564 7179 1642 2411 1008 7135  409  538 1238 1201 2496]\n"
     ]
    }
   ],
   "source": [
    "print(x_train_padded[0])"
   ]
  },
  {
   "cell_type": "code",
   "execution_count": 9,
   "id": "1ebd18c3-44a4-4d5a-a644-46c28d0c4aa3",
   "metadata": {},
   "outputs": [],
   "source": [
    "import numpy as np\n",
    "y_train = np.asarray(y_train).astype('float32').reshape((-1,1))"
   ]
  },
  {
   "cell_type": "code",
   "execution_count": 10,
   "id": "0da01b34-46df-4b39-996f-bf573799272a",
   "metadata": {},
   "outputs": [
    {
     "data": {
      "text/plain": [
       "array([[ 7179,  1642,   398, ...,  1238,  1201,  2496],\n",
       "       [ 4740,     1,   656, ...,   636,   381,    80],\n",
       "       [  733,   473,  1532, ...,    21,    33,   771],\n",
       "       ...,\n",
       "       [ 2904,   200,  5902, ...,    72,   696,  2483],\n",
       "       [ 3696,  2566, 20230, ...,     0,     0,     0],\n",
       "       [  204,   331,  3030, ...,     0,     0,     0]], dtype=int32)"
      ]
     },
     "execution_count": 10,
     "metadata": {},
     "output_type": "execute_result"
    }
   ],
   "source": [
    "x_train_padded"
   ]
  },
  {
   "cell_type": "markdown",
   "id": "e4f31c6e-f8b4-4c80-a559-ae931b0a5bdc",
   "metadata": {},
   "source": [
    "## Construcción del modelo"
   ]
  },
  {
   "cell_type": "code",
   "execution_count": 11,
   "id": "88608c70-251e-4232-a516-b99c20b3a96f",
   "metadata": {},
   "outputs": [
    {
     "name": "stdout",
     "output_type": "stream",
     "text": [
      "CPU times: user 16.8 ms, sys: 0 ns, total: 16.8 ms\n",
      "Wall time: 16.5 ms\n"
     ]
    },
    {
     "name": "stderr",
     "output_type": "stream",
     "text": [
      "/home/drojasc@EJC-CAIMI-NAL.MIL/anaconda3/lib/python3.8/site-packages/sklearn/utils/validation.py:63: DataConversionWarning: A column-vector y was passed when a 1d array was expected. Please change the shape of y to (n_samples, ), for example using ravel().\n",
      "  return f(*args, **kwargs)\n"
     ]
    },
    {
     "data": {
      "text/plain": [
       "GaussianNB()"
      ]
     },
     "execution_count": 11,
     "metadata": {},
     "output_type": "execute_result"
    }
   ],
   "source": [
    "from sklearn.naive_bayes import GaussianNB\n",
    "\n",
    "clf = GaussianNB()\n",
    "%time clf.fit(x_train_padded, y_train)"
   ]
  },
  {
   "cell_type": "code",
   "execution_count": 12,
   "id": "864c1c52-cd2a-409d-a182-fff81ab3c11d",
   "metadata": {},
   "outputs": [],
   "source": [
    "y_pred=clf.predict(x_test_padded)"
   ]
  },
  {
   "cell_type": "code",
   "execution_count": 13,
   "id": "5149a706-4519-4083-9254-d53a5abe9c31",
   "metadata": {},
   "outputs": [
    {
     "name": "stdout",
     "output_type": "stream",
     "text": [
      "Accuracy: 0.5910913140311804\n"
     ]
    }
   ],
   "source": [
    "from sklearn import metrics\n",
    "print(\"Accuracy:\",metrics.accuracy_score(y_test, y_pred))"
   ]
  },
  {
   "cell_type": "code",
   "execution_count": null,
   "id": "288fa3d2-b08a-4b68-a91d-e422c4f4b610",
   "metadata": {},
   "outputs": [],
   "source": []
  }
 ],
 "metadata": {
  "kernelspec": {
   "display_name": "Python 3",
   "language": "python",
   "name": "python3"
  },
  "language_info": {
   "codemirror_mode": {
    "name": "ipython",
    "version": 3
   },
   "file_extension": ".py",
   "mimetype": "text/x-python",
   "name": "python",
   "nbconvert_exporter": "python",
   "pygments_lexer": "ipython3",
   "version": "3.8.8"
  }
 },
 "nbformat": 4,
 "nbformat_minor": 5
}