{
 "cells": [
  {
   "cell_type": "markdown",
   "metadata": {
    "colab_type": "text",
    "id": "view-in-github"
   },
   "source": [
    "<a href=\"https://colab.research.google.com/github/fake-news-unal/fake-news/blob/main/K_means%2Clogistica%2Cbosque%2Carbol.ipynb\" target=\"_parent\"><img src=\"https://colab.research.google.com/assets/colab-badge.svg\" alt=\"Open In Colab\"/></a>"
   ]
  },
  {
   "cell_type": "code",
   "execution_count": 2,
   "metadata": {
    "id": "XeHEFt2BPnph"
   },
   "outputs": [],
   "source": [
    "# Importar librerías\n",
    "import tensorflow as tf\n",
    "import pandas as pd\n",
    "import numpy as np\n",
    "import matplotlib.pyplot as plt\n",
    "import seaborn as sns\n",
    "from wordcloud import WordCloud, STOPWORDS\n",
    "import nltk\n",
    "import re\n",
    "from nltk.stem import PorterStemmer, WordNetLemmatizer\n",
    "from nltk.corpus import stopwords\n",
    "from nltk.tokenize import word_tokenize, sent_tokenize\n",
    "import gensim\n",
    "from gensim.utils import simple_preprocess\n",
    "from gensim.parsing.preprocessing import STOPWORDS\n",
    "\n",
    "# Importar keras\n",
    "from tensorflow.keras.preprocessing.text import one_hot, Tokenizer\n",
    "from tensorflow.keras.preprocessing.sequence import pad_sequences\n",
    "from tensorflow.keras.models import Sequential\n",
    "from tensorflow.keras.layers import Dense, Flatten, Embedding, Input, LSTM, Conv1D, MaxPool1D, Bidirectional\n",
    "from tensorflow.keras.models import Model\n",
    "\n",
    "# Para la matrix de confusion\n",
    "from sklearn.metrics import confusion_matrix\n",
    "from sklearn.metrics import accuracy_score\n",
    "from sklearn.metrics import classification_report\n",
    "\n",
    "import sqlite3"
   ]
  },
  {
   "cell_type": "code",
   "execution_count": 2,
   "metadata": {},
   "outputs": [],
   "source": [
    "sqlite_db = \"../dataset/fake_news.sqlite\"\n",
    "\n",
    "conn = sqlite3.connect(sqlite_db)\n",
    "df = pd.read_sql_query(\"SELECT * FROM NEWS\", conn)\n",
    "conn.close()"
   ]
  },
  {
   "cell_type": "code",
   "execution_count": null,
   "metadata": {},
   "outputs": [],
   "source": [
    "df['original'] = df['title'] + '. ' + df['text']\n",
    "df['original'].replace(\"..\", \".\")"
   ]
  },
  {
   "cell_type": "markdown",
   "metadata": {
    "tags": []
   },
   "source": [
    "#### Total de palabras en el Dataset"
   ]
  },
  {
   "cell_type": "code",
   "execution_count": 3,
   "metadata": {
    "tags": []
   },
   "outputs": [
    {
     "name": "stdout",
     "output_type": "stream",
     "text": [
      "Total words:8844981 unique_words:96148\n"
     ]
    }
   ],
   "source": [
    "list_of_words = []\n",
    "unique_words = set()\n",
    "for document in df.clean_joined:\n",
    "    for word in gensim.utils.simple_preprocess(document):\n",
    "        list_of_words.append(word)\n",
    "        unique_words.add(word)\n",
    "        \n",
    "total_words = len(list_of_words)  # total words\n",
    "unique_words = len(unique_words)   # total unique words\n",
    "print(\"Total words:\" + str(total_words) + \" unique_words:\" + str(unique_words))"
   ]
  },
  {
   "cell_type": "markdown",
   "metadata": {
    "id": "janhB5xjRxD6"
   },
   "source": [
    "### Partición del dataset"
   ]
  },
  {
   "cell_type": "code",
   "execution_count": 25,
   "metadata": {
    "id": "B3fnkfll7b7t"
   },
   "outputs": [],
   "source": [
    "from sklearn.model_selection import train_test_split\n",
    "x_train, x_test, y_train, y_test = train_test_split(df.clean_joined, df.isfake, test_size = 0.2)"
   ]
  },
  {
   "cell_type": "code",
   "execution_count": 26,
   "metadata": {
    "id": "7QeGUuv67b5J"
   },
   "outputs": [],
   "source": [
    "from nltk import word_tokenize\n",
    "from tensorflow.keras.preprocessing.text import one_hot, Tokenizer\n",
    "\n",
    "tokenizer = Tokenizer(num_words = total_words)\n",
    "tokenizer.fit_on_texts(x_train)\n",
    "train_sequences = tokenizer.texts_to_sequences(x_train)\n",
    "test_sequences = tokenizer.texts_to_sequences(x_test)"
   ]
  },
  {
   "cell_type": "code",
   "execution_count": 27,
   "metadata": {
    "colab": {
     "base_uri": "https://localhost:8080/"
    },
    "id": "Uly4JzYL7Q1C",
    "outputId": "3abcc51b-9f10-40cd-c508-e0e1c1decf50"
   },
   "outputs": [
    {
     "name": "stdout",
     "output_type": "stream",
     "text": [
      "Texto original (limpio) \n",
      " budget fight looms republicans flip fiscal script washington reuters head conservative republican faction congress voted month huge expansion national debt cuts called fiscal conservative sunday urged budget restraint keeping sharp pivot republicans representative mark meadows speaking face nation drew hard line federal spending lawmakers bracing battle january return holidays wednesday lawmakers begin trying pass federal budget fight likely linked issues immigration policy november congressional election campaigns approach republicans seek control congress president donald trump republicans want budget increase military spending democrats want proportional increases defense discretionary spending programs support education scientific research infrastructure public health environmental protection trump administration willing going increase defense discretionary spending percent meadows chairman small influential house freedom caucus said program democrats saying need government raise percent fiscal conservative rationale eventually people money said meadows republicans voted late december party debt financed overhaul expected balloon federal budget deficit trillion years trillion national debt interesting hear mark talk fiscal responsibility democratic representative joseph crowley said crowley said republican require united states borrow trillion paid future generations finance cuts corporations rich fiscally responsible bills seen passed history house representatives think going paying years come crowley said republicans insist package biggest overhaul years boost economy growth house speaker paul ryan supported recently went meadows making clear radio interview welfare entitlement reform party calls republican priority republican parlance entitlement programs mean food stamps housing assistance medicare medicaid health insurance elderly poor disabled programs created washington assist needy democrats seized ryan early december remarks saying showed republicans overhaul seeking spending cuts social programs goals house republicans seat senate votes democrats needed approve budget prevent government shutdown democrats leverage senate republicans narrowly control defend discretionary defense programs social spending tackling issue dreamers people brought illegally country children trump september march expiration date deferred action childhood arrivals daca program protects young immigrants deportation provides work permits president said recent twitter messages wants funding proposed mexican border wall immigration changes exchange agreeing help dreamers representative debbie dingell told favor linking issue policy objectives wall funding need daca clean said wednesday trump aides meet congressional leaders discuss issues followed weekend strategy sessions trump republican leaders white house said trump scheduled meet sunday florida republican governor rick scott wants emergency house passed billion package hurricanes florida texas puerto rico wildfires california package exceeded billion requested trump administration senate voted \n",
      " Texto Tokenizado :  [1559, 165, 164, 2245, 368, 11697, 969, 232, 274, 1750, 7913, 1273, 213, 14, 303, 2823, 662, 1286, 4876, 5880, 830, 82, 1964, 3077, 10498, 19606, 1143, 159, 160, 101, 1379, 9054, 4063, 3918, 10963, 43242, 6475, 549, 7913, 1794, 731, 30514, 2105, 17, 12, 2225, 7913, 4385, 10964, 389, 3585, 2242, 143, 198, 727, 383, 11368, 7949, 166, 120, 26149, 2242, 1829, 955, 12494, 4695, 25129, 220, 1829, 595, 5604, 3264, 1673, 349, 2242, 448, 191, 341, 338, 7029, 1559, 2256, 3418, 697, 455, 628, 3673, 428, 1559, 60, 937, 1750, 7913, 47, 2389, 1750, 7913, 10683, 3240, 977, 1830, 622, 2245, 1559, 165, 164, 53, 969, 925, 232, 6239, 422, 232, 542, 276, 899, 3824, 947, 925, 1690, 60, 937, 1559, 60, 937, 1690, 32538, 387, 17934, 96, 115, 265, 217, 1559, 21, 265, 192, 6240, 770, 727, 8039, 3882, 388, 427, 842, 56, 2755, 124, 60, 253, 1224, 937, 799, 40, 69, 795, 124, 1814, 727, 1499, 925, 13, 4386, 542, 3673, 1559, 38340, 937, 63, 1733, 460, 1811, 318, 15532, 4245, 198, 3824, 1559, 1369, 49, 1750, 7913, 265, 1830, 622, 4725, 1742, 232, 121, 124, 487, 13757, 1690, 4245, 198, 7791, 1559, 49552, 16622, 7388, 2997, 8493, 15281, 20646, 3391, 901, 28775, 16623, 324, 20122, 809, 43243, 27381, 60, 58, 276, 586, 5, 8, 448, 81, 236, 17548, 6778, 6842, 2192, 165, 522, 181, 1185, 60, 15780, 2595, 2801, 3824, 1559, 899, 5818, 2907, 567, 79, 2645, 1181, 906, 102, 43244, 11585, 2323, 30515, 1982, 1738, 35, 4950, 143, 8664, 3326, 133, 4245, 1886, 16, 2824, 124, 16330, 881, 8, 448, 769, 899, 1559, 314, 2675, 60, 937, 16624, 4734, 30516, 38341, 685, 20123, 1468, 3153, 15533, 26150, 2092, 49553, 60, 937, 10784, 2061, 7829, 60, 937, 550, 32539, 5064, 4245, 1886, 23289, 10243, 6812, 20123, 2001, 60, 937, 2419, 1414, 2183, 13062, 28776, 4183, 491, 49554, 3632, 13758, 198, 49555, 271, 10499, 4951, 4173, 12359, 1488, 809, 26151, 1839, 1750, 7913, 739, 1559, 165, 164, 642, 197, 1805, 4837, 8, 49556, 2675, 895, 4436, 2161, 1559, 1023, 1585, 305, 49557, 1750, 7913, 49558, 287]\n"
     ]
    }
   ],
   "source": [
    "print(\"Texto original (limpio) \\n\",df.clean_joined[0],\"\\n Texto Tokenizado : \",train_sequences[0])"
   ]
  },
  {
   "cell_type": "markdown",
   "metadata": {
    "id": "A12wC2DwS0dq"
   },
   "source": [
    "### Word2vec (Vectorización)"
   ]
  },
  {
   "cell_type": "code",
   "execution_count": 28,
   "metadata": {
    "id": "5XU7HN1P89H2"
   },
   "outputs": [],
   "source": [
    "#Importando librerías\n",
    "import string # python library\n",
    "import re # regex library\n",
    "from gensim.parsing.preprocessing import preprocess_string, strip_tags, strip_punctuation, strip_multiple_whitespaces, strip_numeric, remove_stopwords, strip_short # Preprocesssing\n",
    "from gensim.models import Word2Vec # Word2vec\n",
    "\n",
    "from sklearn import cluster # Kmeans clustering\n",
    "from sklearn import metrics # Metrics for evaluation\n",
    "from sklearn.decomposition import PCA #PCA\n",
    "from sklearn.manifold import TSNE #TSNE"
   ]
  },
  {
   "cell_type": "code",
   "execution_count": 30,
   "metadata": {
    "id": "A65ekfleEcKY"
   },
   "outputs": [],
   "source": [
    "CUSTOM_FILTERS = [lambda x: x.lower(), strip_tags, strip_punctuation, strip_multiple_whitespaces, strip_numeric, remove_stopwords, strip_short]\n",
    "\n",
    "processed_data = []\n",
    "processed_labels = []\n",
    "\n",
    "for index, row in df.iterrows():\n",
    "    words_broken_up = preprocess_string(row['original'], CUSTOM_FILTERS)\n",
    "    # Esto elimina cualquier campo que pueda quedar en blanco después del preprocesamiento.\n",
    "    if len(words_broken_up) > 0:\n",
    "        processed_data.append(words_broken_up)\n",
    "        processed_labels.append(row['isfake'])"
   ]
  },
  {
   "cell_type": "code",
   "execution_count": 31,
   "metadata": {
    "id": "pHKF3-7w7GQc"
   },
   "outputs": [],
   "source": [
    "model = Word2Vec(processed_data, min_count=1)"
   ]
  },
  {
   "cell_type": "code",
   "execution_count": 32,
   "metadata": {
    "colab": {
     "base_uri": "https://localhost:8080/"
    },
    "id": "t77Nm3st0qTm",
    "outputId": "c4c14060-2a33-4330-a8b1-29f5c2cc37a2"
   },
   "outputs": [
    {
     "data": {
      "text/plain": [
       "[('nation', 0.8089867234230042),\n",
       " ('america', 0.6789793968200684),\n",
       " ('countries', 0.5719372034072876),\n",
       " ('country’s', 0.5464644432067871),\n",
       " ('america’s', 0.5421832203865051),\n",
       " ('abroad', 0.5278910994529724),\n",
       " ('planet', 0.5154141187667847),\n",
       " ('world', 0.5134656429290771),\n",
       " ('europe', 0.504770815372467),\n",
       " ('region', 0.5009129047393799)]"
      ]
     },
     "execution_count": 32,
     "metadata": {},
     "output_type": "execute_result"
    }
   ],
   "source": [
    "model.wv.most_similar(\"country\")"
   ]
  },
  {
   "cell_type": "code",
   "execution_count": null,
   "metadata": {
    "colab": {
     "base_uri": "https://localhost:8080/"
    },
    "id": "ErBa0iicBZ8Q",
    "outputId": "a7e65dc2-3d72-4467-a63d-1e41f5bf6570"
   },
   "outputs": [],
   "source": [
    "# Obtener el vector de una oración basado en el promedio de todos los vectores de palabras en la oración\n",
    "# Obtenemos el promedio ya que esto representa diferentes longitudes de oraciones\n",
    "def ReturnVector(x):\n",
    "    try:\n",
    "        return model[x]\n",
    "    except:\n",
    "        return np.zeros(100)\n",
    "    \n",
    "def Sentence_Vector(sentence):\n",
    "    word_vectors = list(map(lambda x: ReturnVector(x), sentence))\n",
    "    return np.average(word_vectors, axis=0).tolist()\n",
    "\n",
    "X = []\n",
    "for data_x in processed_data:\n",
    "    X.append(Sentence_Vector(data_x))\n"
   ]
  },
  {
   "cell_type": "code",
   "execution_count": 35,
   "metadata": {
    "colab": {
     "base_uri": "https://localhost:8080/"
    },
    "id": "ctxx4okg9m-s",
    "outputId": "3be2fce9-1e6e-4485-e9a1-5f3f237e901a"
   },
   "outputs": [
    {
     "data": {
      "text/plain": [
       "(44898, 100)"
      ]
     },
     "execution_count": 35,
     "metadata": {},
     "output_type": "execute_result"
    }
   ],
   "source": [
    "X_np = np.array(X)\n",
    "X_np.shape"
   ]
  },
  {
   "cell_type": "markdown",
   "metadata": {
    "id": "_oEeWUg1Tq6u"
   },
   "source": [
    "# ***Regresión Logística***"
   ]
  },
  {
   "cell_type": "code",
   "execution_count": 43,
   "metadata": {
    "id": "JDwM5aEOGu6q"
   },
   "outputs": [],
   "source": [
    "from sklearn.feature_extraction.text import TfidfVectorizer\n",
    "\n",
    "vectorization = TfidfVectorizer()\n",
    "xv_train = vectorization.fit_transform(x_train)\n",
    "xv_test = vectorization.transform(x_test)"
   ]
  },
  {
   "cell_type": "code",
   "execution_count": 44,
   "metadata": {
    "colab": {
     "base_uri": "https://localhost:8080/"
    },
    "id": "SbM_l0P4Ci8O",
    "outputId": "74e8c026-93a4-42fd-8ebb-aea25a3eb9db"
   },
   "outputs": [
    {
     "data": {
      "text/plain": [
       "LogisticRegression()"
      ]
     },
     "execution_count": 44,
     "metadata": {},
     "output_type": "execute_result"
    }
   ],
   "source": [
    "from sklearn.linear_model import LogisticRegression\n",
    "\n",
    "LR = LogisticRegression()\n",
    "LR.fit(xv_train,y_train)\n"
   ]
  },
  {
   "cell_type": "markdown",
   "metadata": {
    "id": "fp5GAJvPUDWp"
   },
   "source": [
    "# **Evaluación**"
   ]
  },
  {
   "cell_type": "code",
   "execution_count": 45,
   "metadata": {
    "id": "bWXN0T_XCi6b"
   },
   "outputs": [],
   "source": [
    "pred_lr=LR.predict(xv_test)"
   ]
  },
  {
   "cell_type": "code",
   "execution_count": 46,
   "metadata": {
    "colab": {
     "base_uri": "https://localhost:8080/"
    },
    "id": "dI7G3xs-CW39",
    "outputId": "3e08478d-d278-47af-adc5-d2e75c892840"
   },
   "outputs": [
    {
     "name": "stdout",
     "output_type": "stream",
     "text": [
      "Model Accuracy :  0.9832962138084632\n"
     ]
    }
   ],
   "source": [
    "accuracy = accuracy_score(list(y_test), pred_lr)\n",
    "\n",
    "print(\"Model Accuracy : \", accuracy)"
   ]
  },
  {
   "cell_type": "code",
   "execution_count": 47,
   "metadata": {
    "id": "8dyhP6nVHza2"
   },
   "outputs": [],
   "source": [
    "from sklearn.metrics import classification_report"
   ]
  },
  {
   "cell_type": "code",
   "execution_count": 48,
   "metadata": {
    "colab": {
     "base_uri": "https://localhost:8080/"
    },
    "id": "iKfGE7tXHGbF",
    "outputId": "8c81943b-7b13-4978-aa27-997ac424f5c3"
   },
   "outputs": [
    {
     "name": "stdout",
     "output_type": "stream",
     "text": [
      "              precision    recall  f1-score   support\n",
      "\n",
      "           0       0.99      0.98      0.98      4758\n",
      "           1       0.98      0.98      0.98      4222\n",
      "\n",
      "    accuracy                           0.98      8980\n",
      "   macro avg       0.98      0.98      0.98      8980\n",
      "weighted avg       0.98      0.98      0.98      8980\n",
      "\n"
     ]
    }
   ],
   "source": [
    "print(classification_report(y_test, pred_lr))"
   ]
  },
  {
   "cell_type": "code",
   "execution_count": 49,
   "metadata": {
    "colab": {
     "base_uri": "https://localhost:8080/",
     "height": 382
    },
    "id": "XqdosB9_UPku",
    "outputId": "74fabb8d-758e-430f-8866-21dcf2162359"
   },
   "outputs": [
    {
     "data": {
      "text/plain": [
       "[Text(0, 0.5, 'Reales(0)'), Text(0, 1.5, 'Falsas(1)')]"
      ]
     },
     "execution_count": 49,
     "metadata": {},
     "output_type": "execute_result"
    },
    {
     "data": {
      "image/png": "[encoded data removed]",
      "text/plain": [
       "<Figure size 432x288 with 2 Axes>"
      ]
     },
     "metadata": {
      "needs_background": "light"
     },
     "output_type": "display_data"
    }
   ],
   "source": [
    "cm1 = confusion_matrix(y_test, pred_lr , labels=[0,1])\n",
    "\n",
    "# group_names = ['True Neg','False Pos','False Neg','True Pos']\n",
    "group_names = ['Verdaderos Positivos','Falsos Positivo','Falsos Negativos','Verdaderos Negativos']\n",
    "group_counts = [\"{0:0.0f}\".format(value) for value in\n",
    "                cm1.flatten()]\n",
    "group_percentages = [\"{0:.2%}\".format(value) for value in\n",
    "                     cm1.flatten()/np.sum(cm1)]\n",
    "labels = [f\"{v1}\\n{v2}\\n{v3}\" for v1, v2, v3 in\n",
    "          zip(group_names,group_counts,group_percentages)]\n",
    "labels = np.asarray(labels).reshape(2,2)\n",
    "\n",
    "precision = cm1[1,1] / sum(cm1[:,1])\n",
    "recall    = cm1[1,1] / sum(cm1[1,:])\n",
    "f1_score  = 2*precision*recall / (precision + recall)\n",
    "stats_text = \"\\nAccuracy={:0.3f}\\nPrecision={:0.3f}\\nRecall={:0.3f}\\nF1 Score={:0.3f}\".format(accuracy,precision,recall,f1_score)\n",
    "\n",
    "ax= plt.subplot()\n",
    "sns.heatmap(cm1, annot=labels, fmt='', cmap='Blues', ax = ax); #annot=True to annotate cells\n",
    "\n",
    "ax.set_xlabel('Predicted label' + stats_text)\n",
    "\n",
    "# labels, title and ticks\n",
    "ax.set_xlabel(\"Valores predicción \\n\\n Métricas\" + stats_text)\n",
    "ax.set_ylabel('Valores Reales')\n",
    "ax.set_title('Matriz de confusión')\n",
    "ax.xaxis.set_ticklabels(['Reales(0)', 'Falsas(1)'])\n",
    "ax.yaxis.set_ticklabels(['Reales(0)', 'Falsas(1)'])"
   ]
  }
 ],
 "metadata": {
  "colab": {
   "authorship_tag": "ABX9TyNYG+kUGdJdXEl3FHkBOfiH",
   "collapsed_sections": [],
   "include_colab_link": true,
   "name": "K-means,logistica,bosque,arbol.ipynb",
   "provenance": []
  },
  "kernelspec": {
   "display_name": "Python 3",
   "language": "python",
   "name": "python3"
  },
  "language_info": {
   "codemirror_mode": {
    "name": "ipython",
    "version": 3
   },
   "file_extension": ".py",
   "mimetype": "text/x-python",
   "name": "python",
   "nbconvert_exporter": "python",
   "pygments_lexer": "ipython3",
   "version": "3.8.8"
  }
 },
 "nbformat": 4,
 "nbformat_minor": 4
}
