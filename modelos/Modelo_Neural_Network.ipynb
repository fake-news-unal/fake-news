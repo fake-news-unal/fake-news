{
 "cells": [
  {
   "cell_type": "markdown",
   "id": "7c6c8941-6393-46e3-a82e-6bfc1a698ba8",
   "metadata": {},
   "source": [
    "# Neural Network"
   ]
  },
  {
   "cell_type": "markdown",
   "id": "22144207-f3bf-4404-ba25-fad3b4138dfd",
   "metadata": {},
   "source": [
    "## Lectura de datos"
   ]
  },
  {
   "cell_type": "code",
   "execution_count": 1,
   "id": "b6eb81dc-bb2e-48f4-ade6-8e8c2928bc0d",
   "metadata": {},
   "outputs": [],
   "source": [
    "import pandas as pd\n",
    "import nltk\n",
    "import gensim\n",
    "import sqlite3\n",
    "\n",
    "sqlite_db = \"../dataset/fake_news.sqlite\"\n",
    "\n",
    "conn = sqlite3.connect(sqlite_db)\n",
    "df = pd.read_sql_query(\"SELECT * FROM NEWS\", conn)\n",
    "conn.close()"
   ]
  },
  {
   "cell_type": "markdown",
   "id": "8036384f-c3df-462c-8e50-6e8a1b1d3b09",
   "metadata": {
    "tags": []
   },
   "source": [
    "#### Total de palabras en el Dataset"
   ]
  },
  {
   "cell_type": "code",
   "execution_count": 2,
   "id": "eb27146a-26cf-4167-8b96-efc95db28e62",
   "metadata": {
    "tags": []
   },
   "outputs": [
    {
     "name": "stdout",
     "output_type": "stream",
     "text": [
      "Total words:8844981 unique_words:96148\n"
     ]
    }
   ],
   "source": [
    "list_of_words = []\n",
    "unique_words = set()\n",
    "for document in df_news.clean_joined:\n",
    "    for word in gensim.utils.simple_preprocess(document):\n",
    "        list_of_words.append(word)\n",
    "        unique_words.add(word)\n",
    "        \n",
    "total_words = len(list_of_words)  # total words\n",
    "unique_words = len(unique_words)   # total unique words\n",
    "print(\"Total words:\" + str(total_words) + \" unique_words:\" + str(unique_words))"
   ]
  },
  {
   "cell_type": "markdown",
   "id": "babeb2e6-6494-4974-86df-c32fb2b31f3c",
   "metadata": {},
   "source": [
    "## Partición del dataset"
   ]
  },
  {
   "cell_type": "code",
   "execution_count": 3,
   "id": "8df6c0f5-dde9-4ae9-8a12-1166accce7b0",
   "metadata": {},
   "outputs": [],
   "source": [
    "from sklearn.model_selection import train_test_split\n",
    "x_train, x_test, y_train, y_test = train_test_split(df.clean_joined, df.isfake, test_size = 0.2)"
   ]
  },
  {
   "cell_type": "code",
   "execution_count": 4,
   "id": "aef1ab42-77b5-4f09-afe6-808e71f4a067",
   "metadata": {},
   "outputs": [],
   "source": [
    "from nltk import word_tokenize\n",
    "from tensorflow.keras.preprocessing.text import Tokenizer\n",
    "\n",
    "tokenizer = Tokenizer(num_words = total_words)\n",
    "tokenizer.fit_on_texts(x_train)\n",
    "x_train_seq = tokenizer.texts_to_sequences(x_train)\n",
    "x_test_seq = tokenizer.texts_to_sequences(x_test)"
   ]
  },
  {
   "cell_type": "code",
   "execution_count": 5,
   "id": "79564a47-2bec-426e-a3a3-d67109dd0467",
   "metadata": {},
   "outputs": [],
   "source": [
    "from tensorflow.keras.preprocessing.sequence import pad_sequences\n",
    "\n",
    "x_train_padded = pad_sequences(x_train_seq, maxlen = 40, padding = 'post', truncating = 'post')\n",
    "x_test_padded = pad_sequences(x_test_seq, maxlen = 40, truncating = 'post') "
   ]
  },
  {
   "cell_type": "code",
   "execution_count": 6,
   "id": "b6673f3f-ba92-4dac-b6ab-50fd0ff98771",
   "metadata": {},
   "outputs": [
    {
     "name": "stdout",
     "output_type": "stream",
     "text": [
      "[17, 9, 25, 69, 2317, 174, 26, 34, 11, 17, 9, 25, 310, 379, 194, 9, 642, 174, 112, 440, 4256, 2317, 334, 2, 12, 1, 926, 2727, 1437, 174, 108, 130, 421, 26, 115, 532, 3177, 25, 421, 734, 17, 9, 25, 14853, 3319, 13618, 274, 192, 174, 44, 42, 402, 649, 9911, 374, 31, 44, 42, 61, 17, 9, 971, 72, 17, 9, 262, 906, 950, 496, 103, 26, 927, 115, 130, 421, 26, 3319, 13618, 198, 414, 1203, 1273, 26, 3194, 986, 84, 25, 1, 56, 257, 62, 5064, 1906, 2, 226, 6, 26, 414, 3319, 13618, 4375, 683, 84, 25, 74, 947, 750, 1, 116, 2797, 2170, 525, 1143, 1394, 26, 192, 569, 372, 7, 98, 332, 37, 5968, 96, 6, 278, 911, 262, 2317, 66, 1, 820, 283, 125, 703, 111, 1654, 57, 1104, 504, 108, 1437, 1, 283, 111, 29, 2284, 2599, 235, 9, 174, 746, 2317, 5138, 133, 172, 38, 3885, 135, 17, 9, 1961, 232, 2673, 17, 9, 9, 174, 112, 173, 2317, 510, 322, 92, 269, 586, 63, 14, 1, 711, 51, 278, 504]\n"
     ]
    }
   ],
   "source": [
    "print(x_train_seq[0])"
   ]
  },
  {
   "cell_type": "code",
   "execution_count": 7,
   "id": "27306ba7-26d2-4ac6-8ada-00f80e7e395d",
   "metadata": {},
   "outputs": [
    {
     "name": "stdout",
     "output_type": "stream",
     "text": [
      "[  17    9   25   69 2317  174   26   34   11   17    9   25  310  379\n",
      "  194    9  642  174  112  440 4256 2317  334    2   12    1  926 2727\n",
      " 1437  174  108  130  421   26  115  532 3177   25  421  734]\n"
     ]
    }
   ],
   "source": [
    "print(x_train_padded[0])"
   ]
  },
  {
   "cell_type": "code",
   "execution_count": 8,
   "id": "faa96637-9b98-4e8b-b33c-b0f55444df5a",
   "metadata": {},
   "outputs": [],
   "source": [
    "y_train = np.asarray(y_train).astype('float32').reshape((-1,1))"
   ]
  },
  {
   "cell_type": "markdown",
   "id": "f5839085-dc3b-44a6-82d8-ef7775a6f10b",
   "metadata": {},
   "source": [
    "## Construcción del modelo"
   ]
  },
  {
   "cell_type": "code",
   "execution_count": 9,
   "id": "10ba69a2-fc18-48c0-ba4b-fa212146a41a",
   "metadata": {},
   "outputs": [],
   "source": [
    "from tensorflow.keras.models import Sequential\n",
    "from tensorflow.keras.layers import Flatten, Dense, Dropout, Embedding"
   ]
  },
  {
   "cell_type": "code",
   "execution_count": 10,
   "id": "22219a66-0ec3-42fb-8b30-df1bcf5431b8",
   "metadata": {},
   "outputs": [],
   "source": [
    "modelo=Sequential()"
   ]
  },
  {
   "cell_type": "code",
   "execution_count": 11,
   "id": "17fc9c5f-ae77-496c-8752-3ae22665c4b9",
   "metadata": {},
   "outputs": [],
   "source": [
    "modelo.add(Embedding(total_words,input_length=40, output_dim = 128))\n",
    "modelo.add(Flatten())\n",
    "modelo.add(Dense(units=64, activation='relu'))\n",
    "# Adding dropout to prevent overfitting (regularización)\n",
    "modelo.add(Dropout(0.2)) # 10% out in each epoc\n",
    "modelo.add(Dense(units=32, activation='relu'))\n",
    "# Adding dropout to prevent overfitting (regularización)\n",
    "modelo.add(Dropout(0.2))\n",
    "modelo.add(Dense(units=16, activation='relu'))\n",
    "modelo.add(Dropout(0.2))\n",
    "modelo.add(Dense(units=1, activation='sigmoid'))"
   ]
  },
  {
   "cell_type": "code",
   "execution_count": 12,
   "id": "309e98b5-8fbd-4b79-b5e9-c698fa30e6fd",
   "metadata": {},
   "outputs": [],
   "source": [
    "modelo.compile(optimizer='adam', loss='binary_crossentropy', metrics=['accuracy'])"
   ]
  },
  {
   "cell_type": "code",
   "execution_count": 13,
   "id": "372cf0e8-aa06-45ab-a984-bc3b8186757d",
   "metadata": {},
   "outputs": [
    {
     "name": "stdout",
     "output_type": "stream",
     "text": [
      "Model: \"sequential\"\n",
      "_________________________________________________________________\n",
      "Layer (type)                 Output Shape              Param #   \n",
      "=================================================================\n",
      "embedding (Embedding)        (None, 40, 128)           1132157568\n",
      "_________________________________________________________________\n",
      "flatten (Flatten)            (None, 5120)              0         \n",
      "_________________________________________________________________\n",
      "dense (Dense)                (None, 64)                327744    \n",
      "_________________________________________________________________\n",
      "dropout (Dropout)            (None, 64)                0         \n",
      "_________________________________________________________________\n",
      "dense_1 (Dense)              (None, 32)                2080      \n",
      "_________________________________________________________________\n",
      "dropout_1 (Dropout)          (None, 32)                0         \n",
      "_________________________________________________________________\n",
      "dense_2 (Dense)              (None, 16)                528       \n",
      "_________________________________________________________________\n",
      "dropout_2 (Dropout)          (None, 16)                0         \n",
      "_________________________________________________________________\n",
      "dense_3 (Dense)              (None, 1)                 17        \n",
      "=================================================================\n",
      "Total params: 1,132,487,937\n",
      "Trainable params: 1,132,487,937\n",
      "Non-trainable params: 0\n",
      "_________________________________________________________________\n"
     ]
    }
   ],
   "source": [
    "modelo.summary()"
   ]
  },
  {
   "cell_type": "code",
   "execution_count": 14,
   "id": "ed8dfe1e-5677-4c21-8704-58ff1a8a5588",
   "metadata": {},
   "outputs": [
    {
     "name": "stdout",
     "output_type": "stream",
     "text": [
      "Epoch 1/2\n",
      "14367/14367 [==============================] - 94174s 7s/step - loss: 0.0212 - accuracy: 0.9946 - val_loss: 0.0113 - val_accuracy: 0.9987\n",
      "Epoch 2/2\n",
      "14367/14367 [==============================] - 109724s 8s/step - loss: 0.0039 - accuracy: 0.9997 - val_loss: 0.0293 - val_accuracy: 0.9985\n",
      "CPU times: user 11d 56min 39s, sys: 2d 6h 46min 14s, total: 13d 7h 42min 53s\n",
      "Wall time: 2d 8h 38min 29s\n"
     ]
    }
   ],
   "source": [
    "%time history = modelo.fit(x_train_padded, y_train, batch_size=2, epochs=2,validation_split = 0.2)"
   ]
  },
  {
   "cell_type": "markdown",
   "id": "4ec5fe65-6edd-4479-800c-6e0f5d8e9e05",
   "metadata": {},
   "source": [
    "## Evaluación"
   ]
  },
  {
   "cell_type": "code",
   "execution_count": 15,
   "id": "2509956d-1e61-48e5-b133-0963977eecd9",
   "metadata": {},
   "outputs": [],
   "source": [
    "prediction = modelo.predict(x_test_padded)"
   ]
  },
  {
   "cell_type": "code",
   "execution_count": 16,
   "id": "d203ccd3-9ad7-4d68-847d-b92c7bc52ba4",
   "metadata": {},
   "outputs": [],
   "source": [
    "prediction_list = []\n",
    "for i in range(len(prediction)):\n",
    "    if prediction[i].item() > 0.5:\n",
    "        prediction_list.append(1)\n",
    "    else:\n",
    "        prediction_list.append(0)"
   ]
  },
  {
   "cell_type": "code",
   "execution_count": 17,
   "id": "2a817e50-3bf8-4f6e-bd62-cd75d86f9811",
   "metadata": {},
   "outputs": [
    {
     "name": "stdout",
     "output_type": "stream",
     "text": [
      "Model Accuracy :  0.9944320712694877\n"
     ]
    }
   ],
   "source": [
    "from sklearn.metrics import accuracy_score\n",
    "\n",
    "accuracy = accuracy_score(list(y_test), prediction_list)\n",
    "\n",
    "print(\"Model Accuracy : \", accuracy)"
   ]
  },
  {
   "cell_type": "code",
   "execution_count": 18,
   "id": "caaa2cad-1d26-44eb-b77b-7bdc41b564f3",
   "metadata": {},
   "outputs": [
    {
     "data": {
      "text/plain": [
       "[Text(0, 0.5, 'Reales(0)'), Text(0, 1.5, 'Falsas(1)')]"
      ]
     },
     "execution_count": 18,
     "metadata": {},
     "output_type": "execute_result"
    },
    {
     "data": {
      "image/png": "[encoded data removed]",
      "text/plain": [
       "<Figure size 432x288 with 2 Axes>"
      ]
     },
     "metadata": {
      "needs_background": "light"
     },
     "output_type": "display_data"
    }
   ],
   "source": [
    "from sklearn.metrics import confusion_matrix\n",
    "import matplotlib.pyplot as plt\n",
    "import seaborn as sns\n",
    "import numpy as np\n",
    "\n",
    "cm = confusion_matrix(list(y_test), prediction_list, labels=[0,1])\n",
    "\n",
    "# group_names = ['True Neg','False Pos','False Neg','True Pos']\n",
    "group_names = ['Verdaderos Positivos','Falsos Positivo','Falsos Negativos','Verdaderos Negativos']\n",
    "group_counts = [\"{0:0.0f}\".format(value) for value in\n",
    "                cm.flatten()]\n",
    "group_percentages = [\"{0:.2%}\".format(value) for value in\n",
    "                     cm.flatten()/np.sum(cm)]\n",
    "labels = [f\"{v1}\\n{v2}\\n{v3}\" for v1, v2, v3 in\n",
    "          zip(group_names,group_counts,group_percentages)]\n",
    "labels = np.asarray(labels).reshape(2,2)\n",
    "\n",
    "precision = cm[1,1] / sum(cm[:,1])\n",
    "recall    = cm[1,1] / sum(cm[1,:])\n",
    "f1_score  = 2*precision*recall / (precision + recall)\n",
    "stats_text = \"\\nAccuracy={:0.3f}\\nPrecision={:0.3f}\\nRecall={:0.3f}\\nF1 Score={:0.3f}\".format(accuracy,precision,recall,f1_score)\n",
    "\n",
    "ax= plt.subplot()\n",
    "sns.heatmap(cm, annot=labels, fmt='', cmap='Blues', ax = ax); #annot=True to annotate cells\n",
    "\n",
    "ax.set_xlabel('Predicted label' + stats_text)\n",
    "\n",
    "# labels, title and ticks\n",
    "ax.set_xlabel(\"Valores predicción \\n\\n Métricas\" + stats_text)\n",
    "ax.set_ylabel('Valores Reales')\n",
    "ax.set_title('Matriz de confusión')\n",
    "ax.xaxis.set_ticklabels(['Reales(0)', 'Falsas(1)'])\n",
    "ax.yaxis.set_ticklabels(['Reales(0)', 'Falsas(1)'])"
   ]
  },
  {
   "cell_type": "code",
   "execution_count": null,
   "id": "2ebeb042-ac5e-4bb3-af68-5f3855c32f01",
   "metadata": {},
   "outputs": [],
   "source": []
  }
 ],
 "metadata": {
  "kernelspec": {
   "display_name": "Python 3",
   "language": "python",
   "name": "python3"
  },
  "language_info": {
   "codemirror_mode": {
    "name": "ipython",
    "version": 3
   },
   "file_extension": ".py",
   "mimetype": "text/x-python",
   "name": "python",
   "nbconvert_exporter": "python",
   "pygments_lexer": "ipython3",
   "version": "3.8.8"
  }
 },
 "nbformat": 4,
 "nbformat_minor": 5
}